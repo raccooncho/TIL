{
 "cells": [
  {
   "cell_type": "code",
   "execution_count": 17,
   "metadata": {},
   "outputs": [],
   "source": [
    "key = a\n",
    "day = '20190113'\n",
    "URL = f'http://www.kobis.or.kr/kobisopenapi/webservice/rest/boxoffice/searchWeeklyBoxOfficeList.json?key={key}&targetDt={day}'"
   ]
  },
  {
   "cell_type": "code",
   "execution_count": 18,
   "metadata": {},
   "outputs": [],
   "source": [
    "import requests\n",
    "\n",
    "data = requests.get(URL).json()\n"
   ]
  },
  {
   "cell_type": "code",
   "execution_count": 19,
   "metadata": {},
   "outputs": [
    {
     "data": {
      "text/plain": [
       "[[1, '20184105', '말모이', '1185368', '20190113'],\n",
       " [2, '20176251', '내안의 그놈', '765383', '20190113'],\n",
       " [3, '20189463', '주먹왕 랄프 2: 인터넷 속으로', '1342315', '20190113'],\n",
       " [4, '20183915', '극장판 공룡메카드: 타이니소어의 섬', '289873', '20190113'],\n",
       " [5, '20180290', '아쿠아맨', '4920735', '20190113'],\n",
       " [6, '20185485', '보헤미안 랩소디', '9785643', '20190113'],\n",
       " [7, '20184574', '그린 북', '99569', '20190113'],\n",
       " [8, '20186281', '범블비', '1553491', '20190113'],\n",
       " [9, '20170658', 'PMC: 더 벙커', '1665204', '20190113'],\n",
       " [10, '20187427', '명탐정 코난 : 제로의 집행인', '414506', '20190113']]"
      ]
     },
     "execution_count": 19,
     "metadata": {},
     "output_type": "execute_result"
    }
   ],
   "source": [
    "result = data['boxOfficeResult']['weeklyBoxOfficeList']\n",
    "movie_name = [[i+1, result[i]['movieCd'], result[i]['movieNm'], result[i]['audiAcc'], day] for i in range(10)]\n",
    "movie_name"
   ]
  }
 ],
 "metadata": {
  "kernelspec": {
   "display_name": "Python 3",
   "language": "python",
   "name": "python3"
  },
  "language_info": {
   "codemirror_mode": {
    "name": "ipython",
    "version": 3
   },
   "file_extension": ".py",
   "mimetype": "text/x-python",
   "name": "python",
   "nbconvert_exporter": "python",
   "pygments_lexer": "ipython3",
   "version": "3.6.7"
  }
 },
 "nbformat": 4,
 "nbformat_minor": 2
}
