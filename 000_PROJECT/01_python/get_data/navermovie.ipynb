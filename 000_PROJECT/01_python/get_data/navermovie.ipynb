{
 "cells": [
  {
   "cell_type": "code",
   "execution_count": null,
   "metadata": {},
   "outputs": [],
   "source": [
    "import requests\n",
    "movies = ['말모이', '주먹왕 랄프', '보헤미안 랩소디']\n",
    "URL = f'https://openapi.naver.com/v1/search/movie.json?query='\n",
    "client_id = a\n",
    "client_secret = a\n",
    "headers = { 'X-Naver-Client-Id': client_id, 'X-Naver-Client-Secret': client_secret }\n",
    "data = requests.get(URL + movies[2], headers=headers).json()\n",
    "data"
   ]
  },
  {
   "cell_type": "code",
   "execution_count": null,
   "metadata": {},
   "outputs": [],
   "source": [
    "result = []\n",
    "for movie in movies:\n",
    "    movie_info = {}\n",
    "    data_set = requests.get(URL + movie, headers=headers).json()['items'][0]\n",
    "    movie_info['name'] =data_set['title']\n",
    "    movie_info['link'] = data_set['link']\n",
    "    movie_info['image'] = data_set['image']\n",
    "    result.append(movie_info)\n",
    "result"
   ]
  },
  {
   "cell_type": "code",
   "execution_count": 2,
   "metadata": {},
   "outputs": [],
   "source": [
    "import requests\n",
    "from datetime import datetime, timedelta\n",
    "import csv\n",
    "key = a\n",
    "movie_list = []\n",
    "movie_data_w = {}\n",
    "\n",
    "time1 = datetime(2019,1,13)\n",
    "day = []\n",
    "for i in range(10):\n",
    "    times = time1 + timedelta(days =- 7*i)\n",
    "    day.append(times.strftime('%Y%m%d'))\n",
    "day.reverse()\n"
   ]
  },
  {
   "cell_type": "code",
   "execution_count": 3,
   "metadata": {},
   "outputs": [],
   "source": [
    "for j in range(10):\n",
    "    URL_w = f'http://www.kobis.or.kr/kobisopenapi/webservice/rest/boxoffice/searchWeeklyBoxOfficeList.json?key={key}&targetDt={day[j]}&weekGb=0'\n",
    "    data_w = requests.get(URL_w).json()\n",
    "    result_w = data_w['boxOfficeResult']['weeklyBoxOfficeList']\n",
    "\n",
    "    for i in range(10):\n",
    "        simple_data = {}\n",
    "        simple_data['moviecd'] = result_w[i]['movieCd']\n",
    "        simple_data['name'] = result_w[i]['movieNm']\n",
    "        simple_data['audience'] = result_w[i]['audiAcc']\n",
    "        simple_data['day'] = day[j]\n",
    "        if simple_data['moviecd'] not in movie_list:\n",
    "            movie_list.append(simple_data['moviecd'])\n",
    "            movie_data_w[result_w[i]['movieNm']] = simple_data\n",
    "        else:\n",
    "            movie_data_w[result_w[i]['movieNm']]['audience'] = result_w[i]['audiAcc']\n",
    "            movie_data_w[result_w[i]['movieNm']]['day'] = day[j]\n"
   ]
  },
  {
   "cell_type": "code",
   "execution_count": 42,
   "metadata": {},
   "outputs": [],
   "source": [
    "import csv\n",
    "\n",
    "f = open('boxoffice.csv', 'w+', encoding='utf-8', newline='' )\n",
    "writer = csv.writer(f)\n",
    "writer.writerow(['영화코드', '영화제목', '누적관객', '검색일'])\n",
    "for key, value in movie_data_w.items():\n",
    "    result = []\n",
    "    result += value['moviecd'], value['name'], value['audience'], value['day']\n",
    "    writer.writerow(result)\n",
    "f.close()"
   ]
  },
  {
   "cell_type": "code",
   "execution_count": 74,
   "metadata": {},
   "outputs": [],
   "source": [
    "key = a\n",
    "movie_data_i = {}\n",
    "movie_names = []\n",
    "for i in range(len(movie_list)):\n",
    "    URL_i = f'http://www.kobis.or.kr/kobisopenapi/webservice/rest/movie/searchMovieInfo.json?key={key}&movieCd={movie_list[i]}'\n",
    "    data_i = requests.get(URL_i).json()\n",
    "    result_i = data_i['movieInfoResult']['movieInfo']\n",
    "    result = {}\n",
    "    result['moviecd'] = movie_list[i]\n",
    "    result['name'] = result_i['movieNm']\n",
    "    result['nameE'] = result_i['movieNmEn'].replace(',', '.')\n",
    "    result['nameO'] = result_i['movieNmOg']\n",
    "    result['year'] = result_i['prdtYear']\n",
    "    result['showtime'] = result_i['showTm'] + 'min'\n",
    "    result['genre'] = result_i['genres'][0]['genreNm']\n",
    "    result['direc'] = result_i['directors'][0]['peopleNm']\n",
    "    result['audit'] = result_i['audits'][0]['watchGradeNm']\n",
    "    result['actor1'] = ''\n",
    "    result['actor2'] = ''\n",
    "    result['actor3'] = ''\n",
    "    if len(result_i['actors']) > 0:\n",
    "        result['actor1'] = result_i['actors'][0]['peopleNm']\n",
    "        if len(result_i['actors']) > 1:\n",
    "            result['actor2'] = result_i['actors'][1]['peopleNm']\n",
    "            if len(result_i['actors']) > 2:\n",
    "                result['actor3'] += result_i['actors'][2]['peopleNm']\n",
    "    movie_data_i[result_i['movieNm']] = result\n",
    "    movie_names.append(result['name'])\n"
   ]
  },
  {
   "cell_type": "code",
   "execution_count": 44,
   "metadata": {},
   "outputs": [],
   "source": [
    "f = open('movie.csv', 'w+', encoding='utf-8', newline='')\n",
    "writer = csv.writer(f)\n",
    "writer.writerow(['영화코드','영화제목','영문제목', '원어제목', '개봉년', '상영시간', '장르', '감독', '관람등급', '배우1', '배우2', '배우3'])\n",
    "for key, value in movie_data_i.items():\n",
    "    result = []\n",
    "    result += value['moviecd'], value['name'], value['nameE'], value['nameO'], value['year'], value['showtime'], value['genre'], value['direc'], value['audit'], value['actor1'], value['actor2'], value['actor3']\n",
    "    writer.writerow(result)\n",
    "f.close()"
   ]
  },
  {
   "cell_type": "code",
   "execution_count": null,
   "metadata": {},
   "outputs": [],
   "source": [
    "def downloadImage(self):\n",
    "    request = urllib2.Request(self.url)\n",
    "    pic = urllib2.urlopen(request)\n",
    "    filePath = localSaveRoot + self.catalog  + self.fileName + Picture.postfix\n",
    "    with open(filePath, 'wb') as localFile:\n",
    "        localFile.write(pic.read())"
   ]
  },
  {
   "cell_type": "code",
   "execution_count": 94,
   "metadata": {},
   "outputs": [],
   "source": [
    "import time\n",
    "movie_data_n = {}\n",
    "count = 0\n",
    "for movie in movie_names:\n",
    "    URL = f'https://openapi.naver.com/v1/search/movie.json?query='\n",
    "    client_id = a\n",
    "    client_secret = a\n",
    "    headers = { 'X-Naver-Client-Id': client_id, 'X-Naver-Client-Secret': client_secret }\n",
    "    data_n = requests.get(URL + movie, headers=headers).json()['items'][0]\n",
    "    result = {}\n",
    "    result['name'] = movie\n",
    "    result['moviecd'] = movie_list[count]\n",
    "    result['image'] = data_n['image']\n",
    "    result['url'] = data_n['link']\n",
    "    result['rate'] = data_n['userRating']\n",
    "    movie_data_n[result['name']] = result\n",
    "    count += 1\n",
    "    if count % 5 == 0:\n",
    "        time.sleep(1)\n",
    "    fileurl = result['image']\n",
    "    filename = result['moviecd']\n",
    "    f = open('./picture/'+filename+'.jpg', 'wb+')    \n",
    "    response = requests.get(fileurl, stream=True)\n",
    "    for block in response.iter_content(1024):\n",
    "        if not block:\n",
    "            break\n",
    "        f.write(block)\n",
    "    f.close()\n",
    "    "
   ]
  },
  {
   "cell_type": "code",
   "execution_count": 83,
   "metadata": {},
   "outputs": [],
   "source": [
    "f = open('movie_naver.csv', 'w+', encoding='utf-8', newline='')\n",
    "writer = csv.writer(f)\n",
    "writer.writerow(['영화제목','영화코드','썸네일', 'URL', '평점'])\n",
    "for key, value in movie_data_n.items():\n",
    "    result = []\n",
    "    result += value['name'], value['moviecd'], value['image'], value['url'], value['rate']\n",
    "    writer.writerow(result)\n",
    "f.close()"
   ]
  },
  {
   "cell_type": "code",
   "execution_count": null,
   "metadata": {},
   "outputs": [],
   "source": []
  }
 ],
 "metadata": {
  "kernelspec": {
   "display_name": "Python 3",
   "language": "python",
   "name": "python3"
  },
  "language_info": {
   "codemirror_mode": {
    "name": "ipython",
    "version": 3
   },
   "file_extension": ".py",
   "mimetype": "text/x-python",
   "name": "python",
   "nbconvert_exporter": "python",
   "pygments_lexer": "ipython3",
   "version": "3.6.7"
  }
 },
 "nbformat": 4,
 "nbformat_minor": 2
}
