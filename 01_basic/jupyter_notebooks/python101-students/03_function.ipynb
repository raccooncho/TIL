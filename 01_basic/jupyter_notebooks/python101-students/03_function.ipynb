{
 "cells": [
  {
   "cell_type": "code",
   "execution_count": null,
   "metadata": {},
   "outputs": [],
   "source": [
    "# for youtube disply\n",
    "from IPython.display import YouTubeVideo"
   ]
  },
  {
   "cell_type": "markdown",
   "metadata": {
    "slideshow": {
     "slide_type": "slide"
    }
   },
   "source": [
    "# 함수(function) 기초"
   ]
  },
  {
   "cell_type": "markdown",
   "metadata": {
    "slideshow": {
     "slide_type": "-"
    }
   },
   "source": [
    "<center>\n",
    "    <img src=\"./images/02_1/func.png\", alt=\"func.png\">\n",
    "</center>"
   ]
  },
  {
   "cell_type": "markdown",
   "metadata": {
    "slideshow": {
     "slide_type": "slide"
    }
   },
   "source": [
    "## 들어가기전에\n",
    "\n",
    "> 직사각형의 둘레와 면적을 구하는 코드를 작성해주세요.\n",
    "\n",
    "```python\n",
    "height = 30\n",
    "width = 20\n",
    "```\n",
    "\n",
    "---\n",
    "```\n",
    "예시 출력)\n",
    "직사각형 둘레: 100, 면적: 600입니다.\n",
    "```"
   ]
  },
  {
   "cell_type": "code",
   "execution_count": null,
   "metadata": {},
   "outputs": [],
   "source": [
    "height = 30\n",
    "width = 20\n",
    "# 아래에 코드를 작성하세요.\n",
    "perimeter = (height + width)*2\n",
    "area = height * width\n",
    "print(f'직사각형 둘레는 {perimeter}이고 면적은 {area}입니다.')"
   ]
  },
  {
   "cell_type": "markdown",
   "metadata": {
    "slideshow": {
     "slide_type": "subslide"
    }
   },
   "source": [
    "* 앞서 작성한 코드에서 매번 사각형의 둘레와 면적을 구하기 위해서는 변수에 값을 바꾸거나 코드를 복사 붙여넣기 해야합니다.\n",
    "* 코드가 많아질수록 문제가 발생할 확률이 높아지며, 유지 보수하기도 힘들어진다."
   ]
  },
  {
   "cell_type": "markdown",
   "metadata": {},
   "source": [
    "<center>\n",
    "    <img src=\"./images/02_1/emc2.png\", alt=\"programming principle\">\n",
    "</center>"
   ]
  },
  {
   "cell_type": "markdown",
   "metadata": {
    "slideshow": {
     "slide_type": "subslide"
    }
   },
   "source": [
    "<center>\n",
    "    <img src=\"./images/02_1/principle.png\", alt=\"programming principle\">\n",
    "</center>"
   ]
  },
  {
   "cell_type": "code",
   "execution_count": null,
   "metadata": {
    "slideshow": {
     "slide_type": "subslide"
    }
   },
   "outputs": [],
   "source": [
    "# 위의 코드를 함수로 아래와 같이 작성할 수 있습니다.\n",
    "\n",
    "def rectangle(width, height):\n",
    "    area = width * height\n",
    "    perimeter = (width + height) * 2\n",
    "    print(f'직사각형 둘레는 {perimeter}이고 면적은 {area}입니다.')\n",
    "    return '퉤!'\n",
    "    \n",
    "rectangle(20, 30)\n"
   ]
  },
  {
   "cell_type": "markdown",
   "metadata": {
    "slideshow": {
     "slide_type": "slide"
    }
   },
   "source": [
    "## 개요\n",
    "\n",
    "**활용법**\n",
    "\n",
    "```\n",
    "def func(parameter1, parameter2):\n",
    "    code line1\n",
    "    code line2\n",
    "    return value\n",
    "```\n",
    "\n",
    "* 함수 선언은 `def`로 시작하여 `:`으로 끝나고, 다음은 `4spaces 들여쓰기`로 코드 블록을 만듭니다.\n",
    "\n",
    "\n",
    "* 함수는 `매개변수(parameter)`를 넘겨줄 수도 있습니다.\n",
    "\n",
    "\n",
    "* 함수는 동작후에 `return`을 통해 결과값을 전달 할 수도 있습니다.\n",
    "\n",
    "    (`return` 값이 없으면, None을 반환합니다.)\n",
    "\n"
   ]
  },
  {
   "cell_type": "markdown",
   "metadata": {
    "slideshow": {
     "slide_type": "subslide"
    }
   },
   "source": [
    "<center>\n",
    "    <img src=\"./images/02_1/func_des.png\", alt=\"function descrpition\">\n",
    "</center>"
   ]
  },
  {
   "cell_type": "markdown",
   "metadata": {
    "slideshow": {
     "slide_type": "subslide"
    }
   },
   "source": [
    "<center>\n",
    "    <img src=\"./images/02_1/function_ex.png\", alt=\"function_example\">\n",
    "</center>a"
   ]
  },
  {
   "cell_type": "code",
   "execution_count": null,
   "metadata": {
    "slideshow": {
     "slide_type": "subslide"
    }
   },
   "outputs": [],
   "source": [
    "# 우리가 활용하는 print문도 파이썬에 지정된 함수입니다. \n",
    "# 아래에서 'hi'는 parameter이고 출력을 하게 됩니다.\n",
    "a = int('1')\n",
    "b = print('hi')\n",
    "c = rectangle(10, 20)\n",
    "\n",
    "print(a)\n",
    "print(b)\n",
    "print(c)"
   ]
  },
  {
   "cell_type": "markdown",
   "metadata": {
    "slideshow": {
     "slide_type": "subslide"
    }
   },
   "source": [
    "<center>\n",
    "    <img src=\"./images/02_1/built_in.png\", alt=\"built_in\">\n",
    "</center>\n",
    "\n",
    "[출처: python 공식문서](https://docs.python.org/3/library/functions.html)"
   ]
  },
  {
   "cell_type": "code",
   "execution_count": null,
   "metadata": {},
   "outputs": [],
   "source": [
    "# 내장함수 목록을 직접 볼 수도 있습니다.\n",
    "dir(__builtins__)"
   ]
  },
  {
   "cell_type": "markdown",
   "metadata": {
    "slideshow": {
     "slide_type": "slide"
    }
   },
   "source": [
    "# 함수의 return\n",
    "\n",
    "앞서 설명한 것과 마찬가지로 함수는 반환되는 값이 있으며, 이는 어떠한 종류의 객체여도 상관없습니다. \n",
    " \n",
    "단, 오직 한 개의 객체만 반환됩니다.\n",
    "\n",
    "함수가 return 되거나 종료되면, 함수를 호출한 곳으로 돌아갑니다."
   ]
  },
  {
   "cell_type": "code",
   "execution_count": null,
   "metadata": {},
   "outputs": [],
   "source": [
    "def yes_in_yes_out(x):\n",
    "    return x\n",
    "\n",
    "def yes_in_no_out(x):\n",
    "    print(x)\n",
    "    \n",
    "def no_in_yes_out():\n",
    "    return 'ss3'\n",
    "\n",
    "def no_in_no_out():\n",
    "    print('ss3')"
   ]
  },
  {
   "cell_type": "markdown",
   "metadata": {
    "slideshow": {
     "slide_type": "subslide"
    }
   },
   "source": [
    "## 실습문제\n",
    "\n",
    "> 아래의 코드와 동일한 `my_max`함수를 만들어주세요.\n",
    ">\n",
    "> 정수를 두개 받아서, 큰 값을 반환합니다. \n",
    "\n",
    "```python\n",
    "max(1, 5)\n",
    "```\n",
    "---\n",
    "```\n",
    "예상 출력)\n",
    "5\n",
    "```\n"
   ]
  },
  {
   "cell_type": "code",
   "execution_count": null,
   "metadata": {},
   "outputs": [],
   "source": [
    "def my_max(a, b):\n",
    "    if a > b:\n",
    "        return a\n",
    "    else: \n",
    "        return b\n",
    "my_max(5, 1)"
   ]
  },
  {
   "cell_type": "code",
   "execution_count": null,
   "metadata": {},
   "outputs": [],
   "source": [
    "# 여기에 my_max 함수를 만들어주세요.\n",
    "def my_max(num1, num2):\n",
    "    num = num1 if num1 > num2 else num2\n",
    "    return num\n",
    "my_max(100,2)"
   ]
  },
  {
   "cell_type": "markdown",
   "metadata": {
    "slideshow": {
     "slide_type": "slide"
    }
   },
   "source": [
    "# 함수의 인수\n",
    "\n",
    "함수는 `인자(parameter)`를 넘겨줄 수 있습니다.\n",
    "\n",
    "## 위치 인수\n",
    "\n",
    "함수는 기본적으로 인수를 위치로 판단합니다."
   ]
  },
  {
   "cell_type": "code",
   "execution_count": null,
   "metadata": {},
   "outputs": [],
   "source": [
    "def my_func(a, b, c):\n",
    "    return a * b + c\n",
    "print(my_func(1, 2, 3))\n",
    "print(my_func(3, 2, 1))"
   ]
  },
  {
   "cell_type": "markdown",
   "metadata": {
    "slideshow": {
     "slide_type": "subslide"
    }
   },
   "source": [
    "<center>\n",
    "    <img src=\"./images/02_1/func_ex_01.png\", alt=\"function example 02\">\n",
    "</center>"
   ]
  },
  {
   "cell_type": "markdown",
   "metadata": {
    "slideshow": {
     "slide_type": "slide"
    }
   },
   "source": [
    "## 기본 값(Default Argument Values)\n",
    "\n",
    "함수가 호출될 때, 인자를 지정하지 않아도 기본 값을 설정할 수 있습니다. \n",
    "\n",
    "**활용법**\n",
    "```\n",
    "def func(p1=v1):\n",
    "    return p1\n",
    "```"
   ]
  },
  {
   "cell_type": "code",
   "execution_count": null,
   "metadata": {},
   "outputs": [],
   "source": [
    "def greeting(name='ssafy'):\n",
    "    return f'{name}, 안녕?'\n",
    "\n",
    "print(greeting('Cho'))\n",
    "print(greeting())\n",
    "    "
   ]
  },
  {
   "cell_type": "markdown",
   "metadata": {
    "slideshow": {
     "slide_type": "subslide"
    }
   },
   "source": [
    "* 기본 인자 값이 설정되어 있더라도 기존의 함수와 동일하게 호출 가능합니다.\n",
    "<center>\n",
    "    <img src=\"./images/02_1/func_ex_02.png\", alt=\"function example 02\">\n",
    "</center>"
   ]
  },
  {
   "cell_type": "markdown",
   "metadata": {
    "slideshow": {
     "slide_type": "subslide"
    }
   },
   "source": [
    "* 호출시 인자가 없으면 기본 인자 값이 활용됩니다.\n",
    "<center>\n",
    "    <img src=\"./images/02_1/func_ex_03.png\", alt=\"function example 03\">\n",
    "</center>"
   ]
  },
  {
   "cell_type": "markdown",
   "metadata": {
    "slideshow": {
     "slide_type": "subslide"
    }
   },
   "source": [
    "* 단, 기본 매개변수 이후에 기본 값이 없는 매개변수를 사용할 수는 없습니다."
   ]
  },
  {
   "cell_type": "code",
   "execution_count": null,
   "metadata": {},
   "outputs": [],
   "source": [
    "def greeting(age, name='ssafy'):\n",
    "    return f'{name}은 {age}살 입니다.'"
   ]
  },
  {
   "cell_type": "code",
   "execution_count": null,
   "metadata": {},
   "outputs": [],
   "source": [
    "print(greeting(1))\n",
    "print(greeting(0, '미래의 ssafy'))\n",
    "print(greeting())"
   ]
  },
  {
   "cell_type": "markdown",
   "metadata": {
    "slideshow": {
     "slide_type": "slide"
    }
   },
   "source": [
    "## 키워드 인자(Keyword Arguments)\n",
    "\n",
    "키워드 인자는 직접적으로 변수의 이름으로 특정 인자를 전달할 수 있습니다."
   ]
  },
  {
   "cell_type": "code",
   "execution_count": null,
   "metadata": {},
   "outputs": [],
   "source": [
    "def greeting(age, name='ssafy'):\n",
    "    return f'{name}은 {age}살 입니다.'\n",
    "print(greeting(30, '서른즈음에'))\n",
    "print(greeting(name='아홉수인생', age=29))"
   ]
  },
  {
   "cell_type": "markdown",
   "metadata": {
    "slideshow": {
     "slide_type": "subslide"
    }
   },
   "source": [
    "* 단 아래와 같이 활용할 수는 없습니다. 키워드 인자를 활용한 뒤에 위치 인자를 활용할 수는 없습니다."
   ]
  },
  {
   "cell_type": "code",
   "execution_count": null,
   "metadata": {},
   "outputs": [],
   "source": [
    "greeting(age=60, '환갑')"
   ]
  },
  {
   "cell_type": "markdown",
   "metadata": {
    "slideshow": {
     "slide_type": "subslide"
    }
   },
   "source": [
    "우리가 주로 활용하는 `print()` 함수는 [파이썬 표준 라이브러리의 내장함수](https://docs.python.org/ko/3.6/library/functions.html) 중 하나이며, 다음과 같이 구성되어 있다.\n",
    "\n",
    "<br>\n",
    "<br>\n",
    "<center>\n",
    "    <img src=\"./images/02_1/print.png\", alt=\"print\">\n",
    "</center>"
   ]
  },
  {
   "cell_type": "code",
   "execution_count": null,
   "metadata": {},
   "outputs": [],
   "source": [
    "print('hi', end='_')\n",
    "print('hi', end='!')"
   ]
  },
  {
   "cell_type": "markdown",
   "metadata": {
    "slideshow": {
     "slide_type": "slide"
    }
   },
   "source": [
    "## 가변 인자 리스트\n",
    "\n",
    "앞서 설명한 `print()`처럼 정해지지 않은 임의의 숫자의 인자를 받기 위해서는 가변인자를 활용합니다. \n",
    "\n",
    "가변인자는 `tuple` 형태로 처리가 되며, `*`로 표현합니다. \n",
    "\n",
    "**활용법**\n",
    "\n",
    "```\n",
    "def func(*agrs):\n",
    "```"
   ]
  },
  {
   "cell_type": "code",
   "execution_count": null,
   "metadata": {},
   "outputs": [],
   "source": [
    "# print문은 *obejcts를 통해 임의의 숫자의 인자를 모두 처리합니다.\n",
    "print(1, 2, 3, 4, 5, 6, end='~!', sep='&')\n"
   ]
  },
  {
   "cell_type": "code",
   "execution_count": null,
   "metadata": {},
   "outputs": [],
   "source": [
    "def unknown_args(*args):\n",
    "    print(args, type(args))\n",
    "    \n",
    "unknown_args(1, 2, 3, 4, 5, ['a', 'b'])"
   ]
  },
  {
   "cell_type": "markdown",
   "metadata": {
    "slideshow": {
     "slide_type": "subslide"
    }
   },
   "source": [
    "### 실습문제\n",
    "\n",
    "> 정수를 여러 개 받아서 가장 큰 값을 반환(return)하는 `my_max()`을 만들어주세요.\n",
    "\n",
    "```python\n",
    "my_max(10, 20, 30, 50)\n",
    "```\n",
    "---\n",
    "```\n",
    "예시출력)\n",
    "50\n",
    "```"
   ]
  },
  {
   "cell_type": "code",
   "execution_count": null,
   "metadata": {
    "scrolled": true
   },
   "outputs": [],
   "source": [
    "def my_max(*num):\n",
    "    max_num = num[0]\n",
    "    for i in num:\n",
    "        if i > max_num:\n",
    "            max_num = i\n",
    "    return max_num\n",
    "print(my_max(10, 20, 30, 40, 50, -99))"
   ]
  },
  {
   "cell_type": "code",
   "execution_count": null,
   "metadata": {},
   "outputs": [],
   "source": [
    "# 아래에 코드를 작성해주세요.\n"
   ]
  },
  {
   "cell_type": "markdown",
   "metadata": {
    "slideshow": {
     "slide_type": "slide"
    }
   },
   "source": [
    "## 정의되지 않은 인자 처리하기\n",
    "\n",
    "`**kwagrs`를 통해 인자를 받아 처리할 수 있습니다.\n",
    "\n",
    "kwagrs는 `dict`형태로 처리가 됩니다."
   ]
  },
  {
   "cell_type": "markdown",
   "metadata": {},
   "source": [
    "우리가 dictionary를 만들 때 사용할 수 있는 `dict()` 함수는 [파이썬 표준 라이브러리의 내장함수](https://docs.python.org/ko/3.6/library/functions.html) 중 하나이며, 다음과 같이 구성되어 있다.\n",
    "<br>\n",
    "<br>\n",
    "<center>\n",
    "    <img src=\"./images/02_1/dict.png\", alt=\"dictionary\">\n",
    "</center>"
   ]
  },
  {
   "cell_type": "code",
   "execution_count": null,
   "metadata": {},
   "outputs": [],
   "source": [
    "result = dict(한국어='안녕', 영어='hi')\n",
    "print(result)"
   ]
  },
  {
   "cell_type": "code",
   "execution_count": null,
   "metadata": {},
   "outputs": [],
   "source": [
    "def unknown_things(**args):\n",
    "    return args\n",
    "\n",
    "print(unknown_things(a=1, b=2, c=3, d=4))"
   ]
  },
  {
   "cell_type": "markdown",
   "metadata": {
    "slideshow": {
     "slide_type": "subslide"
    }
   },
   "source": [
    "### 실습문제 \n",
    "\n",
    "> 앞선 fake_dict는 단순히 dictionary 형태로 print를 합니다. \n",
    ">\n",
    "> `my_dict()` 함수를 만들어 실제로 dictionary를 반환하는 함수를 만들어보세요."
   ]
  },
  {
   "cell_type": "code",
   "execution_count": null,
   "metadata": {},
   "outputs": [],
   "source": [
    "# 아래에 코드를 작성해주세요.\n",
    "def my_dict(**kwargs):\n",
    "    return kwargs\n",
    "\n",
    "my_dict(ssafy='1기', classname='ss3', classroom=703)"
   ]
  },
  {
   "cell_type": "markdown",
   "metadata": {
    "slideshow": {
     "slide_type": "slide"
    }
   },
   "source": [
    "## dictionary를 인자로 넘기기(unpacking arguments list)\n",
    "\n",
    "`**dict`를 통해 함수에 인자를 넘길 수 있습니다."
   ]
  },
  {
   "cell_type": "code",
   "execution_count": null,
   "metadata": {},
   "outputs": [],
   "source": [
    "def signup(username, password, password_confirmation):\n",
    "    #username이 중복되는지 확인하는 코드는 생략 (username in username같은 형식으로 구현)\n",
    "    if password == password_confirmation:\n",
    "        return True\n",
    "    else:\n",
    "        return False"
   ]
  },
  {
   "cell_type": "code",
   "execution_count": null,
   "metadata": {},
   "outputs": [],
   "source": [
    "new_account = {\n",
    "    'username': 'raccooncho',\n",
    "    'password': 'abcdefg',\n",
    "    'password_confirmation': 'abcdefg'\n",
    "}\n",
    "# signup(new_account.values())"
   ]
  },
  {
   "cell_type": "code",
   "execution_count": null,
   "metadata": {},
   "outputs": [],
   "source": [
    "signup(**new_account)\n",
    "print(signup(**new_account))"
   ]
  },
  {
   "cell_type": "markdown",
   "metadata": {
    "slideshow": {
     "slide_type": "slide"
    }
   },
   "source": [
    "## 이름공간 및 스코프(Scope)\n",
    "\n",
    "파이썬에서 사용되는 이름들은 이름공간(namespce)에 저장되어 있습니다.\n",
    "그리고, LEGB Rule을 가지고 있습니다. \n",
    "\n",
    "변수에서 값을 찾을 때 아래와 같은 순서대로 이름을 찾아나갑니다.\n",
    "* `L`ocal scope: 정의된 함수\n",
    "* `E`nclosed scope: 상위 함수 \n",
    "* `G`lobal scope: 함수 밖의 변수 혹은 import된 모듈\n",
    "* `B`uilt-in scope: 파이썬안에 내장되어 있는 함수 또는 속성"
   ]
  },
  {
   "cell_type": "code",
   "execution_count": 27,
   "metadata": {},
   "outputs": [
    {
     "name": "stdout",
     "output_type": "stream",
     "text": [
      "samsung\n",
      "hello, samsung\n"
     ]
    }
   ],
   "source": [
    "def print_name(string):\n",
    "    def make_greeting(name):\n",
    "        #string = 'aaa'\n",
    "        print(string)\n",
    "        greeting = f'hello, {name}'\n",
    "        return greeting\n",
    "    print(make_greeting(string))\n",
    "    \n",
    "print_name('samsung')"
   ]
  },
  {
   "cell_type": "code",
   "execution_count": null,
   "metadata": {},
   "outputs": [],
   "source": [
    "# 따라서 첫시간에 내장함수의 식별자를 사용할 수 없었던 예제에서 오류가 생기는 이유를 확인할 수 있습니다."
   ]
  },
  {
   "cell_type": "code",
   "execution_count": null,
   "metadata": {},
   "outputs": [],
   "source": [
    "str = 4\n",
    "str(123)"
   ]
  },
  {
   "cell_type": "markdown",
   "metadata": {
    "slideshow": {
     "slide_type": "fragment"
    }
   },
   "source": [
    "* `str()` 코드가 실행되면\n",
    "* str을 Global scope에서 먼저 찾아서 `str = 4`를 가져오고, \n",
    "* 이는 함수가 아니라 변수이기 때문에 `not callable`하다라는 오류를 내뱉게 됩니다.\n",
    "* 우리가 원하는 `str()`은 Built-in scope에 있기 때문입니다."
   ]
  },
  {
   "cell_type": "code",
   "execution_count": null,
   "metadata": {},
   "outputs": [],
   "source": [
    "del str\n",
    "str(1)"
   ]
  },
  {
   "cell_type": "code",
   "execution_count": null,
   "metadata": {
    "slideshow": {
     "slide_type": "subslide"
    }
   },
   "outputs": [],
   "source": [
    "# print(a)에 무엇이 출력되는지 확인해보세요.\n",
    "a = 1\n",
    "\n",
    "def localscope(a):\n",
    "    return a\n",
    "\n",
    "localscope(5)\n"
   ]
  },
  {
   "cell_type": "code",
   "execution_count": null,
   "metadata": {},
   "outputs": [],
   "source": [
    "a = 1\n",
    "\n",
    "def localscope():\n",
    "    return a\n",
    "\n",
    "localscope()\n"
   ]
  },
  {
   "cell_type": "code",
   "execution_count": null,
   "metadata": {
    "slideshow": {
     "slide_type": "subslide"
    }
   },
   "outputs": [],
   "source": [
    "# 전역 변수를 바꿀 수 있나요?\n",
    "global_num = 3\n",
    "def localscope2():\n",
    "    global_num = 5\n",
    "    print(f'global_num이 {global_num}으로 설정됨!')\n",
    "localscope2()\n",
    "print(global_num)\n",
    "\n"
   ]
  },
  {
   "cell_type": "code",
   "execution_count": null,
   "metadata": {
    "slideshow": {
     "slide_type": "subslide"
    }
   },
   "outputs": [],
   "source": [
    "# 굳이 전역에 있는 변수를 바꾸고 싶다면, 아래와 같이 선언할 수 있습니다.\n",
    "재석 = '국민mc'\n",
    "def localscope2():\n",
    "    global 재석\n",
    "    재석 = '장남' \n",
    "    print(f'<재석>이 {재석}으로 설정됨!')\n",
    "localscope2()\n",
    "print(재석)"
   ]
  },
  {
   "cell_type": "code",
   "execution_count": null,
   "metadata": {
    "slideshow": {
     "slide_type": "subslide"
    }
   },
   "outputs": [],
   "source": [
    "# scope youtube embed\n",
    "# from IPython.display import YouTubeVideo\n",
    "YouTubeVideo('yH_1vwnp3ZQ', width='100%')"
   ]
  },
  {
   "cell_type": "markdown",
   "metadata": {
    "slideshow": {
     "slide_type": "subslide"
    }
   },
   "source": [
    "이름공간은 각자의 수명주기가 있습니다.\n",
    "\n",
    "* built-in scope : 파이썬이 실행된 이후부터 끝까지 \n",
    "\n",
    "* Global scope : 모듈이 호출된 시점 이후 혹은 이름 선언된 이후부터 끝까지\n",
    "\n",
    "* Local/Enclosed scope : 함수가 실행된 시점 이후부터 리턴할때 까지"
   ]
  },
  {
   "cell_type": "markdown",
   "metadata": {},
   "source": [
    "## Lambda 표현식\n",
    "> 함수를 한 줄로 줄여보자!\n",
    "\n",
    "1. `def`를 삭제합니다.\n",
    "* 함수 이름과 인자 사이에 `=`을 넣습니다.\n",
    "* 마법의 단어 `lambda`를 씁니다.\n",
    "* 인자에서 `()`를 지웁니다.\n",
    "* `\\n`을 지웁니다.\n",
    "* `return`도 지웁니다."
   ]
  },
  {
   "cell_type": "code",
   "execution_count": 1,
   "metadata": {},
   "outputs": [
    {
     "data": {
      "text/plain": [
       "27"
      ]
     },
     "execution_count": 1,
     "metadata": {},
     "output_type": "execute_result"
    }
   ],
   "source": [
    "def cube(n):\n",
    "    return n ** 3\n",
    "\n",
    "cube(3)"
   ]
  },
  {
   "cell_type": "code",
   "execution_count": 5,
   "metadata": {
    "scrolled": true
   },
   "outputs": [
    {
     "data": {
      "text/plain": [
       "27"
      ]
     },
     "execution_count": 5,
     "metadata": {},
     "output_type": "execute_result"
    }
   ],
   "source": [
    "cube = lambda n : n**3\n",
    "cube(3)"
   ]
  },
  {
   "cell_type": "code",
   "execution_count": 7,
   "metadata": {},
   "outputs": [
    {
     "data": {
      "text/plain": [
       "6"
      ]
     },
     "execution_count": 7,
     "metadata": {},
     "output_type": "execute_result"
    }
   ],
   "source": [
    "def fact(n):\n",
    "    if n == 1:\n",
    "        return 1\n",
    "    return n * fact(n-1)\n",
    "\n",
    "fact(3)"
   ]
  },
  {
   "cell_type": "code",
   "execution_count": 8,
   "metadata": {
    "scrolled": true
   },
   "outputs": [
    {
     "data": {
      "text/plain": [
       "6"
      ]
     },
     "execution_count": 8,
     "metadata": {},
     "output_type": "execute_result"
    }
   ],
   "source": [
    "fact = lambda n: 1 if n==1 else n * fact(n-1)\n",
    "\n",
    "fact(3)"
   ]
  },
  {
   "cell_type": "code",
   "execution_count": 9,
   "metadata": {},
   "outputs": [
    {
     "data": {
      "text/plain": [
       "6"
      ]
     },
     "execution_count": 9,
     "metadata": {},
     "output_type": "execute_result"
    }
   ],
   "source": [
    "my_add = lambda a, b, c: a + b + c\n",
    "my_add(1, 2, 3)"
   ]
  },
  {
   "cell_type": "code",
   "execution_count": 19,
   "metadata": {},
   "outputs": [
    {
     "ename": "SyntaxError",
     "evalue": "invalid syntax (<ipython-input-19-1dfae74b44b0>, line 14)",
     "output_type": "error",
     "traceback": [
      "\u001b[1;36m  File \u001b[1;32m\"<ipython-input-19-1dfae74b44b0>\"\u001b[1;36m, line \u001b[1;32m14\u001b[0m\n\u001b[1;33m    def add_all(1):\u001b[0m\n\u001b[1;37m                ^\u001b[0m\n\u001b[1;31mSyntaxError\u001b[0m\u001b[1;31m:\u001b[0m invalid syntax\n"
     ]
    }
   ],
   "source": [
    "def key_enter():\n",
    "    print('삐용삐용')\n",
    "\n",
    "key_esc = lambda : print('뿡뿡')\n",
    "\n",
    "def typing(button1, button2):\n",
    "    button1()\n",
    "    button2()\n",
    "    return '다눌렀다..'\n",
    "\n",
    "typing(key_enter, key_esc)\n",
    "\n",
    "a = [1, 2, 3]\n",
    "def add_all(1):\n",
    "    return sum(1)\n",
    "\n",
    "add_all(a)\n",
    "    \n",
    "\n",
    "\n",
    "\n",
    "\n"
   ]
  }
 ],
 "metadata": {
  "celltoolbar": "Slideshow",
  "kernelspec": {
   "display_name": "Python 3",
   "language": "python",
   "name": "python3"
  },
  "language_info": {
   "codemirror_mode": {
    "name": "ipython",
    "version": 3
   },
   "file_extension": ".py",
   "mimetype": "text/x-python",
   "name": "python",
   "nbconvert_exporter": "python",
   "pygments_lexer": "ipython3",
   "version": "3.6.7"
  },
  "toc": {
   "base_numbering": 1,
   "nav_menu": {},
   "number_sections": true,
   "sideBar": true,
   "skip_h1_title": false,
   "title_cell": "Table of Contents",
   "title_sidebar": "Contents",
   "toc_cell": false,
   "toc_position": {},
   "toc_section_display": true,
   "toc_window_display": false
  }
 },
 "nbformat": 4,
 "nbformat_minor": 2
}
