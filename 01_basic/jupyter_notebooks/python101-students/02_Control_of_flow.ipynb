{
 "cells": [
  {
   "cell_type": "markdown",
   "metadata": {
    "slideshow": {
     "slide_type": "slide"
    }
   },
   "source": [
    "# 조건문\n",
    "\n",
    "지금까지의 코드는 위에서부터 아래로 순차적으로 명령을 수행하는 프로그램을 작성하였다. \n",
    "\n",
    "제어문(Control of Flow)은 크게 반복문과 조건문으로 나눌 수 있고, 이는 순서도(Flow chart로 표현이 가능하다.)\n",
    "\n",
    "\n",
    "<center> \n",
    "    <img src=\"./images/02/if.png\", alt='if flowchart'/>\n",
    "</center>\n"
   ]
  },
  {
   "cell_type": "code",
   "execution_count": null,
   "metadata": {
    "scrolled": true,
    "slideshow": {
     "slide_type": "subslide"
    }
   },
   "outputs": [],
   "source": [
    "# 위의 flow chart로 표현하면 아래와 같다.\n",
    "a = 5\n",
    "if a > 5:\n",
    "    print(\"5 초과\")\n",
    "else:\n",
    "    print(\"5 이하\")\n",
    "print(a)\n",
    "    "
   ]
  },
  {
   "cell_type": "markdown",
   "metadata": {
    "slideshow": {
     "slide_type": "slide"
    }
   },
   "source": [
    "## 조건문 문법\n",
    "\n",
    "1. `if` 문은 반드시 일정한 참/거짓을 판단할 수 있는 `조건식`과 함께 사용이 되어야한다.\n",
    "`if <조건식>:`\n",
    "\n",
    "2-1. `<조건식>`이 참인 경우 `:` 이후의 문장을 수행한다.\n",
    "\n",
    "2-2. `<조건식>`이 거짓인 경우 `else:` 이후의 문장을 수행한다.\n",
    "\n",
    "* 이때 반드시 **들여쓰기를** 유의해야한다. \n",
    "파이썬에서는 코드 블록을 자바나 C언어의 `{}`와 달리 `들여쓰기`로 판단하기 때문이다.\n",
    "* 앞으로 우리는 `PEP-8`에서 권장하는 `4spaces`를 사용할 것이다.\n"
   ]
  },
  {
   "cell_type": "markdown",
   "metadata": {},
   "source": [
    "<center>\n",
    "    <img src=\"./images/02/if_style.png\", alt=\"if style\"/>\n",
    "</center>"
   ]
  },
  {
   "cell_type": "markdown",
   "metadata": {
    "slideshow": {
     "slide_type": "subslide"
    }
   },
   "source": [
    "<center><strong style=\"font-size: 40px;\">우리는 4spaces를 맞춰서 씁니다!</strong></center>\n",
    "<br>\n",
    "\n",
    "<center>\n",
    "    <img src=\"./images/02/spacetab.png\", alt=\"[space vs tab]\"/>\n",
    "</center>    \n",
    "\n",
    "\n",
    "\n",
    "\n",
    "[출처 : 400,000 GitHub repositories, 1 billion files, 14 terabytes of code: Spaces or Tabs?](https://medium.com/@hoffa/400-000-github-repositories-1-billion-files-14-terabytes-of-code-spaces-or-tabs-7cfe0b5dd7fd)\n"
   ]
  },
  {
   "cell_type": "markdown",
   "metadata": {},
   "source": [
    "### 실습문제1 - 조건문 기초 활용\n",
    "\n",
    "\n",
    "> **조건문을 통해 변수 num의 값과 홀수/짝수 여부를 출력하세요.**\n",
    "\n",
    "---\n",
    "\n",
    "```\n",
    "예시 출력)\n",
    "3\n",
    "홀수입니다.\n",
    "```"
   ]
  },
  {
   "cell_type": "code",
   "execution_count": null,
   "metadata": {
    "scrolled": false,
    "slideshow": {
     "slide_type": "subslide"
    }
   },
   "outputs": [],
   "source": [
    "# 실습!\n",
    "num = int(input(\"점수를 입력하세요 : \"))\n",
    "if num % 2 == 0:\n",
    "    print(\"짝수 입니다.\")\n",
    "else:\n",
    "    print(\"홀수 입니다.\")\n",
    "# 아래에 코드를 작성하세요."
   ]
  },
  {
   "cell_type": "markdown",
   "metadata": {},
   "source": [
    "### 실습문제 2\n",
    "> 아래 코드의 출력 결과를 예상해 보세요"
   ]
  },
  {
   "cell_type": "code",
   "execution_count": null,
   "metadata": {},
   "outputs": [],
   "source": [
    "if True:\n",
    "    if False:\n",
    "        print(1)\n",
    "        print(2)\n",
    "    else:\n",
    "        print(3)\n",
    "else:\n",
    "    print(4)\n",
    "print(5)\n",
    "\n",
    "# 3 5"
   ]
  },
  {
   "cell_type": "markdown",
   "metadata": {},
   "source": [
    "### 실습문제 3\n",
    "> 주머니에 5000원이 있다. 택시를 타려면 주머니에 4천원 이상 혹은 카드가 있어야 한다. 이때 택시를 탈수 있는지를 확인하는 코드를 짜보자."
   ]
  },
  {
   "cell_type": "code",
   "execution_count": null,
   "metadata": {},
   "outputs": [],
   "source": [
    "money = 3000\n",
    "card = True\n",
    "\n",
    "if money >= 4000 or card:\n",
    "    print('택시 ㄱ')\n",
    "else:\n",
    "    print('BMW')"
   ]
  },
  {
   "cell_type": "code",
   "execution_count": null,
   "metadata": {},
   "outputs": [],
   "source": [
    "def is_taxi(money,card):\n",
    "    return '택시 ㄱ' if money >= 4000 or card else 'BMW'\n",
    "    \n",
    "    \n",
    "is_taxi(3000, True)"
   ]
  },
  {
   "cell_type": "markdown",
   "metadata": {
    "slideshow": {
     "slide_type": "slide"
    }
   },
   "source": [
    "## 복수 조건문\n",
    "\n",
    "2개 이상의 조건문을 활용할 경우 `elif <조건식>:`을 활용한다.\n",
    "<center>\n",
    "<img src=\"./images/02/elif.png\", alt=\"elif\">\n",
    "</center>"
   ]
  },
  {
   "cell_type": "markdown",
   "metadata": {
    "slideshow": {
     "slide_type": "subslide"
    }
   },
   "source": [
    "### 실습문제2 - 조건식 2개 이상 활용하기\n",
    "\n",
    "> 조건문을 통해 변수 score에 따른 평점을 출력하세요.\n",
    "\n",
    "|점수|등급|\n",
    "|---|---|\n",
    "|90점 이상|A|\n",
    "|80점 이상|B|\n",
    "|70점 이상|C|\n",
    "|60점 이상|D|\n",
    "|60점 미만|F|\n",
    "\n",
    "--- \n",
    "\n",
    "```\n",
    "예시 출력)\n",
    "B\n",
    "```"
   ]
  },
  {
   "cell_type": "code",
   "execution_count": null,
   "metadata": {
    "slideshow": {
     "slide_type": "-"
    }
   },
   "outputs": [],
   "source": [
    "# 실습!\n",
    "score = int(input(\"점수를 입력하세요 : \"))\n",
    "# 아래에 코드를 작성하세요.\n",
    "if score >= 90:\n",
    "    print('A')\n",
    "elif score >= 80:\n",
    "    print('B')\n",
    "elif score >= 70:\n",
    "    print('C')\n",
    "elif score >= 60:\n",
    "    print('D')\n",
    "else:\n",
    "    print('F')"
   ]
  },
  {
   "cell_type": "markdown",
   "metadata": {
    "slideshow": {
     "slide_type": "subslide"
    }
   },
   "source": [
    "### 실습문제3 - 중첩 조건문 활용\n",
    "\n",
    "> **위의 실습문제 2코드를 활용하여 \n",
    "95점 이상이면, \"참잘했어요\"를 함께 출력해주세요**\n",
    "\n",
    "--- \n",
    "\n",
    "```\n",
    "예시 출력)\n",
    "A\n",
    "참잘했어요\n",
    "```"
   ]
  },
  {
   "cell_type": "code",
   "execution_count": null,
   "metadata": {},
   "outputs": [],
   "source": [
    "# 실습!\n",
    "score = 96\n",
    "if score >= 90:\n",
    "    print('A')\n",
    "    if score >= 95:\n",
    "        print('참잘했어요')\n",
    "elif score >= 80:\n",
    "    print('B')\n",
    "elif score >= 70:\n",
    "    print('C')\n",
    "elif score >= 60:\n",
    "    print('D')\n",
    "else:\n",
    "    print('F')"
   ]
  },
  {
   "cell_type": "code",
   "execution_count": null,
   "metadata": {},
   "outputs": [],
   "source": [
    "# FizzBuzz\n",
    "n = int(input('숫자를 입력 하세요 : '))\n",
    "for i in range(1, n+1):\n",
    "    if i % 3 == 0 and i % 5 == 0:\n",
    "        print('FizzBuzz')\n",
    "    elif i % 3 == 0:\n",
    "        print('Fizz')\n",
    "    elif i % 5 == 0:\n",
    "        print('Buzz')\n",
    "    else:\n",
    "        print(i)\n",
    "    # 3의 배수면, Fizz\n",
    "    # 5의 배수면, Buzz\n",
    "    # 3과 5의 배수면, FizzBuzz"
   ]
  },
  {
   "cell_type": "markdown",
   "metadata": {},
   "source": [
    "### 실습 문제\n",
    "> 정수 3개가 들어온다. 이때, 2번째로 큰 정수를 출력하라"
   ]
  },
  {
   "cell_type": "code",
   "execution_count": null,
   "metadata": {},
   "outputs": [],
   "source": [
    "a, b, c = 2, 3, 1\n",
    "\n",
    "\n",
    "def second_number(a, b, c):\n",
    "    if a > b:\n",
    "        a, b = b, a\n",
    "        if b > c:\n",
    "            b, c = c, b\n",
    "            if a > b:\n",
    "                a, b = b, a\n",
    "    elif b > c:\n",
    "        b, c = c, b\n",
    "        if a > b:\n",
    "            a, b = b, a\n",
    "    return b\n",
    "\n",
    "print(second_number(1, 2, 3))\n",
    "print(second_number(2, 1, 3))\n",
    "print(second_number(1, 3, 2))\n",
    "print(second_number(3, 2, 1))\n",
    "print(second_number(3, 1, 2))\n",
    "print(second_number(2, 2, 1))"
   ]
  },
  {
   "cell_type": "code",
   "execution_count": null,
   "metadata": {},
   "outputs": [],
   "source": [
    "def second_number(*a):\n",
    "    f = a[0]\n",
    "    s = a[1]\n",
    "    if f < s:\n",
    "        f, s = s, f\n",
    "    a = a[2:]\n",
    "    for i in a:\n",
    "        if i > s:\n",
    "            if i > f:\n",
    "                s = f\n",
    "                f = i\n",
    "            else: \n",
    "                s = i\n",
    "    return f, s\n",
    "print(second_number(1, 2, 3, -10, 99, -44))\n",
    "print(second_number(-442, -123, -4253))\n",
    "print(second_number(1, 3, 2))\n",
    "print(second_number(3, 2, 1))\n",
    "print(second_number(3, 1, 2))\n",
    "print(second_number(2, 3, 1))"
   ]
  },
  {
   "cell_type": "markdown",
   "metadata": {},
   "source": [
    "### 실습 문제\n",
    "#### 환율계산\n",
    "> 사용자가 띄어쓰기를 기준으로, (Volume 단위)로 입력한다. 원화로 계산해서 print해주자\n"
   ]
  },
  {
   "cell_type": "code",
   "execution_count": null,
   "metadata": {},
   "outputs": [],
   "source": [
    "volume = 10\n",
    "unit = '엔'\n",
    "currency = {\n",
    "    'USD': 1167,\n",
    "    'JPY': 10.96,\n",
    "    'EUR': 1268,\n",
    "    'CNY': 171\n",
    "}\n",
    "\n",
    "# input => 100 달러, 300 유로, 200 위안, 1000 엔\n",
    "\n",
    "def currency_calculator(volume, unit):\n",
    "    currency = { 'USD': 1167, 'JPY': 10.96, 'EUR': 1268, 'CNY': 171 }\n",
    "    unit_set = {'달러': 'USD', '유로': 'EUR', '위안': 'CNY', '엔': 'JPY'}\n",
    "    won = round(currency[unit_set[unit]] * volume, 2)\n",
    "    return f'{won} 원'\n",
    "\n",
    "print(currency_calculator(volume, unit))"
   ]
  },
  {
   "cell_type": "code",
   "execution_count": null,
   "metadata": {},
   "outputs": [],
   "source": [
    "volume = 10101\n",
    "str(volume).split('0')"
   ]
  },
  {
   "cell_type": "code",
   "execution_count": null,
   "metadata": {},
   "outputs": [],
   "source": [
    "volume = 100\n",
    "unit = '달러'\n",
    "currency = {\n",
    "    'USD': 1167,\n",
    "    'JPY': 10.96,\n",
    "    'EUR': 1268,\n",
    "    'CNY': 171\n",
    "}\n",
    "\n",
    "# input => 100 달러, 300 유로, 200 위안, 1000 엔\n",
    "\n",
    "def currency_calculator(unit):\n",
    "    currency = { 'USD': 1167, 'JPY': 10.96, 'EUR': 1268, 'CNY': 171 }\n",
    "    unit_set = {'달러': 'USD', '유로': 'EUR', '위안': 'CNY', '엔': 'JPY'}\n",
    "    won = round(currency[unit_set[unit.split()[1]]] * int(unit.split()[0]), 2)\n",
    "    return f'{won} 원'\n",
    "print(currency_calculator(input('volume & unit : ')))"
   ]
  },
  {
   "cell_type": "markdown",
   "metadata": {
    "slideshow": {
     "slide_type": "slide"
    }
   },
   "source": [
    "## 조건 표현식(Conditional Expression)\n",
    "\n",
    "**활용법**\n",
    "\n",
    "```\n",
    "true_value if <조건식> else false_value\n",
    "```\n",
    "    \n",
    "와 같이 표현식을 작성할 수 있다. 이는 보통 다른 언어에서 활용되는 삼항연산자와 동일하다."
   ]
  },
  {
   "cell_type": "code",
   "execution_count": null,
   "metadata": {
    "scrolled": true
   },
   "outputs": [],
   "source": [
    "num = int(input('숫자를 입력하세요 :'))\n",
    "print('3 입니다.') if num == 3 else print('3이 아닙니다.')"
   ]
  },
  {
   "cell_type": "markdown",
   "metadata": {
    "slideshow": {
     "slide_type": "subslide"
    }
   },
   "source": [
    "* 표현식은 보통 조건에 따라 값을 정할 때 많이 활용된다."
   ]
  },
  {
   "cell_type": "code",
   "execution_count": null,
   "metadata": {},
   "outputs": [],
   "source": [
    "# 아래의 코드는 무엇을 위한 코드일까요?\n",
    "num = int(input(\"숫자를 입력하세요 : \"))\n",
    "value = num if num >= 0 else 0\n",
    "print(value)"
   ]
  },
  {
   "cell_type": "code",
   "execution_count": null,
   "metadata": {
    "slideshow": {
     "slide_type": "fragment"
    }
   },
   "outputs": [],
   "source": [
    "# 위의 코드와 동일한 코드입니다.\n",
    "num = int(input(\"숫자를 입력하세요 : \"))\n",
    "if num >= 0:\n",
    "    value = num\n",
    "else:\n",
    "    value = -num\n",
    "print(value)"
   ]
  },
  {
   "cell_type": "code",
   "execution_count": null,
   "metadata": {
    "slideshow": {
     "slide_type": "subslide"
    }
   },
   "outputs": [],
   "source": [
    "# 다음의 코드와 동일한 조건 표현식을 작성해보세요.\n",
    "num = 2\n",
    "if num % 2:\n",
    "    result = '홀수입니다.'\n",
    "else:\n",
    "    result = '짝수입니다.'\n",
    "print(result)"
   ]
  },
  {
   "cell_type": "code",
   "execution_count": null,
   "metadata": {},
   "outputs": [],
   "source": [
    "num = 2\n",
    "print('홀수입니다.') if num % 2 else print('짝수입니다.')"
   ]
  },
  {
   "cell_type": "markdown",
   "metadata": {
    "slideshow": {
     "slide_type": "slide"
    }
   },
   "source": [
    "# 반복문\n",
    "\n",
    "## `while` 문\n",
    "\n",
    "`while`문은 조건식이 참(True)인 경우 반복적으로 코드를 실행합니다. \n",
    "<br>\n",
    "<br>\n",
    "<center> \n",
    "    <img src=\"./images/02/while.png\", alt=\"while\"/>\n",
    "</center>\n",
    "\n",
    "**while 문은 종료조건을 반드시 설정해주어야 합니다.**"
   ]
  },
  {
   "cell_type": "code",
   "execution_count": null,
   "metadata": {},
   "outputs": [],
   "source": [
    "n = 0\n",
    "while n < 5:\n",
    "    print(n)\n",
    "    n += 1\n",
    "print('끝')"
   ]
  },
  {
   "cell_type": "markdown",
   "metadata": {
    "slideshow": {
     "slide_type": "subslide"
    }
   },
   "source": [
    "<center>\n",
    "    <img src=\"./images/02/while_style.png\", alt=\"\">\n",
    "</center>\n",
    "\n",
    "`while`문 역시 `<조건식>`이후에 `:`이 반드시 필요하며, \n",
    "\n",
    "이후 오는 코드 블록은 `4spaces`로 **들여쓰기**를 해주셔야 합니다."
   ]
  },
  {
   "cell_type": "markdown",
   "metadata": {
    "slideshow": {
     "slide_type": "slide"
    }
   },
   "source": [
    "## `for` 문\n",
    "\n",
    "`for`문은 정해진 범위 내(시퀀스)에서 순차적으로 코드를 실행합니다.\n",
    "\n",
    "<br>\n",
    "<center>\n",
    "    <img src=\"./images/02/loop-for.png\", alt=\"\">\n",
    "</center>"
   ]
  },
  {
   "cell_type": "code",
   "execution_count": null,
   "metadata": {
    "slideshow": {
     "slide_type": "subslide"
    }
   },
   "outputs": [],
   "source": [
    "n = range(10)\n",
    "for i in n:\n",
    "    if i < 5:\n",
    "        print(i)\n",
    "print('끝')"
   ]
  },
  {
   "cell_type": "markdown",
   "metadata": {
    "slideshow": {
     "slide_type": "subslide"
    }
   },
   "source": [
    "<center>\n",
    "    <img src=\"./images/02/for_style.png\", alt=\"for_style\">\n",
    "</center>\n",
    "\n",
    "---\n",
    "```\n",
    "for variable in sequence:\n",
    "    code line1\n",
    "    code line2\n",
    "```\n",
    "\n",
    "`for`문은 `sequence`를 순차적으로 **variable**에 값을 바인딩하며, 코드 블록을 시행합니다."
   ]
  },
  {
   "cell_type": "markdown",
   "metadata": {
    "slideshow": {
     "slide_type": "subslide"
    }
   },
   "source": [
    "![for animation](./images/02/for.gif)"
   ]
  },
  {
   "cell_type": "markdown",
   "metadata": {
    "slideshow": {
     "slide_type": "subslide"
    }
   },
   "source": [
    "###  실습문제\n",
    "\n",
    "> 반복문과 조건문만 활용하여 1~30까지 숫자 중에 홀수만 담긴 리스트를 만드세요\n",
    "\n",
    "---\n",
    "```\n",
    "예시 출력)\n",
    "[1, 3, 5, 7, 9, 11, 13, 15, 17, 19, 21, 23, 25, 27, 29]\n",
    "```"
   ]
  },
  {
   "cell_type": "code",
   "execution_count": null,
   "metadata": {
    "slideshow": {
     "slide_type": "subslide"
    }
   },
   "outputs": [],
   "source": [
    "# 여기에 코드를 작성하세요.\n",
    "odd = []\n",
    "for i in range(31):\n",
    "    if i % 2:\n",
    "        odd.append(i)\n",
    "print(odd)"
   ]
  },
  {
   "cell_type": "code",
   "execution_count": null,
   "metadata": {},
   "outputs": [],
   "source": [
    "sample = []\n",
    "for i in range(31):\n",
    "    if i % 2:\n",
    "        sample = sample + [i]\n",
    "print(sample)"
   ]
  },
  {
   "cell_type": "code",
   "execution_count": null,
   "metadata": {},
   "outputs": [],
   "source": [
    "# 1 부터 100 까지 자연수 중에 5의 배수들의 총합을 구하세요\n",
    "fifth = []\n",
    "for i in range(1, 101):\n",
    "    if i % 5 == 0:\n",
    "        fifth = fifth + [i]\n",
    "print(sum(fifth))"
   ]
  },
  {
   "cell_type": "code",
   "execution_count": null,
   "metadata": {},
   "outputs": [],
   "source": [
    "f = 0\n",
    "for i in range(1, 101):\n",
    "    if i % 5 == 0:\n",
    "        f += i\n",
    "print(f)"
   ]
  },
  {
   "cell_type": "code",
   "execution_count": 6,
   "metadata": {},
   "outputs": [
    {
     "name": "stdout",
     "output_type": "stream",
     "text": [
      "1050\n"
     ]
    }
   ],
   "source": [
    "s = 0\n",
    "for i in range(1, int(100/5+1)):\n",
    "    s += i\n",
    "result = s * 5\n",
    "\n",
    "print(result)"
   ]
  },
  {
   "cell_type": "markdown",
   "metadata": {},
   "source": [
    "### 실습 문제\n",
    "#### sigma\n",
    "> 정수 n이 들어오면, 1 ~ n 까지의 합을 출력하는데, 함수로"
   ]
  },
  {
   "cell_type": "code",
   "execution_count": 9,
   "metadata": {},
   "outputs": [
    {
     "name": "stdout",
     "output_type": "stream",
     "text": [
      "55\n"
     ]
    }
   ],
   "source": [
    "# sigma\n",
    "def sigma(n):\n",
    "    return round((n * (n+1)) / 2)\n",
    "\n",
    "print(sigma(10))"
   ]
  },
  {
   "cell_type": "markdown",
   "metadata": {},
   "source": [
    "### 실습 문제\n",
    "#### 99단\n",
    "> 'for'와 'range'로 99단 출력하기"
   ]
  },
  {
   "cell_type": "code",
   "execution_count": 1,
   "metadata": {},
   "outputs": [
    {
     "name": "stdout",
     "output_type": "stream",
     "text": [
      "1  2  3  4  5  6  7  8  9  \n",
      "2  4  6  8  10  12  14  16  18  \n",
      "3  6  9  12  15  18  21  24  27  \n",
      "4  8  12  16  20  24  28  32  36  \n",
      "5  10  15  20  25  30  35  40  45  \n",
      "6  12  18  24  30  36  42  48  54  \n",
      "7  14  21  28  35  42  49  56  63  \n",
      "8  16  24  32  40  48  56  64  72  \n",
      "9  18  27  36  45  54  63  72  81  \n"
     ]
    }
   ],
   "source": [
    "for i in range(1, 10):\n",
    "    for j in range(1, 10):\n",
    "        print(f'{i*j}', end='  ')\n",
    "    print()\n"
   ]
  },
  {
   "cell_type": "markdown",
   "metadata": {},
   "source": [
    "### 실습 문제\n",
    "#### 삼각형\n",
    "> 입력으로 높이가 들어옵니다. 높이만큼 산 모양으로 출력하세요( 함수인데, print로 끝.no out)"
   ]
  },
  {
   "cell_type": "code",
   "execution_count": 4,
   "metadata": {},
   "outputs": [
    {
     "name": "stdout",
     "output_type": "stream",
     "text": [
      "         *\n",
      "        ***\n",
      "       *****\n",
      "      *******\n",
      "     *********\n",
      "    ***********\n",
      "   *************\n",
      "  ***************\n",
      " *****************\n",
      "*******************\n"
     ]
    }
   ],
   "source": [
    "h = 10\n",
    "#   *\n",
    "#  ***\n",
    "# *****\n",
    "for i in range(h):\n",
    "    for j in reversed(range(h)):\n",
    "        if i < j:\n",
    "            print(' ', end='')\n",
    "        else:\n",
    "            print('*', end='')\n",
    "    for j in range(h):\n",
    "        if i > j:\n",
    "            print('*', end='')\n",
    "    print()"
   ]
  },
  {
   "cell_type": "code",
   "execution_count": 2,
   "metadata": {},
   "outputs": [
    {
     "name": "stdout",
     "output_type": "stream",
     "text": [
      "높이를 입력!11\n",
      "          ☆\n",
      "          *\n",
      "         ***\n",
      "        *****\n",
      "       *******\n",
      "      *********\n",
      "     ***********\n",
      "    *************\n",
      "   ***************\n",
      "  *****************\n",
      " *******************\n",
      "*********************\n"
     ]
    }
   ],
   "source": [
    "def tri(h):\n",
    "    print(' ' * (h-1) + '☆')\n",
    "    for i in range(1, h+1):\n",
    "        print((' ' * (h - i)) + ('*' * (i * 2 - 1)))\n",
    "        \n",
    "tri(int(input('높이를 입력!')))"
   ]
  },
  {
   "cell_type": "code",
   "execution_count": 8,
   "metadata": {},
   "outputs": [
    {
     "name": "stdout",
     "output_type": "stream",
     "text": [
      "     *     \n",
      "    ***    \n",
      "   *****   \n",
      "  *******  \n",
      " ********* \n"
     ]
    }
   ],
   "source": [
    "h = 5\n",
    "for i in range(h):\n",
    "    for j in reversed(range(h+1)):\n",
    "        if i + j == h:\n",
    "            print(' ' * j + '*' * i + '*' + '*' * i + ' ' * j)"
   ]
  },
  {
   "cell_type": "markdown",
   "metadata": {
    "slideshow": {
     "slide_type": "slide"
    }
   },
   "source": [
    "### index와 함께 `for`문 활용하기\n",
    "\n",
    "`enumerate()`를 활용하면, 추가적인 변수를 활용할 수 있다."
   ]
  },
  {
   "cell_type": "code",
   "execution_count": null,
   "metadata": {},
   "outputs": [],
   "source": [
    "lunch = ['생선까스', '북어해장국', '비엔나소세지']\n",
    "for index, menu in enumerate(lunch):\n",
    "    print(index, menu)"
   ]
  },
  {
   "cell_type": "markdown",
   "metadata": {
    "slideshow": {
     "slide_type": "subslide"
    }
   },
   "source": [
    "* `enumerate()`는 [파이썬 표준 라이브러리의 내장함수](https://docs.python.org/ko/3.6/library/functions.html) 중 하나이며, 다음과 같이 구성되어 있다.\n",
    "\n",
    "<center>\n",
    "    <img src=\"./images/02/enumerate.png\", alt=\"enumerate\">\n",
    "</center>"
   ]
  },
  {
   "cell_type": "code",
   "execution_count": null,
   "metadata": {},
   "outputs": [],
   "source": [
    "mates = ['박준태', '박찬미', '백지원', '송건호', '안도건']\n",
    "list(enumerate(mates))"
   ]
  },
  {
   "cell_type": "code",
   "execution_count": null,
   "metadata": {},
   "outputs": [],
   "source": [
    "list(enumerate(mates, start = 1))"
   ]
  },
  {
   "cell_type": "markdown",
   "metadata": {
    "slideshow": {
     "slide_type": "subslide"
    }
   },
   "source": [
    "### dictionary 반복문 활용하기\n",
    "\n",
    "기본적으로 dictionary를 `for`문을 시행시키면 다음과 같이 시행됩니다."
   ]
  },
  {
   "cell_type": "code",
   "execution_count": null,
   "metadata": {},
   "outputs": [],
   "source": [
    "classroom= { 'teacher': 'Yu', 'leader': 'Hwang', 'CA': 'Kang' }\n",
    "for role in classroom:\n",
    "    print(role)"
   ]
  },
  {
   "cell_type": "markdown",
   "metadata": {
    "slideshow": {
     "slide_type": "subslide"
    }
   },
   "source": [
    "dictionary의 `key`를 출력함으로써 `value`에도 접근할 수 있기 때문입니다.\n",
    "\n",
    "따라서 dictionary의 value를 출력하기 위해서는 아래와 같이 작성합니다."
   ]
  },
  {
   "cell_type": "code",
   "execution_count": null,
   "metadata": {},
   "outputs": [],
   "source": [
    "for role in classroom:\n",
    "    print(classroom[role])"
   ]
  },
  {
   "cell_type": "markdown",
   "metadata": {
    "slideshow": {
     "slide_type": "subslide"
    }
   },
   "source": [
    "* dictionary에서 `for` 활용하는 4가지 방법\n",
    "\n",
    "```python\n",
    "# 0. dictionary (key 반복)\n",
    "for key in dict:\n",
    "    print(key)\n",
    "\n",
    "# 1. key 반복\n",
    "for key in dict.keys():\n",
    "    print(key)\n",
    "    \n",
    "# 2. value 반복    \n",
    "for val in dict.values():\n",
    "    print(val)\n",
    "\n",
    "# 3. key와 value 반복\n",
    "for key, val in dict.items():\n",
    "    print(key, val)\n",
    "\n",
    "```"
   ]
  },
  {
   "cell_type": "markdown",
   "metadata": {
    "slideshow": {
     "slide_type": "subslide"
    }
   },
   "source": [
    "### 실습문제 \n",
    "\n",
    "> 한번 직접 4가지 반복문을 활용해보고 출력되는 결과를 확인해보세요.\n",
    "\n",
    "```\n",
    "classroom = {\"teacher\": \"Kim\", \"student1\": \"Hong\", \"student2\": \"Kang\"}\n",
    "\n",
    "```"
   ]
  },
  {
   "cell_type": "code",
   "execution_count": null,
   "metadata": {},
   "outputs": [],
   "source": [
    "# 여기에 코드를 작성하세요.\n",
    "classroom = {\"teacher\": \"Kim\", \"student1\": \"Hong\", \"student2\": \"Kang\"}\n",
    "\n",
    "for role in classroom:\n",
    "    print(role)\n",
    "\n",
    "for role in classroom.keys():\n",
    "    print(role)\n",
    "    \n",
    "for member in classroom.values():\n",
    "    print(member)\n",
    "    \n",
    "for role, member in classroom.items():\n",
    "    print(role, member)"
   ]
  },
  {
   "cell_type": "markdown",
   "metadata": {
    "slideshow": {
     "slide_type": "slide"
    }
   },
   "source": [
    "## `break`, `continue`, `else`\n",
    "\n",
    "### `break`\n",
    "\n",
    "`break`문은 반복문을 종료하는 표현입니다. "
   ]
  },
  {
   "cell_type": "code",
   "execution_count": null,
   "metadata": {},
   "outputs": [],
   "source": [
    "for i in range(10):\n",
    "    if i == 6:\n",
    "        break\n",
    "    print(i)"
   ]
  },
  {
   "cell_type": "markdown",
   "metadata": {
    "slideshow": {
     "slide_type": "subslide"
    }
   },
   "source": [
    "#### 실습문제\n",
    "\n",
    "> 조건문과 반복문, break를 통해서 아래의 코드와 동일한 코드를 작성하세요.\n",
    "> \n",
    "> (3이 있을 경우 True를 print하고, 아닐 경우 False를 print 합니다.)\n",
    "\n",
    "\n",
    "```python\n",
    "numbers = [1, 5, 10]\n",
    "print(3 in numbers)\n",
    "```\n",
    "\n",
    "---\n",
    "```\n",
    "예시 출력)\n",
    "False\n",
    "```"
   ]
  },
  {
   "cell_type": "code",
   "execution_count": null,
   "metadata": {},
   "outputs": [],
   "source": [
    "numbers = [1, 3, 5, 10]\n",
    "# 여기에 코드를 작성하세요.\n",
    "result = False\n",
    "for i in numbers:\n",
    "    if i == 3:\n",
    "        result = True\n",
    "        break\n",
    "print(result)"
   ]
  },
  {
   "cell_type": "markdown",
   "metadata": {
    "slideshow": {
     "slide_type": "subslide"
    }
   },
   "source": [
    "### `continue` \n",
    "\n",
    "`continue`문은 continue 이후의 코드를 수행하지 않고 다음 요소를 선택해 반복을 계속 수행합니다."
   ]
  },
  {
   "cell_type": "code",
   "execution_count": null,
   "metadata": {},
   "outputs": [],
   "source": [
    "for i in range(10):\n",
    "    if i % 2 == 0:\n",
    "        continue\n",
    "    print(f'{i}은 홀수다.')"
   ]
  },
  {
   "cell_type": "markdown",
   "metadata": {
    "slideshow": {
     "slide_type": "subslide"
    }
   },
   "source": [
    "### `else`\n",
    "\n",
    "`else`문은 끝까지 반복문을 시행한 이후에 실행됩니다.\n",
    "\n",
    "(`break`를 통해 중간에 종료되지 않은 경우만 실행)"
   ]
  },
  {
   "cell_type": "code",
   "execution_count": null,
   "metadata": {},
   "outputs": [],
   "source": [
    "for i in range(3):\n",
    "    if i == 3:\n",
    "        print(f'{i}에서 break 실행됨')\n",
    "        break\n",
    "else:\n",
    "    print('break 안걸림')"
   ]
  },
  {
   "cell_type": "code",
   "execution_count": null,
   "metadata": {},
   "outputs": [],
   "source": [
    "for i in range(3):\n",
    "    if i == 2:\n",
    "        print(f'{i}에서 break 실행됨')\n",
    "        break\n",
    "else:\n",
    "    print('break 안걸림')"
   ]
  },
  {
   "cell_type": "markdown",
   "metadata": {},
   "source": [
    "## Problem Set!"
   ]
  },
  {
   "cell_type": "markdown",
   "metadata": {},
   "source": [
    "> 'colors = ['red', 'green', 'blue', 'white', 'black', 'gold']' 다음 리스트에서 0, 4, 5 index 에 있는 요소들을 삭제한 새로운 리스트를 만드세요."
   ]
  },
  {
   "cell_type": "code",
   "execution_count": 15,
   "metadata": {},
   "outputs": [
    {
     "name": "stdout",
     "output_type": "stream",
     "text": [
      "['green', 'white', 'blue']\n"
     ]
    }
   ],
   "source": [
    "colors = ['red', 'green', 'blue', 'white', 'black', 'gold']\n",
    "colors2 = [colors[0], colors[4], colors[5]]\n",
    "new_colors = list(set(colors) - set(colors2))\n",
    "print(new_colors)    "
   ]
  },
  {
   "cell_type": "code",
   "execution_count": 20,
   "metadata": {},
   "outputs": [
    {
     "name": "stdout",
     "output_type": "stream",
     "text": [
      "['green', 'white', 'blue']\n"
     ]
    }
   ],
   "source": [
    "colors = ['red', 'green', 'blue', 'white', 'black', 'gold']\n",
    "wants = [0, 4, 5]\n",
    "colors2 = []\n",
    "for i in wants:\n",
    "    colors2.append(colors[i])\n",
    "new_colors = list(set(colors) - set(colors2))\n",
    "print(new_colors)"
   ]
  },
  {
   "cell_type": "code",
   "execution_count": 43,
   "metadata": {},
   "outputs": [
    {
     "name": "stdout",
     "output_type": "stream",
     "text": [
      "['green', 'blue', 'white']\n"
     ]
    }
   ],
   "source": [
    "colors = ['red', 'green', 'blue', 'white', 'black', 'gold']\n",
    "delete_index = [0, 4, 5]\n",
    "remain_colors = []\n",
    "\n",
    "for index, color in enumerate(colors):\n",
    "    if index not in delete_index:\n",
    "        remain_colors.append(color)\n",
    "        \n",
    "print(remain_colors)"
   ]
  },
  {
   "cell_type": "code",
   "execution_count": 44,
   "metadata": {},
   "outputs": [
    {
     "name": "stdout",
     "output_type": "stream",
     "text": [
      "['green', 'blue', 'white']\n"
     ]
    }
   ],
   "source": [
    "remain_colors = []\n",
    "for color in colors:\n",
    "    if colors.index(color) not in (0, 4, 5):\n",
    "        remain_colors.append(color)\n",
    "        \n",
    "print(remain_colors)"
   ]
  },
  {
   "cell_type": "markdown",
   "metadata": {},
   "source": [
    "달력 출력하기\n",
    "> 1월부터 12월까지 다음과 같은 형태로 달력을 출력하세요.\n",
    "    1 월\n",
    "    일  월  화  수  목  금  토 (1space)\n",
    "     1  2  3   4   5   6   7 (2space)\n",
    "     8  9 10  11  12  13  14\n",
    "    15 16 17 18 19 20 21\n",
    "    22 23 24 25 26 27 28\n",
    "    29 30 31"
   ]
  },
  {
   "cell_type": "code",
   "execution_count": 1,
   "metadata": {},
   "outputs": [
    {
     "name": "stdout",
     "output_type": "stream",
     "text": [
      "1 월\n",
      " 일 월 화 수 목 금 토 \n",
      " 1  2  3  4  5  6  7  \n",
      " 8  9 10 11 12 13 14  \n",
      "15 16 17 18 19 20 21  \n",
      "22 23 24 25 26 27 28  \n",
      "29 30 31 \n",
      "\n",
      "2 월\n",
      " 일 월 화 수 목 금 토 \n",
      " 1  2  3  4  5  6  7  \n",
      " 8  9 10 11 12 13 14  \n",
      "15 16 17 18 19 20 21  \n",
      "22 23 24 25 26 27 28 \n",
      "\n",
      "3 월\n",
      " 일 월 화 수 목 금 토 \n",
      " 1  2  3  4  5  6  7  \n",
      " 8  9 10 11 12 13 14  \n",
      "15 16 17 18 19 20 21  \n",
      "22 23 24 25 26 27 28  \n",
      "29 30 31 \n",
      "\n",
      "4 월\n",
      " 일 월 화 수 목 금 토 \n",
      " 1  2  3  4  5  6  7  \n",
      " 8  9 10 11 12 13 14  \n",
      "15 16 17 18 19 20 21  \n",
      "22 23 24 25 26 27 28  \n",
      "29 30 \n",
      "\n",
      "5 월\n",
      " 일 월 화 수 목 금 토 \n",
      " 1  2  3  4  5  6  7  \n",
      " 8  9 10 11 12 13 14  \n",
      "15 16 17 18 19 20 21  \n",
      "22 23 24 25 26 27 28  \n",
      "29 30 31 \n",
      "\n",
      "6 월\n",
      " 일 월 화 수 목 금 토 \n",
      " 1  2  3  4  5  6  7  \n",
      " 8  9 10 11 12 13 14  \n",
      "15 16 17 18 19 20 21  \n",
      "22 23 24 25 26 27 28  \n",
      "29 30 \n",
      "\n",
      "7 월\n",
      " 일 월 화 수 목 금 토 \n",
      " 1  2  3  4  5  6  7  \n",
      " 8  9 10 11 12 13 14  \n",
      "15 16 17 18 19 20 21  \n",
      "22 23 24 25 26 27 28  \n",
      "29 30 31 \n",
      "\n",
      "8 월\n",
      " 일 월 화 수 목 금 토 \n",
      " 1  2  3  4  5  6  7  \n",
      " 8  9 10 11 12 13 14  \n",
      "15 16 17 18 19 20 21  \n",
      "22 23 24 25 26 27 28  \n",
      "29 30 31 \n",
      "\n",
      "9 월\n",
      " 일 월 화 수 목 금 토 \n",
      " 1  2  3  4  5  6  7  \n",
      " 8  9 10 11 12 13 14  \n",
      "15 16 17 18 19 20 21  \n",
      "22 23 24 25 26 27 28  \n",
      "29 30 \n",
      "\n",
      "10 월\n",
      " 일 월 화 수 목 금 토 \n",
      " 1  2  3  4  5  6  7  \n",
      " 8  9 10 11 12 13 14  \n",
      "15 16 17 18 19 20 21  \n",
      "22 23 24 25 26 27 28  \n",
      "29 30 31 \n",
      "\n",
      "11 월\n",
      " 일 월 화 수 목 금 토 \n",
      " 1  2  3  4  5  6  7  \n",
      " 8  9 10 11 12 13 14  \n",
      "15 16 17 18 19 20 21  \n",
      "22 23 24 25 26 27 28  \n",
      "29 30 \n",
      "\n",
      "12 월\n",
      " 일 월 화 수 목 금 토 \n",
      " 1  2  3  4  5  6  7  \n",
      " 8  9 10 11 12 13 14  \n",
      "15 16 17 18 19 20 21  \n",
      "22 23 24 25 26 27 28  \n",
      "29 30 31 \n",
      "\n"
     ]
    }
   ],
   "source": [
    "for i in range(1, 13):\n",
    "    print(f'{i} 월\\n 일 월 화 수 목 금 토 ')\n",
    "    if i in [1, 3, 5, 7, 8, 10, 12]:  # list로 만들어서 안에 있는 값을 찾으니까 됨.\n",
    "        n = 31\n",
    "    elif i in [2]:    \n",
    "        n = 28\n",
    "    else:\n",
    "        n = 30\n",
    "    for d in range(1, n + 1):\n",
    "        if d < 10:\n",
    "            if d == 7:\n",
    "                print(f' {d}  ')\n",
    "            else:\n",
    "                print(f' {d} ', end='')\n",
    "        elif d == n:\n",
    "            print(f'{d} \\n')\n",
    "        elif d % 7:\n",
    "            print(f'{d} ', end='')\n",
    "        else:\n",
    "            print(f'{d}  ')\n"
   ]
  },
  {
   "cell_type": "code",
   "execution_count": 1,
   "metadata": {},
   "outputs": [
    {
     "name": "stdout",
     "output_type": "stream",
     "text": [
      "1 월\n",
      "  일  |  월  |  화  |  수  |  목  |  금  |  토  | \n",
      "------------------------------------------------\n",
      "   1 |    2 |    3 |    4 |    5 |    6 |    7 | \n",
      "   8 |    9 |   10 |   11 |   12 |   13 |   14 | \n",
      "  15 |   16 |   17 |   18 |   19 |   20 |   21 | \n",
      "  22 |   23 |   24 |   25 |   26 |   27 |   28 | \n",
      "  29 |   30 |   31 | \n",
      "2 월\n",
      "  일  |  월  |  화  |  수  |  목  |  금  |  토  | \n",
      "------------------------------------------------\n",
      "     |      |      |    1 |    2 |    3 |    4 | \n",
      "   5 |    6 |    7 |    8 |    9 |   10 |   11 | \n",
      "  12 |   13 |   14 |   15 |   16 |   17 |   18 | \n",
      "  19 |   20 |   21 |   22 |   23 |   24 |   25 | \n",
      "  26 |   27 |   28 | \n",
      "3 월\n",
      "  일  |  월  |  화  |  수  |  목  |  금  |  토  | \n",
      "------------------------------------------------\n",
      "     |      |      |    1 |    2 |    3 |    4 | \n",
      "   5 |    6 |    7 |    8 |    9 |   10 |   11 | \n",
      "  12 |   13 |   14 |   15 |   16 |   17 |   18 | \n",
      "  19 |   20 |   21 |   22 |   23 |   24 |   25 | \n",
      "  26 |   27 |   28 |   29 |   30 |   31 | \n",
      "4 월\n",
      "  일  |  월  |  화  |  수  |  목  |  금  |  토  | \n",
      "------------------------------------------------\n",
      "     |      |      |      |      |      |    1 | \n",
      "   2 |    3 |    4 |    5 |    6 |    7 |    8 | \n",
      "   9 |   10 |   11 |   12 |   13 |   14 |   15 | \n",
      "  16 |   17 |   18 |   19 |   20 |   21 |   22 | \n",
      "  23 |   24 |   25 |   26 |   27 |   28 |   29 | \n",
      "  30 | \n",
      "5 월\n",
      "  일  |  월  |  화  |  수  |  목  |  금  |  토  | \n",
      "------------------------------------------------\n",
      "     |    1 |    2 |    3 |    4 |    5 |    6 | \n",
      "   7 |    8 |    9 |   10 |   11 |   12 |   13 | \n",
      "  14 |   15 |   16 |   17 |   18 |   19 |   20 | \n",
      "  21 |   22 |   23 |   24 |   25 |   26 |   27 | \n",
      "  28 |   29 |   30 |   31 | \n",
      "6 월\n",
      "  일  |  월  |  화  |  수  |  목  |  금  |  토  | \n",
      "------------------------------------------------\n",
      "     |      |      |      |    1 |    2 |    3 | \n",
      "   4 |    5 |    6 |    7 |    8 |    9 |   10 | \n",
      "  11 |   12 |   13 |   14 |   15 |   16 |   17 | \n",
      "  18 |   19 |   20 |   21 |   22 |   23 |   24 | \n",
      "  25 |   26 |   27 |   28 |   29 |   30 | \n",
      "7 월\n",
      "  일  |  월  |  화  |  수  |  목  |  금  |  토  | \n",
      "------------------------------------------------\n",
      "     |      |      |      |      |      |    1 | \n",
      "   2 |    3 |    4 |    5 |    6 |    7 |    8 | \n",
      "   9 |   10 |   11 |   12 |   13 |   14 |   15 | \n",
      "  16 |   17 |   18 |   19 |   20 |   21 |   22 | \n",
      "  23 |   24 |   25 |   26 |   27 |   28 |   29 | \n",
      "  30 |   31 | \n",
      "8 월\n",
      "  일  |  월  |  화  |  수  |  목  |  금  |  토  | \n",
      "------------------------------------------------\n",
      "     |      |    1 |    2 |    3 |    4 |    5 | \n",
      "   6 |    7 |    8 |    9 |   10 |   11 |   12 | \n",
      "  13 |   14 |   15 |   16 |   17 |   18 |   19 | \n",
      "  20 |   21 |   22 |   23 |   24 |   25 |   26 | \n",
      "  27 |   28 |   29 |   30 |   31 | \n",
      "9 월\n",
      "  일  |  월  |  화  |  수  |  목  |  금  |  토  | \n",
      "------------------------------------------------\n",
      "     |      |      |      |      |    1 |    2 | \n",
      "   3 |    4 |    5 |    6 |    7 |    8 |    9 | \n",
      "  10 |   11 |   12 |   13 |   14 |   15 |   16 | \n",
      "  17 |   18 |   19 |   20 |   21 |   22 |   23 | \n",
      "  24 |   25 |   26 |   27 |   28 |   29 |   30 | \n",
      "10 월\n",
      "  일  |  월  |  화  |  수  |  목  |  금  |  토  | \n",
      "------------------------------------------------\n",
      "   1 |    2 |    3 |    4 |    5 |    6 |    7 | \n",
      "   8 |    9 |   10 |   11 |   12 |   13 |   14 | \n",
      "  15 |   16 |   17 |   18 |   19 |   20 |   21 | \n",
      "  22 |   23 |   24 |   25 |   26 |   27 |   28 | \n",
      "  29 |   30 |   31 | \n",
      "11 월\n",
      "  일  |  월  |  화  |  수  |  목  |  금  |  토  | \n",
      "------------------------------------------------\n",
      "     |      |      |    1 |    2 |    3 |    4 | \n",
      "   5 |    6 |    7 |    8 |    9 |   10 |   11 | \n",
      "  12 |   13 |   14 |   15 |   16 |   17 |   18 | \n",
      "  19 |   20 |   21 |   22 |   23 |   24 |   25 | \n",
      "  26 |   27 |   28 |   29 |   30 | \n",
      "12 월\n",
      "  일  |  월  |  화  |  수  |  목  |  금  |  토  | \n",
      "------------------------------------------------\n",
      "     |      |      |      |      |    1 |    2 | \n",
      "   3 |    4 |    5 |    6 |    7 |    8 |    9 | \n",
      "  10 |   11 |   12 |   13 |   14 |   15 |   16 | \n",
      "  17 |   18 |   19 |   20 |   21 |   22 |   23 | \n",
      "  24 |   25 |   26 |   27 |   28 |   29 |   30 | \n",
      "  31 | \n"
     ]
    }
   ],
   "source": [
    "months_end = {\n",
    "    1: 31, 2: 28, 3: 31, 4: 30, 5: 31, 6: 30,\n",
    "    7: 31, 8: 31, 9: 30, 10: 31, 11: 30, 12: 31\n",
    "}\n",
    "\n",
    "weeks = [' 일 ', ' 월 ', ' 화 ', ' 수 ', ' 목 ', ' 금 ', ' 토 ']\n",
    "count_blank = ''\n",
    "count = 0\n",
    "\n",
    "for month, end_date in months_end.items():\n",
    "    print(month, '월')\n",
    "    print(' ', end='')\n",
    "    for yoil in weeks:\n",
    "        print(yoil, end=' | ')\n",
    "    print()\n",
    "    print('------------------------------------------------')\n",
    "    \n",
    "    print(count_blank, end='')\n",
    "    for day in range(1, end_date + 1):\n",
    "        if day < 10:\n",
    "            day = f' {day}'\n",
    "        print(f'  {day} | ', end='')\n",
    "        count += 1\n",
    "        if day == end_date:\n",
    "            print()\n",
    "            if count >= 7:\n",
    "                count = count - 7\n",
    "            count_blank = '     | ' * count\n",
    "        elif count == 7:\n",
    "            print()\n",
    "            count = 0\n"
   ]
  }
 ],
 "metadata": {
  "celltoolbar": "Slideshow",
  "kernelspec": {
   "display_name": "Python 3",
   "language": "python",
   "name": "python3"
  },
  "language_info": {
   "codemirror_mode": {
    "name": "ipython",
    "version": 3
   },
   "file_extension": ".py",
   "mimetype": "text/x-python",
   "name": "python",
   "nbconvert_exporter": "python",
   "pygments_lexer": "ipython3",
   "version": "3.6.7"
  },
  "toc": {
   "base_numbering": 1,
   "nav_menu": {},
   "number_sections": true,
   "sideBar": true,
   "skip_h1_title": false,
   "title_cell": "Table of Contents",
   "title_sidebar": "Contents",
   "toc_cell": false,
   "toc_position": {},
   "toc_section_display": true,
   "toc_window_display": false
  }
 },
 "nbformat": 4,
 "nbformat_minor": 2
}
