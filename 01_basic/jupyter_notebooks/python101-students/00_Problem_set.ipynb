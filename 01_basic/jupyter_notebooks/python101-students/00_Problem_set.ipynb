{
 "cells": [
  {
   "cell_type": "markdown",
   "metadata": {},
   "source": [
    "# Problem set"
   ]
  },
  {
   "cell_type": "markdown",
   "metadata": {},
   "source": [
    "**190108**"
   ]
  },
  {
   "cell_type": "markdown",
   "metadata": {},
   "source": [
    "### 1. 이상한 덧셈\n",
    "> 숫자로 구성된 리스트에서 양의 정수의 합을 구하는 함수, 'positive_sum'을 만들어 보세요.\n",
    "\n",
    "예시)\n",
    "\n",
    "``` python\n",
    "positive_sum([1, -10, 2]) #3\n",
    "positive_sum([-1, -2, -3, -4]) #0\n",
    "```"
   ]
  },
  {
   "cell_type": "code",
   "execution_count": null,
   "metadata": {},
   "outputs": [],
   "source": [
    "def positive_sum(lists):\n",
    "    pos_list = []\n",
    "    for num in lists:\n",
    "        if num > 0:\n",
    "            pos_list.append(num)\n",
    "    return sum(pos_list)\n",
    "\n",
    "print(positive_sum([-1, -2, -3, -4]))\n",
    "print(positive_sum([1, -10, 2]))\n"
   ]
  },
  {
   "cell_type": "code",
   "execution_count": null,
   "metadata": {},
   "outputs": [],
   "source": [
    "def positive_sum(numbers):\n",
    "    total = 0\n",
    "    for number in numbers:\n",
    "        if number > 0:\n",
    "            total += number\n",
    "    return total\n",
    "\n",
    "print(positive_sum([-1, -2, -3, -4]))\n",
    "print(positive_sum([1, -10, 2]))"
   ]
  },
  {
   "cell_type": "code",
   "execution_count": null,
   "metadata": {},
   "outputs": [],
   "source": [
    "def pos_sum(numbers):\n",
    "    return sum(x for x in numbers if x > 0)"
   ]
  },
  {
   "cell_type": "markdown",
   "metadata": {},
   "source": [
    "### 2. 문자열 탐색\n",
    "> 문자열 요소로만 이루어진 리스트를 넣었을 때, 문자열의 길이가 2 이상이고 주어진 문자열의 첫 번째와 마지막 문자가 같은 문자열의 수를 세는 함수 'start_end' 를 작성하세요\n",
    "\n",
    "예시)\n",
    "```python\n",
    "start_end(['level', 'asdwe', 's', 'abadsfa', 'q1q']) # 3\n",
    "```"
   ]
  },
  {
   "cell_type": "code",
   "execution_count": null,
   "metadata": {},
   "outputs": [],
   "source": [
    "def start_end(lists):\n",
    "    count = 0\n",
    "    for words in lists:\n",
    "        if len(words) > 1 and words[0] == words[-1]:\n",
    "            count += 1\n",
    "    return count\n",
    "\n",
    "print(start_end(['level', 'asdwe', 's', 'abadsfa', 'q1q']))\n",
    "            "
   ]
  },
  {
   "cell_type": "code",
   "execution_count": null,
   "metadata": {},
   "outputs": [],
   "source": [
    "def start_end(words):\n",
    "    count = 0\n",
    "    for word in words:\n",
    "        if len(word) > 1 and word[0] == word[-1]:\n",
    "            count += 1\n",
    "    return count"
   ]
  },
  {
   "cell_type": "markdown",
   "metadata": {},
   "source": [
    "### 3. Collatz\n",
    ">Collatz 추측: 어떤 자연수 n 이던지, 다음과 같은 작업을 반복하면 1로 만들수 있다.\n",
    "1. n이 짝수라면 2로 나눈다.\n",
    "2. n이 홀수라면 3을 곱하고 1을 더한다.\n",
    "3. 결과로 나온 수에 1/2의 작업을 1이 될때까지 반복한다.\n",
    "> 예를 들어 n이 6이면, 6 => 3 => 10 => 5 => 16 => 8 => 4 => 2 => 1이 되며 8번(=>갯수!)만에 1이 됩니다. 자연수 n이 들어왔을 때, 몇 번의 작업만에 1이 되는 지를 'return'하는 함수 'collatz()'를 완성하세요.\n",
    ">단! 500번을 넘어가도 1이 되지 않는다면, -1을 'return'하세요!\n",
    "\n",
    "예시)\n",
    "```python\n",
    "collatz(6) # 8\n",
    "collatz(16) # 4\n",
    "collatz(6263313) # -1\n",
    "```"
   ]
  },
  {
   "cell_type": "code",
   "execution_count": null,
   "metadata": {},
   "outputs": [],
   "source": [
    "def collatz(n):\n",
    "    count = 0\n",
    "    while int(n) >= 2 and count <=500:\n",
    "        if int(n) % 2:\n",
    "            n = n * 3 + 1\n",
    "        else:\n",
    "            n = n / 2\n",
    "        count += 1\n",
    "    if int(n) == 1:\n",
    "        return count\n",
    "    else:\n",
    "        return -1\n",
    "    \n",
    "for i in range(1, 1000000):\n",
    "    if collatz(i) == -1:\n",
    "        print(i)"
   ]
  },
  {
   "cell_type": "code",
   "execution_count": null,
   "metadata": {},
   "outputs": [],
   "source": [
    "def collatz(num):\n",
    "    for i in range(500):\n",
    "        if num % 2:\n",
    "            num = num * 3 + 1\n",
    "        else:\n",
    "            num = num / 2\n",
    "        if num == 1:\n",
    "            return i + 1\n",
    "    return -1\n",
    "\n",
    "def col_over(n):\n",
    "    over = []\n",
    "    for i in range(1, n + 1):\n",
    "        if collatz(i) == -1:\n",
    "            over.append(i)\n",
    "        if len(over) == 1:\n",
    "            return over\n",
    "        \n",
    "print(col_over(8888888888888))\n",
    "\n"
   ]
  },
  {
   "cell_type": "markdown",
   "metadata": {},
   "source": [
    "### 4. 솔로 천국\n",
    "> 리스트가 주어질 때, 리스트의 요소 'e'는 'range(0, 10)'에 포함되는 자연수이다. 리스트에서 연속적으로 나타나는 숫자는 하나만 남기고 전부 제거하여 'return'하는 함수 'lonely()'를 작성해 보세요. 이때! 제거된 후 남은 수들을 반환할 때는 리스트의 요소들이 순서를 유지해야 합니다!\n",
    "\n",
    "예시)\n",
    "```python\n",
    "lonely([1, 1, 3, 3, 0, 1, 1, 3, 0, 3]) # [1, 3, 0]\n",
    "lonely([4, 4, 3, 3, 3, 4]) # [4, 3]\n",
    "```"
   ]
  },
  {
   "cell_type": "code",
   "execution_count": null,
   "metadata": {},
   "outputs": [],
   "source": [
    "def lonely(lists):\n",
    "    tlist = []\n",
    "    for i in lists:\n",
    "        if i not in tlist:\n",
    "            tlist.append(i)\n",
    "    return tlist\n",
    "\n",
    "print(lonely([1, 1, 3, 3, 0, 1, 1, 3, 0, 3]))\n",
    "print(lonely([4, 4, 3, 3, 3, 4]))"
   ]
  },
  {
   "cell_type": "code",
   "execution_count": null,
   "metadata": {},
   "outputs": [],
   "source": [
    "def lonely(numbers):\n",
    "    result = []\n",
    "    for number in numbers:\n",
    "        if not result:\n",
    "            result.append(number)\n",
    "        elif result[-1] != number:\n",
    "            if result.count(number) == 0:\n",
    "                result.append(number)\n",
    "    return result\n",
    "\n",
    "print(lonely([4, 4, 3, 3, 3, 4]))"
   ]
  },
  {
   "cell_type": "markdown",
   "metadata": {},
   "source": [
    "### 5. (hard) RGB 삼각형\n",
    "| BG | RG | BR | RR | GG | BB |\n",
    "|----|----|----|----|----|----|\n",
    "| R  | B  | G  | R  | G  | B  |\n",
    "> 입력으로  ''R', 'G', 'B''가 섞여있는 문자열이 들어온다. 문자열은 다음과 같이 합쳐진다. 해당 문자열을 처리하여 마지막 색깔만 'return'하는 'triange()'을 작성하세요.\n",
    "\n",
    "예시)\n",
    "```python\n",
    "triangle('RRGBRGBB') # G\n",
    "triangle('GB') # R\n",
    "triangle('B') # B\n",
    "triangle('RGBG') # B\n",
    "```"
   ]
  },
  {
   "cell_type": "code",
   "execution_count": null,
   "metadata": {},
   "outputs": [],
   "source": [
    "def triange(RGB):\n",
    "    RGB = ' '.join(RGB).split()\n",
    "    tri = RGB\n",
    "    sample = { 'R', 'G', 'B' }\n",
    "    while len(RGB) != 1:\n",
    "        tri = []\n",
    "        for i in range(len(RGB) - 1):\n",
    "            if RGB[i] == RGB[i + 1]:\n",
    "                tri.append(RGB[i])\n",
    "            else:\n",
    "                color = sample - { RGB[i], RGB[i + 1] }\n",
    "                tri = tri + list(color)\n",
    "        RGB = tri\n",
    "    return tri\n",
    "print(triange('RRGBRGBB'))\n",
    "print(triange('GB'))\n",
    "print(triange('B'))\n",
    "print(triange('RGBG'))\n"
   ]
  },
  {
   "cell_type": "code",
   "execution_count": null,
   "metadata": {},
   "outputs": [],
   "source": [
    "def triange(RGB):\n",
    "    RGB = ' '.join(RGB).split()\n",
    "    tri = RGB\n",
    "    sample = { 'R', 'G', 'B' }\n",
    "    count = 0\n",
    "    while len(RGB) != 1:\n",
    "        tri = []\n",
    "        for i in range(len(RGB) - 1):\n",
    "            if RGB[i] == RGB[i + 1]:\n",
    "                tri.append(RGB[i])\n",
    "            else:\n",
    "                color = sample - { RGB[i], RGB[i + 1] }\n",
    "                tri = tri + list(color)\n",
    "        count += 1\n",
    "        blankc = (count) * ' '\n",
    "        print(blankc + ' '.join(tri))\n",
    "        RGB = tri\n",
    "\n",
    "\n",
    "triange('RRGBRGBBGGRRRBBB')\n"
   ]
  },
  {
   "cell_type": "markdown",
   "metadata": {},
   "source": [
    "### 6. (???) 홀수개를 찾아라\n",
    "> 입력으로 list가 한개 들어옵니다. 이 list에는 1개의 숫자만 홀수개 들어있습니다.\n",
    "\n",
    "> 이 1개의 홀수개인 숫자를 return하는 find_odd() 를 작성하세요.\n",
    "\n",
    "예시)\n",
    "```python\n",
    "find_odd([1, 1, 2, 2, 3, 3, 3]) # 3\n",
    "find_odd([2, 1, 2]) # 1\n",
    "find_odd([1, 2, 2, 3, 2, 2, 1]) # 3\n",
    "```\n"
   ]
  },
  {
   "cell_type": "code",
   "execution_count": null,
   "metadata": {},
   "outputs": [],
   "source": [
    "def find_odd(numbers):\n",
    "    odd_number = set()\n",
    "    for i in numbers:\n",
    "        if numbers.count(i) % 2:\n",
    "            odd_number.add(i)\n",
    "    return list(odd_number)\n",
    "\n",
    "print(find_odd([1, 1, 2, 2, 3, 3, 3]))\n",
    "print(find_odd([2, 1, 2]))\n",
    "print(find_odd([1, 2, 2, 3, 2, 2, 1]))\n",
    "print(find_odd([1, 2, 3]))"
   ]
  },
  {
   "cell_type": "code",
   "execution_count": null,
   "metadata": {},
   "outputs": [],
   "source": [
    "def find_odd(numbers):\n",
    "    for uniq in list(set(numbers)):\n",
    "        if numbers.count(uniq) % 2:\n",
    "            return uniq"
   ]
  },
  {
   "cell_type": "code",
   "execution_count": null,
   "metadata": {},
   "outputs": [],
   "source": [
    "def find_odd_2(numbers):  # 이렇게 하면 import안해도 됨.\n",
    "    result = 0\n",
    "    for n in numbers:\n",
    "        result = result ^ n\n",
    "    return result\n",
    "\n",
    "print(find_odd_2([1, 2, 2, 3, 2, 2, 1]))   "
   ]
  },
  {
   "cell_type": "markdown",
   "metadata": {},
   "source": [
    "**190109**"
   ]
  },
  {
   "cell_type": "markdown",
   "metadata": {},
   "source": [
    "### 1. UP & DOWN\n",
    "> 우리가 'range(1, 101)' 중 하나를 생각한다. 컴퓨터가 절반에 위치한 숫자를 물어보고, 생각한 수보다 크면 1, 작으면 -1, 맞으면 0을 입력한다. 이때 몇번만에 컴퓨터가 맞췄는지 출력하고 프로그램을 끝낸다.\n",
    "\n",
    "예시)\n",
    "```sh\n",
    "숫자를 생각하세요...\n",
    "50\n",
    "> -1\n",
    "25\n",
    "> -1\n",
    "13\n",
    "> -1\n",
    "7\n",
    "> 1\n",
    "10 \n",
    "> 1\n",
    "12\n",
    "> 0\n",
    "6번만에 맞췄습니다.\n",
    "```\n",
    "\n",
    "```python\n",
    "def guess_up_down():\n",
    "    print('숫자를 생각하세요..')\n",
    "    n = 100 // 2\n",
    "    print(n)\n",
    "    user_feedback = input('작으면 -1, 크면 1, 맞으면 0 : ')\n",
    "    \n",
    "```"
   ]
  },
  {
   "cell_type": "code",
   "execution_count": null,
   "metadata": {
    "scrolled": true
   },
   "outputs": [],
   "source": [
    "import random\n",
    "def guess_up_down():\n",
    "    user_feedback = input('숫자를 입력하세요:')\n",
    "    number = random.sample(list(range(1, 101)), 1)[0]\n",
    "    count = 0\n",
    "    while number != int(user_feedback):\n",
    "        if int(user_feedback) > number:\n",
    "            print('>1')\n",
    "            user_feedback = input(f'{user_feedback}보다 작은 숫자를 입력하세요:')\n",
    "            count += 1\n",
    "        elif int(user_feedback) < number:\n",
    "            print('>-1')\n",
    "            user_feedback = input(f'{user_feedback}보다 큰 숫자를 입력하세요:')\n",
    "            count += 1\n",
    "    count += 1\n",
    "    print('>0')\n",
    "    print(f'{count}번 만에 맞췄습니다! 축하합니다!')\n",
    "    \n",
    "guess_up_down()\n"
   ]
  },
  {
   "cell_type": "code",
   "execution_count": 2,
   "metadata": {
    "scrolled": true
   },
   "outputs": [
    {
     "name": "stdout",
     "output_type": "stream",
     "text": [
      "작으면 -1, 맞으면 0, 크면 1\n",
      "50 >> -1\n",
      "작으면 -1, 맞으면 0, 크면 1\n",
      "25 >> -1\n",
      "작으면 -1, 맞으면 0, 크면 1\n",
      "12 >> -1\n",
      "작으면 -1, 맞으면 0, 크면 1\n",
      "6 >> -1\n",
      "작으면 -1, 맞으면 0, 크면 1\n",
      "3 >> -1\n",
      "작으면 -1, 맞으면 0, 크면 1\n",
      "1 >> 0\n",
      "6번 만에 맞췄습니다! 축하합니다!\n"
     ]
    }
   ],
   "source": [
    "\n",
    "def guess_up_down(number):\n",
    "    num_list = list(range(1, 101))\n",
    "    count = 0\n",
    "    num = num_list.index(num_list[-1]) // 2\n",
    "    numberc = num_list[num]\n",
    "    while numberc != number:\n",
    "        print('작으면 -1, 맞으면 0, 크면 1')\n",
    "        num = num_list.index(num_list[-1]) // 2\n",
    "        numberc = num_list[num]\n",
    "        numind = []\n",
    "        if numberc > number:\n",
    "            print(f'{numberc} >> -1')\n",
    "            count += 1\n",
    "            for i in num_list:\n",
    "                if i >= numberc:\n",
    "                    numind.append(num_list.index(i))\n",
    "        elif numberc < number:\n",
    "            print(f'{numberc} >> 1')\n",
    "            count += 1\n",
    "            for i in num_list:\n",
    "                if i <= numberc:\n",
    "                    numind.append(num_list.index(i))\n",
    "        removelist = []\n",
    "        for i in numind:\n",
    "            removelist.append(num_list[i])\n",
    "        num_list = list(set(num_list) - set(removelist))\n",
    "            \n",
    "       \n",
    "    count += 1\n",
    "    print(f'{numberc} >> 0')\n",
    "    print(f'{count}번 만에 맞췄습니다! 축하합니다!')\n",
    "    \n",
    "guess_up_down(1)\n"
   ]
  },
  {
   "cell_type": "code",
   "execution_count": 3,
   "metadata": {},
   "outputs": [
    {
     "name": "stdout",
     "output_type": "stream",
     "text": [
      "숫자를 생각하세요.!\n",
      "50\n",
      "작으면 -1, 크면 1, 맞으면 0: 100\n"
     ]
    },
    {
     "data": {
      "text/plain": [
       "1"
      ]
     },
     "execution_count": 3,
     "metadata": {},
     "output_type": "execute_result"
    }
   ],
   "source": [
    "\n",
    "def guess_up_down(max_n=100, min_n=0):\n",
    "    count = 0\n",
    "    max_n = max_n + 1\n",
    "    print('숫자를 생각하세요.!')\n",
    "    \n",
    "    while 1:\n",
    "        guess = (max_n + min_n) // 2\n",
    "        print(guess)\n",
    "        count += 1\n",
    "        feedback = int(input('작으면 -1, 크면 1, 맞으면 0: '))\n",
    "        \n",
    "        if feedback == -1:\n",
    "            max_n = guess\n",
    "        if feedback == 1:\n",
    "            min_n = guess\n",
    "        else:\n",
    "            return count\n",
    "\n",
    "guess_up_down()"
   ]
  },
  {
   "cell_type": "markdown",
   "metadata": {},
   "source": [
    "### 문제\n",
    ">"
   ]
  },
  {
   "cell_type": "code",
   "execution_count": null,
   "metadata": {},
   "outputs": [],
   "source": []
  },
  {
   "cell_type": "markdown",
   "metadata": {},
   "source": [
    "### 문제\n",
    ">"
   ]
  },
  {
   "cell_type": "code",
   "execution_count": null,
   "metadata": {},
   "outputs": [],
   "source": []
  },
  {
   "cell_type": "markdown",
   "metadata": {},
   "source": [
    "### 문제\n",
    ">"
   ]
  },
  {
   "cell_type": "code",
   "execution_count": null,
   "metadata": {},
   "outputs": [],
   "source": []
  },
  {
   "cell_type": "markdown",
   "metadata": {},
   "source": [
    "### 문제\n",
    ">"
   ]
  },
  {
   "cell_type": "code",
   "execution_count": null,
   "metadata": {},
   "outputs": [],
   "source": []
  },
  {
   "cell_type": "markdown",
   "metadata": {},
   "source": [
    "### 문제\n",
    ">"
   ]
  },
  {
   "cell_type": "code",
   "execution_count": null,
   "metadata": {},
   "outputs": [],
   "source": []
  },
  {
   "cell_type": "markdown",
   "metadata": {},
   "source": [
    "### 문제\n",
    ">"
   ]
  },
  {
   "cell_type": "code",
   "execution_count": null,
   "metadata": {},
   "outputs": [],
   "source": []
  },
  {
   "cell_type": "markdown",
   "metadata": {},
   "source": [
    "### 문제\n",
    ">"
   ]
  },
  {
   "cell_type": "code",
   "execution_count": null,
   "metadata": {},
   "outputs": [],
   "source": []
  },
  {
   "cell_type": "markdown",
   "metadata": {},
   "source": [
    "### 문제\n",
    ">"
   ]
  },
  {
   "cell_type": "code",
   "execution_count": null,
   "metadata": {},
   "outputs": [],
   "source": []
  }
 ],
 "metadata": {
  "kernelspec": {
   "display_name": "Python 3",
   "language": "python",
   "name": "python3"
  },
  "language_info": {
   "codemirror_mode": {
    "name": "ipython",
    "version": 3
   },
   "file_extension": ".py",
   "mimetype": "text/x-python",
   "name": "python",
   "nbconvert_exporter": "python",
   "pygments_lexer": "ipython3",
   "version": "3.6.7"
  }
 },
 "nbformat": 4,
 "nbformat_minor": 2
}
