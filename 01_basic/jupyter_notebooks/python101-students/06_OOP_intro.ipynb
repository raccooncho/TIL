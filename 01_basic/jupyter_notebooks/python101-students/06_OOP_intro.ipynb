{
 "cells": [
  {
   "cell_type": "markdown",
   "metadata": {},
   "source": [
    "# 시작하기전에\n",
    "\n",
    "<wikipedia - 객체지향 프로그래밍> \n",
    ">\n",
    "> 객체 지향 프로그래밍(영어: Object-Oriented Programming, OOP)은 컴퓨터 프 로그래밍의 패러다임의 하나이다. 객체 지향 프로그래밍은 컴퓨터 프로그램을 명령어의 목록으로 보는 시각에서 벗어나 여러 개의 독립된 단위, 즉 \"객체\"들의 모임으로 파악하고자 하는 것이다. 각각의 객체는 메시지를 주고받고, 데이터를 처리할 수 있다.\n",
    ">\n",
    "> 명령형 프로그래밍인 절차지향 프로그래밍에서 발전된 형태를 나타내며, 기본 구성요소는 다음과 같다.\n",
    "\n",
    "* 클래스(Class) - 같은 종류(또는 문제 해결을 위한)의 집단에 속하는 속성(attribute)과 행위(behavior)를 정의한 것으로 객체지향 프로그램의 기본적인 사용자 정의 데이터형(user define data type)이라고 할 수 있다. 클래스는 프로그래머가 아니지만 해결해야 할 문제가 속하는 영역에 종사하는 사람이라면 사용할 수 있고, 다른 클래스 또는 외부 요소와 독립적으로 디자인하여야 한다.\n",
    "\n",
    "\n",
    "* 인스턴스 - 클래스의 인스턴스(실제로 메모리상에 할당된 것)이다. 객체는 자신 고유의 속성(attribute)을 가지며 클래스에서 정의한 행위(behavior)를 수행할 수 있다. 객체의 행위는 클래스에 정의된 행위에 대한 정의를 공유함으로써 메모리를 경제적으로 사용한다.\n",
    "\n",
    "\n",
    "* 메서드(Method) - 클래스로부터 생성된 객체를 사용하는 방법으로서 객체에 명령을 내리는 것이라 할 수 있다. 메서드는 한 객체의 속성을 조작하는 데 사용된다."
   ]
  },
  {
   "cell_type": "code",
   "execution_count": null,
   "metadata": {},
   "outputs": [],
   "source": [
    "# 복소수를 하나 만들어보고, 타입을 출력해봅시다.\n",
    "img_number = 3 + 4j\n",
    "print(type(img_number ** 2))"
   ]
  },
  {
   "cell_type": "code",
   "execution_count": null,
   "metadata": {},
   "outputs": [],
   "source": [
    "# 허수부랑 실수부를 함께 출력해봅시다.\n",
    "print(img_number.real)\n",
    "print(img_number.imag)"
   ]
  },
  {
   "cell_type": "code",
   "execution_count": null,
   "metadata": {},
   "outputs": [],
   "source": [
    "# 리스트를 하나 만들고 정렬해봅시다.\n",
    "a = [3, 2, 1]\n",
    "a.sort()\n",
    "print(a)\n"
   ]
  },
  {
   "cell_type": "code",
   "execution_count": null,
   "metadata": {},
   "outputs": [],
   "source": [
    "# list class가 할 수 있는 것들을 알아봅시다.\n",
    "print(dir(list))"
   ]
  },
  {
   "cell_type": "markdown",
   "metadata": {},
   "source": [
    "## Turtle\n",
    "> 거북이 클래스로 OOP배우기\n"
   ]
  },
  {
   "cell_type": "code",
   "execution_count": 2,
   "metadata": {},
   "outputs": [],
   "source": [
    "import turtle\n"
   ]
  },
  {
   "cell_type": "code",
   "execution_count": 5,
   "metadata": {},
   "outputs": [
    {
     "data": {
      "text/plain": [
       "<turtle._Screen at 0x15f0bc02d68>"
      ]
     },
     "execution_count": 5,
     "metadata": {},
     "output_type": "execute_result"
    }
   ],
   "source": [
    "turtle.Screen()"
   ]
  },
  {
   "cell_type": "code",
   "execution_count": null,
   "metadata": {},
   "outputs": [],
   "source": [
    "class Form:\n",
    "    name = ''\n",
    "    age = 0\n",
    "    phone = ''\n",
    "    intro = ''\n",
    "    \n",
    "    def submit(teacher):\n",
    "        print(f'{teacher} 선생님에게 제출하였습니다.')\n",
    "\n",
    "form_cho = Form()\n",
    "form_cho.name = '조성규'\n",
    "form_cho.age = 99\n",
    "form_cho.phone = '01098559017'\n",
    "form_cho.intro = 'raccooncho'\n",
    "form_cho.submit('neo')\n",
    "\n",
    "form_tark = Form()\n",
    "form_tack.submit('쓰레기통')"
   ]
  },
  {
   "cell_type": "markdown",
   "metadata": {},
   "source": [
    "## 실습 문제\n",
    "\n",
    "> 프로그래밍으로 나와 친구의 이름을 저장해보세요.\n",
    ">\n",
    "\n",
    "**각자의 명함과 지갑을 만들어봅시다.**\n",
    "\n",
    "* 내 생일, 전화번호, 이메일주소 정보를 담은 변수를 확인해봅시다.\n",
    "\n",
    "* 주머니(pocket)에는 돈(won)을 포함하여 현재 가지고 있는 것을 작성해보세요.\n",
    "\n",
    "* 나는 인사를 하면서 내 명함에 있는 정보 하나를 이야기합니다. `greeting` 함수를 만듭시다.\n",
    "\n",
    "* 나는 주머니에 원하는 것과 갯수를 지정하여 넣을 수 있습니다. \n",
    "\n",
    "  기존에 값이 있으면, 갯수를 추가하고 없으면 새로 만드는 `in_my_pocket` 함수를 만듭시다.\n",
    "  \n",
    "**친구의 정보와 지갑도 만들어봅시다.**"
   ]
  },
  {
   "cell_type": "code",
   "execution_count": null,
   "metadata": {},
   "outputs": [],
   "source": [
    "# 아래에 자유롭게 코드를 작성해보세요.\n",
    "my_info = {\n",
    "    'name': '조성규',\n",
    "    'phone': '01098559017',\n",
    "    'email': 'wjtjdrb@naver.com'\n",
    "}\n",
    "my_pocket = {\n",
    "    'money' : 4000,\n",
    "    'card' : 3,\n",
    "    'id_card' : 2,\n",
    "    'trash' : 'a lot',\n",
    "}\n",
    "\n",
    "def greeting(info):\n",
    "    return f\" Hi, my name is {info['name']} {'\\n'} my phone number is {info['phone']} {'\\n'} email adress is {info['email']} \"\n",
    "    \n",
    "def in_my_pocket(pocket, stuff, count):\n",
    "    if pocket.get(stuff):\n",
    "        pocket[stuff] += count\n",
    "    else:\n",
    "        pocket[stuff] = count\n",
    "    return pocket\n",
    "\n",
    "print(greeting(my_info))\n",
    "\n",
    "in_my_pocket(my_pocket, 'money', 1)"
   ]
  },
  {
   "cell_type": "code",
   "execution_count": null,
   "metadata": {},
   "outputs": [],
   "source": [
    "def info_add(name, birthday, phone, bloodtype, getup, sleep):\n",
    "    info = {}\n",
    "    info['name'] = name\n",
    "    info['birthday'] = birthday\n",
    "    info['phone'] = phone\n",
    "    info['bloodtype'] = bloodtype\n",
    "    info['getup'] = getup\n",
    "    info['sleep'] = sleep\n",
    "    return info\n",
    "\n",
    "csk = info_add('조성규', '920527', '01098559017', 'AB', '알람끄기', '유산균먹기')\n",
    "pcm = info_add('박찬미', '910604', '01052953958', 'A', '물마시기', '미드보기')\n",
    "jsh = info_add('지상현', '950912', '01050242683', 'O', '거울보기', '스트레칭')\n",
    "\n",
    "mates = {\n",
    "    'cho': csk,\n",
    "    'park': pcm,\n",
    "    'ji': jsh\n",
    "}\n",
    "mates\n"
   ]
  },
  {
   "cell_type": "code",
   "execution_count": null,
   "metadata": {},
   "outputs": [],
   "source": [
    "def arrive(mate):\n",
    "    if mate['name'] == '조성규':\n",
    "        print('출석을 찍는다.')\n",
    "        print('물을 뜬다.')\n",
    "        print('화장실을 간다.')\n",
    "        \n",
    "arrive(csk)\n"
   ]
  },
  {
   "cell_type": "code",
   "execution_count": 7,
   "metadata": {
    "scrolled": true
   },
   "outputs": [
    {
     "name": "stdout",
     "output_type": "stream",
     "text": [
      "조성규는 자기전에 유산균먹기를 합니다.\n",
      "703\n"
     ]
    }
   ],
   "source": [
    "class Mate:\n",
    "    classroom = 703\n",
    "    ban = 3\n",
    "    def __init__(self, name, birthday, phone, blood, getup, sleep):\n",
    "        self.name = name\n",
    "        self.birthday = birthday\n",
    "        self.phone = phone\n",
    "        self.blood = blood\n",
    "        self.getup = getup\n",
    "        self.sleep = sleep\n",
    "    def get_info(self):\n",
    "        print(self.name, self.birthday, self.phone, self.blood, self.getup, self.sleep)\n",
    "    def before_sleep(self):\n",
    "        print(f'{self.name}는 자기전에 {self.sleep}를 합니다.')\n",
    "    \n",
    "    \n",
    "cho = Mate('조성규', '920527', '01098559017', 'AB', '알람끄기', '유산균먹기')\n",
    "cho.before_sleep()\n",
    "print(cho.classroom)"
   ]
  },
  {
   "cell_type": "code",
   "execution_count": null,
   "metadata": {},
   "outputs": [],
   "source": [
    "class Text:\n",
    "    def __init__(self, content):\n",
    "        self.content = content\n",
    "    def view_all(self):\n",
    "        print(content)\n",
    "    def is_palindrome(self):\n",
    "        txt = self.content.replace(' ', '').lower()\n",
    "        return txt == ''.join(reversed(txt))\n",
    "    def start_hangman(self):\n",
    "        guess = input('한글자만 넣어라')\n",
    "        if guess in self.content:\n",
    "            print('오!맞음')\n",
    "        else:\n",
    "            print('ㅅㄱ')\n",
    "    \n",
    "        \n",
    "my_text = Text('A santa at NASA')\n",
    "\n",
    "print(my_text.is_palindrome())\n",
    "\n",
    "your_text = Text('apple')\n",
    "your_text.start_hangman()"
   ]
  },
  {
   "cell_type": "code",
   "execution_count": null,
   "metadata": {},
   "outputs": [],
   "source": []
  },
  {
   "cell_type": "code",
   "execution_count": null,
   "metadata": {},
   "outputs": [],
   "source": [
    "# in_my_pocket 함수를 통해 내 주머니에 내용을 추가해봅시다."
   ]
  },
  {
   "cell_type": "code",
   "execution_count": null,
   "metadata": {},
   "outputs": [],
   "source": [
    "# greeting 함수를 통해 인사를 해봅시다.\n",
    "#=> 안녕, kim이야. 01012345678"
   ]
  },
  {
   "cell_type": "markdown",
   "metadata": {},
   "source": [
    "# 클래스 및 인스턴스"
   ]
  },
  {
   "cell_type": "markdown",
   "metadata": {},
   "source": [
    "## 클래스 객체\n",
    "\n",
    "```python\n",
    "class ClassName:\n",
    "    \n",
    "```\n",
    "\n",
    "* 선언과 동시에 클래스 객체가 생성됨.\n",
    "\n",
    "* 또한, 선언된 공간은 지역 스코프로 사용된다.\n",
    "\n",
    "* 정의된 어트리뷰트 중 변수는 멤버 변수로 불리운다.\n",
    "\n",
    "* 정의된 함수(`def`)는 메서드로 불리운다."
   ]
  },
  {
   "cell_type": "code",
   "execution_count": 4,
   "metadata": {},
   "outputs": [
    {
     "name": "stdout",
     "output_type": "stream",
     "text": [
      "<class 'type'>\n",
      "<class '__main__.TestClass'>\n",
      "This is Test Class\n"
     ]
    }
   ],
   "source": [
    "# Class를 만들어봅시다.\n",
    "class TestClass:\n",
    "    \"\"\"This is Test Class\"\"\"\n",
    "    \n",
    "print(type(TestClass))\n",
    "    \n",
    "tc = TestClass()\n",
    "print(type(tc))\n",
    "print(tc.__doc__)"
   ]
  },
  {
   "cell_type": "code",
   "execution_count": 25,
   "metadata": {},
   "outputs": [
    {
     "name": "stdout",
     "output_type": "stream",
     "text": [
      "HELLO!\n"
     ]
    },
    {
     "data": {
      "text/plain": [
       "'홍길동'"
      ]
     },
     "execution_count": 25,
     "metadata": {},
     "output_type": "execute_result"
    }
   ],
   "source": [
    "# Person 클래스를 만들어봅시다.\n",
    "class Person:\n",
    "    name = '홍길동'\n",
    "    \n",
    "    def say_hi(self):\n",
    "        print('HELLO!')\n",
    "        \n",
    "    def intro(self):\n",
    "        print(f'I am {self.name}')\n",
    "p = Person()\n",
    "p.say_hi()\n",
    "p.name"
   ]
  },
  {
   "cell_type": "markdown",
   "metadata": {},
   "source": [
    "* 선언시 self는 반드시 작성해주세요! 나중에 설명드립니다."
   ]
  },
  {
   "cell_type": "markdown",
   "metadata": {},
   "source": [
    "## 인스턴스 객체\n",
    "\n",
    "* 인스턴스 객체는 `ClassName()`을 호출함으로써 선언된다.\n",
    "\n",
    "* 인스턴스 객체와 클래스 객체는 서로 다른 이름 공간을 가지고 있다.\n",
    "\n",
    "* 인스턴스 -> 클래스 -> 전역 순으로 탐색을 한다."
   ]
  },
  {
   "cell_type": "code",
   "execution_count": 26,
   "metadata": {},
   "outputs": [],
   "source": [
    "# iu라는 클래스 Person의 인스턴스를 만들어봅시다. \n",
    "iu = Person()\n",
    "    "
   ]
  },
  {
   "cell_type": "code",
   "execution_count": 27,
   "metadata": {},
   "outputs": [
    {
     "name": "stdout",
     "output_type": "stream",
     "text": [
      "HELLO!\n"
     ]
    }
   ],
   "source": [
    "# 인사하는 메서드를 호출해봅시다.\n",
    "iu.say_hi()"
   ]
  },
  {
   "cell_type": "code",
   "execution_count": 28,
   "metadata": {},
   "outputs": [
    {
     "data": {
      "text/plain": [
       "'홍길동'"
      ]
     },
     "execution_count": 28,
     "metadata": {},
     "output_type": "execute_result"
    }
   ],
   "source": [
    "# iu의 이름을 확인해봅시다.\n",
    "iu.name"
   ]
  },
  {
   "cell_type": "code",
   "execution_count": 29,
   "metadata": {},
   "outputs": [
    {
     "name": "stdout",
     "output_type": "stream",
     "text": [
      "IU\n"
     ]
    }
   ],
   "source": [
    "# iu로 이름을 바꿔주세요.\n",
    "iu.name = 'IU'\n",
    "print(iu.name)"
   ]
  },
  {
   "cell_type": "code",
   "execution_count": 30,
   "metadata": {},
   "outputs": [
    {
     "name": "stdout",
     "output_type": "stream",
     "text": [
      "I am IU\n"
     ]
    }
   ],
   "source": [
    "# iu가 인사를 합니다.\n",
    "iu.intro()"
   ]
  },
  {
   "cell_type": "code",
   "execution_count": 34,
   "metadata": {},
   "outputs": [
    {
     "data": {
      "text/plain": [
       "True"
      ]
     },
     "execution_count": 34,
     "metadata": {},
     "output_type": "execute_result"
    }
   ],
   "source": [
    "# iu와 Person이 같은지 확인해보겠습니다.\n",
    "isinstance(iu, Person)\n",
    "isinstance('a', str)"
   ]
  },
  {
   "cell_type": "code",
   "execution_count": 35,
   "metadata": {},
   "outputs": [
    {
     "data": {
      "text/plain": [
       "True"
      ]
     },
     "execution_count": 35,
     "metadata": {},
     "output_type": "execute_result"
    }
   ],
   "source": [
    "# iu와 Person이 같은지 확인해보겠습니다\n",
    "type(iu) == Person"
   ]
  },
  {
   "cell_type": "code",
   "execution_count": 36,
   "metadata": {},
   "outputs": [
    {
     "name": "stdout",
     "output_type": "stream",
     "text": [
      "<__main__.Person object at 0x000001F509CC50F0>\n"
     ]
    }
   ],
   "source": [
    "# iu를 출력해봅시다.\n",
    "print(iu)"
   ]
  },
  {
   "cell_type": "code",
   "execution_count": 37,
   "metadata": {},
   "outputs": [
    {
     "data": {
      "text/plain": [
       "<__main__.Person at 0x1f509cc50f0>"
      ]
     },
     "execution_count": 37,
     "metadata": {},
     "output_type": "execute_result"
    }
   ],
   "source": [
    "# iu를 출력해봅시다 2.\n",
    "iu"
   ]
  },
  {
   "cell_type": "code",
   "execution_count": 38,
   "metadata": {},
   "outputs": [
    {
     "data": {
      "text/plain": [
       "__main__.Person"
      ]
     },
     "execution_count": 38,
     "metadata": {},
     "output_type": "execute_result"
    }
   ],
   "source": [
    "# type을 확인해봅시다.\n",
    "type(iu)"
   ]
  },
  {
   "cell_type": "markdown",
   "metadata": {},
   "source": [
    "* 파이썬 출력의 비밀 : repr, str"
   ]
  },
  {
   "cell_type": "code",
   "execution_count": null,
   "metadata": {},
   "outputs": [],
   "source": []
  },
  {
   "cell_type": "code",
   "execution_count": 39,
   "metadata": {},
   "outputs": [],
   "source": [
    "# 강다니엘을 만들어봅시다.\n",
    "강다니엘 = Person()"
   ]
  },
  {
   "cell_type": "code",
   "execution_count": 44,
   "metadata": {},
   "outputs": [
    {
     "name": "stdout",
     "output_type": "stream",
     "text": [
      "<__main__.Person object at 0x000001F509CC5128> Daniel\n"
     ]
    }
   ],
   "source": [
    "# 강다니엘을 출력해봅시다.\n",
    "강다니엘.name = 'Daniel'\n",
    "\n",
    "print(강다니엘, 강다니엘.name)\n"
   ]
  },
  {
   "cell_type": "markdown",
   "metadata": {},
   "source": [
    "## 실습 문제 발전\n",
    "\n",
    "> 지금까지 배운 것을 통해서 Person 클래스를 만들고, 친구와 나를 표현해봅시다.\n",
    ">\n",
    "> 주머니와 정보를 가지고 있고 (멤버 변수)\n",
    "> \n",
    "> 인사(`greeting()`)와 주머니에 내용을 추가(`in_my_pocket()`)할 수 있습니다. (메서드)\n",
    ">\n",
    "> 추가적으로 `get_my_pocket()`으로 지갑에 담긴 정보를 가져와 봅시다.\n",
    ">\n",
    "> 그리고 사람을 출력하면, 지갑을 제외한 정보를 보여줘보세요. "
   ]
  },
  {
   "cell_type": "code",
   "execution_count": null,
   "metadata": {},
   "outputs": [],
   "source": [
    "# 아래에 코드를 작성해주세요.    "
   ]
  },
  {
   "cell_type": "markdown",
   "metadata": {},
   "source": [
    "## MyList만들기\n",
    "\n",
    "> 이제 배운 것을 활용하여 나만의 리스트 객체를 만들 수 있습니다. \n",
    ">\n",
    "> `class MyList:`\n",
    ">\n",
    "\n",
    "```\n",
    "* 변수\n",
    "data : 비어 있는 리스트\n",
    "\n",
    "* 메서드 \n",
    "append : 값을 받아 추가합니다.\n",
    "pop : 마지막에 있는 값을 없애고, 해당 값을 리턴합니다.\n",
    "reverse : 제자리에서 뒤집고 리턴 값은 없습니다.\n",
    "count(x) : x의 갯수를 반환합니다.\n",
    "clear : 값을 모두 삭제합니다.\n",
    "\n",
    "__repr__ : ex) '리스트 내용 1, 2, 3'\n",
    "```"
   ]
  },
  {
   "cell_type": "code",
   "execution_count": null,
   "metadata": {},
   "outputs": [],
   "source": [
    "# 아래에 코드를 작성해주세요."
   ]
  },
  {
   "cell_type": "markdown",
   "metadata": {},
   "source": [
    "## 자유롭게 만들어보기\n",
    "\n",
    "> 이 세상에 있는 무엇인가를 자유롭게 표현해주세요."
   ]
  },
  {
   "cell_type": "code",
   "execution_count": 158,
   "metadata": {},
   "outputs": [
    {
     "name": "stdout",
     "output_type": "stream",
     "text": [
      "꼬북이가 피카츄에게 물대포를 시도하였다.\n",
      "효과가 부족했다.\n",
      "15의 데미지를 주었다.\n",
      "꼬북이의 스피드가 1 떨어졌다.\n",
      "피카츄의 체력이 35 남았다.\n",
      "\n",
      "피카츄가 꼬북이에게 10만볼트를 시도하였다.\n",
      "효과가 굉장했다.\n",
      "20의 데미지를 주었다.\n",
      "피카츄의 스피드가 1 떨어졌다.\n",
      "꼬북이의 체력이 130 남았다.\n",
      "\n",
      "꼬북이가 피카츄에게 몸통박치기를 시도하였다.\n",
      "15의 데미지를 주었다.\n",
      "피카츄의 체력이 20 남았다.\n",
      "\n",
      "피카츄가 꼬북이에게 몸통박치기를 시도하였다.\n",
      "5의 데미지를 주었다.\n",
      "꼬북이의 체력이 125 남았다.\n",
      "\n",
      "꼬북이가 피카츄에게 몸통박치기를 시도하였다.\n",
      "15의 데미지를 주었다.\n",
      "피카츄의 체력이 5 남았다.\n",
      "\n",
      "피카츄가 꼬북이에게 10만볼트를 시도하였다.\n",
      "효과가 굉장했다.\n",
      "20의 데미지를 주었다.\n",
      "피카츄의 스피드가 1 떨어졌다.\n",
      "꼬북이의 체력이 105 남았다.\n",
      "\n",
      "꼬북이가 피카츄에게 몸통박치기를 시도하였다.\n",
      "15의 데미지를 주었다.\n",
      "피카츄의 체력이 -10 남았다.\n",
      "\n",
      "피카츄는 더이상 싸울 힘이 없다.\n",
      "꼬북이이 전투에서 이기고 5의 경험치를 획득하였다!!\n"
     ]
    }
   ],
   "source": [
    "# 아래에 코드를 작성해주세요.\n",
    "class Pokemon:\n",
    "    \n",
    "    def __init__(self, name, level, element):\n",
    "        elements = ['elec', 'water', 'fire', 'leef']\n",
    "        element_attacks = ['10만볼트', '물대포', '화염방사', '잎날가르기']\n",
    "        self.name = name\n",
    "        self.level = level\n",
    "        self.HP = level * 10\n",
    "        self.vapp = 5\n",
    "        self.speed = level * 2\n",
    "        self.element = elements.index(element)\n",
    "        self.e_attack = element_attacks[self.element]\n",
    "    def set_HP(self, point):\n",
    "        self.HP += point\n",
    "    def check_status(self):\n",
    "        if self.HP <= 0:\n",
    "            return False\n",
    "        else:\n",
    "            return self.HP\n",
    "    def body_attack(self, enemy):\n",
    "        enemy.set_HP(-self.level)\n",
    "        print(f'{self.name}가 {enemy.name}에게 몸통박치기를 시도하였다.')\n",
    "        print(f'{self.level}의 데미지를 주었다.')\n",
    "    def element_attack(self, enemy):\n",
    "        if self.element == enemy.element + 1:\n",
    "            if self.vapp > 0:\n",
    "                print(f'{self.name}가 {enemy.name}에게 {self.e_attack}를 시도하였다.')\n",
    "                print(f'효과가 부족했다.')\n",
    "                print(f'{self.level * 1}의 데미지를 주었다.')\n",
    "                print(f'{self.name}의 스피드가 1 떨어졌다.')\n",
    "                self.speed -= 1\n",
    "                enemy.set_HP(-self.level * 1)\n",
    "                self.vapp -= 1\n",
    "            else:\n",
    "                print(f'{self.name}는 pp가 부족하여 더 이상 {self.e_attack}를 사용할 수 없다.')\n",
    "                print(f'대신 몸통 박치기를 하였다.')\n",
    "                enemy.set_HP(-self.level)\n",
    "                print(f'{self.level}의 데미지를 주었다.')\n",
    "        elif self.element == enemy.element - 1:\n",
    "            if self.vapp > 0:\n",
    "                print(f'{self.name}가 {enemy.name}에게 {self.e_attack}를 시도하였다.')\n",
    "                print('효과가 굉장했다.')\n",
    "                print(f'{self.level * 4}의 데미지를 주었다.')\n",
    "                print(f'{self.name}의 스피드가 1 떨어졌다.')\n",
    "                self.speed -= 1\n",
    "                enemy.set_HP(-self.level * 4)\n",
    "                self.vapp -= 1\n",
    "            else:\n",
    "                print(f'{self.name}는 pp가 부족하여 더 이상 {self.e_attack}를 사용할 수 없다.')\n",
    "                print(f'대신 몸통 박치기를 하였다.')\n",
    "                enemy.set_HP(-self.level)\n",
    "                print(f'{self.level}의 데미지를 주었다.')\n",
    "        else:\n",
    "            if self.vapp > 0:\n",
    "                print(f'{self.name}가 {self.enemy.name}에게 {self.e_attack}를 시도하였다.')\n",
    "                print(f'{self.level * 2}의 데미지를 주었다.')\n",
    "                print(f'{self.name}의 스피드가 1 떨어졌다.')\n",
    "                self.speed -= 1\n",
    "                enemy.set_HP(-self.level * 2)\n",
    "                self.vapp -= 1\n",
    "            else:\n",
    "                print(f'{self.name}는 pp가 부족하여 더 이상 {self.e_attack}를 사용할 수 없다.')\n",
    "                print(f'대신 몸통 박치기를 하였다.')\n",
    "                enemy.set_HP(-self.level)\n",
    "                print(f'{self.level}의 데미지를 주었다.')\n",
    "\n",
    "    \n",
    "    \n",
    "    \n",
    "    \n",
    "    \n",
    "a = Pokemon('피카츄', 5, 'elec')\n",
    "b = Pokemon('꼬북이', 15, 'water')\n",
    "\n",
    "import random\n",
    "\n",
    "while a.check_status() and b.check_status():\n",
    "    if a.speed > b.speed:\n",
    "        aattack = random.choice([1, 2])\n",
    "        if aattack == 1:\n",
    "            a.body_attack(b)\n",
    "        else:\n",
    "            a.element_attack(b)\n",
    "        print(f'{b.name}의 체력이 {b.HP} 남았다.\\n')\n",
    "        if b.check_status() == False:\n",
    "            break\n",
    "        battack = random.choice([1, 2])\n",
    "        if battack == 1:\n",
    "            b.body_attack(a)\n",
    "        else:\n",
    "            b.element_attack(a)\n",
    "        print(f'{a.name}의 체력이 {a.HP} 남았다.\\n')\n",
    "    elif a.speed == b.speed:\n",
    "        order = random.choice([1, 2])\n",
    "        if order == 1:\n",
    "            aattack = random.choice([1, 2])\n",
    "            if aattack == 1:\n",
    "                a.body_attack(b)\n",
    "            else:\n",
    "                a.element_attack(b)\n",
    "            print(f'{b.name}의 체력이 {b.HP} 남았다.\\n')\n",
    "            if b.check_status() == False:\n",
    "                break\n",
    "            battack = random.choice([1, 2])\n",
    "            if battack == 1:\n",
    "                b.body_attack(a)\n",
    "            else:\n",
    "                b.element_attack(a)\n",
    "            print(f'{a.name}의 체력이 {a.HP} 남았다.\\n')\n",
    "        else:\n",
    "            battack = random.choice([1, 2])\n",
    "            if battack == 1:\n",
    "                b.body_attack(a)\n",
    "            else:\n",
    "                b.element_attack(a)\n",
    "            print(f'{a.name}의 체력이 {a.HP} 남았다.\\n')\n",
    "            if a.check_status() == False:\n",
    "                break\n",
    "            aattack = random.choice([1, 2])\n",
    "            if aattack == 1:\n",
    "                a.body_attack(b)\n",
    "            else:\n",
    "                a.element_attack(b) \n",
    "            print(f'{b.name}의 체력이 {b.HP} 남았다.\\n')\n",
    "    else:\n",
    "        battack = random.choice([1, 2])\n",
    "        if battack == 1:\n",
    "            b.body_attack(a)\n",
    "        else:\n",
    "            b.element_attack(a)\n",
    "        print(f'{a.name}의 체력이 {a.HP} 남았다.\\n')\n",
    "        if a.check_status() == False:\n",
    "            break\n",
    "        aattack = random.choice([1, 2])\n",
    "        if aattack == 1:\n",
    "            a.body_attack(b)\n",
    "        else:\n",
    "            a.element_attack(b)\n",
    "        print(f'{b.name}의 체력이 {b.HP} 남았다.\\n')\n",
    "if a.check_status() == False:\n",
    "    print(f'{a.name}는 더이상 싸울 힘이 없다.')\n",
    "    print(f'{b.name}이 전투에서 이기고 {a.level}의 경험치를 획득하였다!!')\n",
    "else:\n",
    "    print(f'{b.name}는 더이상 싸울 힘이 없다.')\n",
    "    print(f'{a.name}이 전투에서 이기고 {b.level}의 경험치를 획득하였다!!')"
   ]
  }
 ],
 "metadata": {
  "kernelspec": {
   "display_name": "Python 3",
   "language": "python",
   "name": "python3"
  },
  "language_info": {
   "codemirror_mode": {
    "name": "ipython",
    "version": 3
   },
   "file_extension": ".py",
   "mimetype": "text/x-python",
   "name": "python",
   "nbconvert_exporter": "python",
   "pygments_lexer": "ipython3",
   "version": "3.6.7"
  },
  "latex_envs": {
   "LaTeX_envs_menu_present": true,
   "autoclose": false,
   "autocomplete": true,
   "bibliofile": "biblio.bib",
   "cite_by": "apalike",
   "current_citInitial": 1,
   "eqLabelWithNumbers": true,
   "eqNumInitial": 1,
   "hotkeys": {
    "equation": "Ctrl-E",
    "itemize": "Ctrl-I"
   },
   "labels_anchors": false,
   "latex_user_defs": false,
   "report_style_numbering": false,
   "user_envs_cfg": false
  },
  "toc": {
   "base_numbering": 1,
   "nav_menu": {},
   "number_sections": true,
   "sideBar": true,
   "skip_h1_title": false,
   "title_cell": "Table of Contents",
   "title_sidebar": "Contents",
   "toc_cell": false,
   "toc_position": {},
   "toc_section_display": true,
   "toc_window_display": false
  }
 },
 "nbformat": 4,
 "nbformat_minor": 2
}
