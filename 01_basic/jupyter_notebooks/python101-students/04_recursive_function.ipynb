{
 "cells": [
  {
   "cell_type": "code",
   "execution_count": null,
   "metadata": {},
   "outputs": [],
   "source": [
    "# 애니메이션을 위해 꼭 실행시켜주세요.\n",
    "from IPython.display import IFrame    "
   ]
  },
  {
   "cell_type": "markdown",
   "metadata": {},
   "source": [
    "# 재귀 함수(recursive function)\n",
    "\n",
    "재귀 함수는 함수 내부에서 자기 자신을 호출 하는 함수를 뜻한다."
   ]
  },
  {
   "cell_type": "markdown",
   "metadata": {},
   "source": [
    "## 실습 문제 - 팩토리얼 계산\n",
    "\n",
    "> `팩토리얼(factorial)`을 계산하는 함수 `fact(n)`를 작성해봅시다. \n",
    ">\n",
    "> n은 1보다 큰 정수라고 가정하고, 팩토리얼을 계산한 값을 반환합니다.\n",
    "\n",
    "$$\n",
    "\\displaystyle n! = \\prod_{ k = 1 }^{ n }{ k }\n",
    "$$\n",
    "\n",
    "$$\n",
    "\\displaystyle n! = 1*2*3*...*(n-1)*n\n",
    "$$\n",
    "\n",
    "---\n",
    "```\n",
    "예시 출력)\n",
    "120\n",
    "```"
   ]
  },
  {
   "cell_type": "code",
   "execution_count": null,
   "metadata": {},
   "outputs": [],
   "source": [
    "# 아래에 코드를 작성해주세요."
   ]
  },
  {
   "cell_type": "code",
   "execution_count": null,
   "metadata": {},
   "outputs": [],
   "source": [
    "# 아래의 코드를 통해 fact(5) 함수를 호출해주세요.\n",
    "def fact(n):\n",
    "    f = 1\n",
    "    for i in range(1, n+1):\n",
    "        f = f * i\n",
    "    return f\n",
    "\n",
    "print(fact(5))"
   ]
  },
  {
   "cell_type": "code",
   "execution_count": null,
   "metadata": {},
   "outputs": [],
   "source": [
    "def fact(n):\n",
    "    f = 1\n",
    "    while n > 1:\n",
    "        f = f * n\n",
    "        n -= 1\n",
    "    return f\n",
    "\n",
    "print(fact(5))"
   ]
  },
  {
   "cell_type": "markdown",
   "metadata": {},
   "source": [
    "## 예제 문제 - 재귀를 이용한 팩토리얼 계산\n",
    "\n",
    "```\n",
    "1! = 1\n",
    "2! = 1 * 2 = 1! * 2 \n",
    "3! = 1 * 2 * 3 = 2! * 3\n",
    "```"
   ]
  },
  {
   "cell_type": "code",
   "execution_count": null,
   "metadata": {},
   "outputs": [],
   "source": [
    "# 아래에 재귀함수를 이용한 팩토리얼 계산을 해봅시다."
   ]
  },
  {
   "cell_type": "code",
   "execution_count": null,
   "metadata": {},
   "outputs": [],
   "source": [
    "# 아래의 코드를 통해 factorial(5) 함수를 호출해주세요.\n",
    "def factorial(n):\n",
    "    if n == 1:\n",
    "        return n\n",
    "    else:\n",
    "        return n * factorial(n-1)\n",
    "    \n",
    "factorial(5)"
   ]
  },
  {
   "cell_type": "code",
   "execution_count": null,
   "metadata": {},
   "outputs": [],
   "source": [
    "# 실행 오류 뜨면 제일 상단에 import를 반드시 해주세요.\n",
    "IFrame(\"https://goo.gl/8Cmw2X\", width='100%', height='500px')"
   ]
  },
  {
   "cell_type": "markdown",
   "metadata": {},
   "source": [
    "* 재귀 함수는 기본적으로 같은 문제이지만 점점 범위가 줄어드는 문제를 풀게 된다.\n",
    "\n",
    "* 재귀함수를 작성시에는 반드시, `base case`가 존재 하여야 한다. \n",
    "\n",
    "* `base case`는 점점 범위가 줄어들어 반복되지 않는 최종적으로 도달하는 곳이다. \n",
    "\n",
    "재귀를 이용한 팩토리얼 계산에서의 base case는 n이 1일때, 함수가 아닌 정수 반환하는 것이다."
   ]
  },
  {
   "cell_type": "markdown",
   "metadata": {},
   "source": [
    "* 자기 자신을 호출하는 재귀함수는 알고리즘 구현시 많이 사용된다.\n",
    "* 코드가 더 직관적이고 이해하기 쉬운 경우가 있음. (하지만, 만들기는 어려움)\n",
    "* [Python Tutor](https://goo.gl/k1hQYz)에 보면, 함수가 호출될 때마다 메모리 공간에 쌓이는 것을 볼 수 있다. \n",
    "* 이 경우, 메모리 스택이 넘치거나(Stack overflow) 프로그램 실행 속도가 늘어지는 단점이 생긴다.\n",
    "* 파이썬에서는 이를 방지하기 위해 1,000번이 넘어가게 되면 더이상 함수를 호출하지 않고, 종료된다."
   ]
  },
  {
   "cell_type": "code",
   "execution_count": null,
   "metadata": {},
   "outputs": [],
   "source": [
    "# 여기에서 오류를 확인해보자!"
   ]
  },
  {
   "cell_type": "markdown",
   "metadata": {},
   "source": [
    "## 실습문제 - 피보나치 수열\n",
    "\n",
    "> 피보나치 수열은 다음과 같은 점화식이 있다. \n",
    ">\n",
    "> 피보나치 값을 리턴하는 두가지 방식의 코드를 모두 작성해보자.\n",
    "\n",
    "$$\n",
    "\\displaystyle F_0 = F_1 = 1\n",
    "$$\n",
    "\n",
    "$$\n",
    "F_n=F_{n-1}+F_{n-2}\\qquad(n\\in\\{2,3,4,\\dots\\})\n",
    "$$\n",
    "\n",
    "1) `fib(n)` : 재귀함수\n",
    "\n",
    "2) `fib_loop(n)` : 반복문 활용한 함수\n",
    "\n",
    "---\n",
    "```\n",
    "예시 입력)\n",
    "fib(10)\n",
    "\n",
    "예시 호출)\n",
    "89\n",
    "```"
   ]
  },
  {
   "cell_type": "code",
   "execution_count": null,
   "metadata": {},
   "outputs": [],
   "source": [
    "# 아래에 재귀를 이용한 코드를 작성해주세요."
   ]
  },
  {
   "cell_type": "code",
   "execution_count": null,
   "metadata": {},
   "outputs": [],
   "source": [
    "# 아래의 코드를 통해 fib 함수를 호출해주세요.\n",
    "def fib(n):\n",
    "    if n in (0, 1):\n",
    "        return 1\n",
    "    elif n > 1:\n",
    "        return fib(n-1) + fib(n-2)\n",
    "fib(23)"
   ]
  },
  {
   "cell_type": "code",
   "execution_count": null,
   "metadata": {},
   "outputs": [],
   "source": [
    "# 아래에 반복문을 이용한 코드를 작성해주세요."
   ]
  },
  {
   "cell_type": "code",
   "execution_count": null,
   "metadata": {},
   "outputs": [],
   "source": [
    "# 아래의 코드를 통해 fib_loop(5) 함수를 호출해주세요.\n",
    "def fib_loop(n):\n",
    "    result_1 = 0\n",
    "    result_2 = 0\n",
    "    for i in range(0, n + 1):\n",
    "        if i == 1:\n",
    "            result_2 = 1\n",
    "            return result_2\n",
    "        elif i == 0:\n",
    "            result_1 = 1\n",
    "            return result_1\n",
    "        elif i % 2:\n",
    "            result_1 = result_1 + result_2\n",
    "            if i == n:\n",
    "                return result_1\n",
    "        else:\n",
    "            result_2 = result_1 + result_2\n",
    "            if i == n:\n",
    "                return result_2\n",
    "            \n",
    "fib_loop(1)"
   ]
  },
  {
   "cell_type": "code",
   "execution_count": null,
   "metadata": {},
   "outputs": [],
   "source": [
    "def fib_loop(n):\n",
    "    result = [1, 1]\n",
    "    for i in range(1, n):\n",
    "        result.append(result[-1] + result[-2])\n",
    "    return result[-1]\n",
    "\n",
    "fib_loop(0)\n",
    "fib_loop(1)\n",
    "fib_loop(2)"
   ]
  },
  {
   "cell_type": "markdown",
   "metadata": {},
   "source": [
    "## 반복문과 재귀 함수의 차이"
   ]
  },
  {
   "cell_type": "code",
   "execution_count": null,
   "metadata": {},
   "outputs": [],
   "source": [
    "# 큰 숫자를 재귀로 짜여진 fib()함수의 인자로 넘겨보세요.\n",
    "fib(33)"
   ]
  },
  {
   "cell_type": "code",
   "execution_count": null,
   "metadata": {
    "scrolled": true
   },
   "outputs": [],
   "source": [
    "# 100배 되는 숫자를 반복문으로 짜여진 fib_loop()인자로 넘겨보세요.\n",
    "fib_loop(3300)"
   ]
  },
  {
   "cell_type": "code",
   "execution_count": null,
   "metadata": {
    "scrolled": false
   },
   "outputs": [],
   "source": [
    "# 실행 오류 뜨면 제일 상단에 import를 반드시 해주세요.\n",
    "IFrame('https://goo.gl/JZ7s15', width='100%', height='300px')"
   ]
  },
  {
   "cell_type": "markdown",
   "metadata": {},
   "source": [
    "### 실습문제 - chicken coupon\n",
    "> ex) 치킨쿠폰 3장을 모으면 한마리를 줍니다. 한마리를 시키면 한장을 줍니다. n장이 있을 때, 몇 마리까지 먹을 수 있을 까요?\n",
    "> ex) 10장: 7장 + 1장 => 5장 + 1장 =>...."
   ]
  },
  {
   "cell_type": "code",
   "execution_count": null,
   "metadata": {},
   "outputs": [],
   "source": [
    "def chicken_coupon(n, base=3):\n",
    "    c = n // base\n",
    "    if n < base:\n",
    "        return c\n",
    "    else:\n",
    "        c = c + chicken_coupon(c + n%base)\n",
    "        return c\n",
    "    \n",
    "chicken_coupon(50, 5)"
   ]
  },
  {
   "cell_type": "markdown",
   "metadata": {},
   "source": [
    "### 실습문제 - 개미수열 (Look and Say)\n",
    ">숫자를 세어서 몇개인지 말해요\n",
    "``` \n",
    "n = 1\n",
    "[1]\n",
    "n = 2\n",
    "[1, 1]\n",
    "n = 3\n",
    "[1, 2]\n",
    "n = 4\n",
    "[1, 1, 2, 1]\n",
    ".\n",
    ".\n",
    ".\n",
    "```"
   ]
  },
  {
   "cell_type": "code",
   "execution_count": null,
   "metadata": {},
   "outputs": [],
   "source": [
    "def look_say(n):\n",
    "    if n == 1:\n",
    "        return [1]\n",
    "    elif n == 2:\n",
    "        return [1, 1]\n",
    "    else:\n",
    "        result = [1]\n",
    "        count = 1   \n",
    "        while len(look_say(n-1)) == 0:\n",
    "            if len(look_say(n-1)) >= 2:\n",
    "                if look_say(n-1)[0] == look_say(n-1)[1]:\n",
    "                    count += 1\n",
    "                    look_say(n-1).remove(look_say(n-1)[0])\n",
    "                elif look_say(n-1)[0] != look_say(n-1)[1]:\n",
    "                    result.append(count)\n",
    "                    count = 1\n",
    "                    result.append(look_say(n-1)[0])\n",
    "            else:\n",
    "                if look_say(n-1)[0] == result[-1]:\n",
    "                    count += 1\n",
    "                    result.append(count)    \n",
    "                else:\n",
    "                    result.append(count)\n",
    "                    count = 1\n",
    "                    result.append(look_say(n-1)[0])\n",
    "                    result.append(count)\n",
    "                look_say(n-1).remove(look_say(n-1)[0])\n",
    "        return result\n",
    "print(look_say(2))"
   ]
  },
  {
   "cell_type": "code",
   "execution_count": null,
   "metadata": {},
   "outputs": [],
   "source": [
    "def look_say(n):\n",
    "    count = 1\n",
    "    if n == 1:\n",
    "        return [1]\n",
    "    elif n >= 2:\n",
    "        result = [1]\n",
    "        loook = look_say(n-1)\n",
    "        while len(loook) >= 2:\n",
    "            if loook[0] == loook[1]:\n",
    "                count += 1\n",
    "            elif loook[0] != loook[1]:\n",
    "                result.append(count)\n",
    "                result.append(loook[1])\n",
    "                count = 1\n",
    "            loook.remove(loook[0])\n",
    "        if result[-1] == loook[0]:\n",
    "            result.append(count)\n",
    "        else:\n",
    "            result.append(count)\n",
    "            count = 1\n",
    "            result.append(loook[0])\n",
    "            result.append(count)\n",
    "        loook.remove(loook[0])\n",
    "        return result\n",
    "\n",
    "print(look_say(8))\n",
    "            "
   ]
  },
  {
   "cell_type": "code",
   "execution_count": 1,
   "metadata": {},
   "outputs": [
    {
     "name": "stdout",
     "output_type": "stream",
     "text": [
      "[1, 1, 2, 3, 1, 2, 3, 1, 1, 1]\n"
     ]
    }
   ],
   "source": [
    "def look_say(n, remain=[1], result=[]):\n",
    "    if n == 0:\n",
    "        return remain\n",
    "    look = remain[0]\n",
    "    say = 0\n",
    "    for index, number in enumerate(remain):\n",
    "        if number == look: # 보던 애가 계속 나오면\n",
    "            say += 1\n",
    "        else: # 못 보던 애가 나오면\n",
    "            del(remain[0:index])\n",
    "            break\n",
    "    else:        # start앞을 버린다.\n",
    "        remain = []\n",
    "    result = result + [look, say]\n",
    "        # result뒤에 look과 say를 붙인다.\n",
    "    if not remain:\n",
    "        return look_say(n-1, result, [])\n",
    "        # remain이 비어있다면\n",
    "        # return look_say(n-1, ,)\n",
    "    else:\n",
    "        return look_say(n, remain, result)\n",
    "        #remain이 남아 있다면\n",
    "        #return look_say(n, ,)\n",
    "        \n",
    "            \n",
    "print(look_say(7))"
   ]
  },
  {
   "cell_type": "code",
   "execution_count": null,
   "metadata": {},
   "outputs": [],
   "source": [
    "def look_say(n):\n",
    "    if n == 0:\n",
    "        return [1]\n",
    "    else:\n",
    "        result = []\n",
    "        my_list = look_say(n-1)\n",
    "        temp = my_list[0]\n",
    "        count = 0\n",
    "        for i in my_list:\n",
    "            if i == temp:\n",
    "                count += 1\n",
    "            else:\n",
    "                result.append(temp)\n",
    "                result.append(count)\n",
    "                count = 1\n",
    "            temp = i\n",
    "        else:\n",
    "            result.append(temp)\n",
    "            result.append(count)\n",
    "        return result\n",
    "    \n",
    "print(look_say(7))\n",
    "        "
   ]
  },
  {
   "cell_type": "code",
   "execution_count": 1,
   "metadata": {},
   "outputs": [
    {
     "name": "stdout",
     "output_type": "stream",
     "text": [
      "[1, 1, 2, 2, 1, 3]\n"
     ]
    }
   ],
   "source": [
    "def look_say(n):\n",
    "    if n == 0:\n",
    "        return [1]\n",
    "    else:\n",
    "        list_1 = look_say(n-1)\n",
    "        list_2 = []\n",
    "        number = 0\n",
    "        num_cnt = 0\n",
    "        i = 0\n",
    "        while i < len(list_1):\n",
    "            if number != list_1[i]:\n",
    "                if i != 0:\n",
    "                    list_2.append(num_cnt)\n",
    "                list_2.append(list_1[i])\n",
    "                number = list_1[i]\n",
    "                num_cnt = 1\n",
    "            else:\n",
    "                num_cnt += 1\n",
    "            i += 1\n",
    "        list_2.append(num_cnt)\n",
    "        return list_2\n",
    "print(look_say(5))"
   ]
  },
  {
   "cell_type": "markdown",
   "metadata": {},
   "source": [
    "## 실습문제 - 하노이의 탑\n",
    "\n",
    "> 다음은 하노이의 탑이다. \n",
    ">\n",
    "> 하노이의 탑을 풀이하는 해법(한쪽 탑의 원판을 다른 탑으로 모두 옮기는 법을 출력하는 함수를 만드세요.\n",
    "\n",
    "<br>\n",
    "<br>\n",
    "<center>\n",
    "    <img src=\"./images/04/hanoi.gif\", alt=\"\">\n",
    "</center>\n",
    "\n",
    "1. 한 번에 한개의 층만을 다른 기둥으로 옮길 수 있다\n",
    "2. 옮기려는 기둥에는 아무것도 없거나 옮기려는 층보다 큰 층이 있을 경우에만 옮길 수 있다\n",
    "3. 옮기려는 기둥에 옮기려는 층보다 작은 층이 이미 있을 경우 그 기둥으로 옮길 수 없다.\n",
    "4. 가능한 적은 회수로 전체 탑을 다른 기둥으로 옮긴다."
   ]
  },
  {
   "cell_type": "code",
   "execution_count": null,
   "metadata": {},
   "outputs": [],
   "source": [
    "# 아래에 코드를 작성해주세요.\n",
    "def hanoi(n, from_pos, to_pos, aux_pos):\n",
    "    if n == 1:\n",
    "        print(from_pos, \"->\", to_pos)\n",
    "        return\n",
    "    hanoi(n - 1, from_pos, aux_pos, to_pos)\n",
    "    print(from_pos, \"->\", to_pos)\n",
    "    hanoi(n - 1, aux_pos, to_pos, from_pos)\n",
    "        \n",
    "hanoi(5, '1번', '2번', '3번')    \n"
   ]
  }
 ],
 "metadata": {
  "kernelspec": {
   "display_name": "Python 3",
   "language": "python",
   "name": "python3"
  },
  "language_info": {
   "codemirror_mode": {
    "name": "ipython",
    "version": 3
   },
   "file_extension": ".py",
   "mimetype": "text/x-python",
   "name": "python",
   "nbconvert_exporter": "python",
   "pygments_lexer": "ipython3",
   "version": "3.6.7"
  },
  "latex_envs": {
   "LaTeX_envs_menu_present": true,
   "autoclose": false,
   "autocomplete": true,
   "bibliofile": "biblio.bib",
   "cite_by": "apalike",
   "current_citInitial": 1,
   "eqLabelWithNumbers": true,
   "eqNumInitial": 1,
   "hotkeys": {
    "equation": "Ctrl-E",
    "itemize": "Ctrl-I"
   },
   "labels_anchors": false,
   "latex_user_defs": false,
   "report_style_numbering": false,
   "user_envs_cfg": false
  },
  "toc": {
   "base_numbering": 1,
   "nav_menu": {},
   "number_sections": true,
   "sideBar": true,
   "skip_h1_title": false,
   "title_cell": "Table of Contents",
   "title_sidebar": "Contents",
   "toc_cell": false,
   "toc_position": {},
   "toc_section_display": true,
   "toc_window_display": false
  }
 },
 "nbformat": 4,
 "nbformat_minor": 2
}
