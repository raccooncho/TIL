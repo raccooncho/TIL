{
 "cells": [
  {
   "cell_type": "markdown",
   "metadata": {},
   "source": [
    "두 개의 정수 n과 m이 주어집니다. 반복문을 사용하지 않고 별(*) 문자를 이용해 가로의 길이가 n, 세로의 길이가 m인 직사각형 형태를 출력해 보세요."
   ]
  },
  {
   "cell_type": "code",
   "execution_count": 2,
   "metadata": {},
   "outputs": [],
   "source": [
    "# 문제\n",
    "n = 5\n",
    "m = 9"
   ]
  },
  {
   "cell_type": "code",
   "execution_count": 41,
   "metadata": {},
   "outputs": [
    {
     "name": "stdout",
     "output_type": "stream",
     "text": [
      "***** \n",
      "***** \n",
      "***** \n",
      "***** \n",
      "***** \n",
      "***** \n",
      "***** \n",
      "***** \n",
      "***** \n",
      "\n"
     ]
    }
   ],
   "source": [
    "# 정답\n",
    "\n",
    "square = ('*' * n)\n",
    "square_complete = (square + ' \\n') *m\n",
    "print(square_complete)"
   ]
  },
  {
   "cell_type": "markdown",
   "metadata": {},
   "source": [
    "다음 딕셔너리에서 평균 점수를 출력하시오."
   ]
  },
  {
   "cell_type": "code",
   "execution_count": 26,
   "metadata": {},
   "outputs": [],
   "source": [
    "# 문제\n",
    "student = { 'python': 80, 'algorithm': 99, 'django': 89, 'flask': 83 }"
   ]
  },
  {
   "cell_type": "code",
   "execution_count": 31,
   "metadata": {},
   "outputs": [
    {
     "data": {
      "text/plain": [
       "87.75"
      ]
     },
     "execution_count": 31,
     "metadata": {},
     "output_type": "execute_result"
    }
   ],
   "source": [
    "# 정답\n",
    "sum(student.values())/len(student.values())"
   ]
  },
  {
   "cell_type": "markdown",
   "metadata": {},
   "source": [
    "다음은 학생들의 혈액형(A, B, AB, O)에 대한 데이터이다. for문을 이용하여 각 혈액형 별 학생수의 합계를 구하시오."
   ]
  },
  {
   "cell_type": "code",
   "execution_count": 64,
   "metadata": {},
   "outputs": [],
   "source": [
    "# 문제\n",
    "blood_types = [ 'A', 'B', 'A', 'O', 'AB', 'AB', 'O', 'A', 'B', 'O', 'B', 'AB' ]"
   ]
  },
  {
   "cell_type": "code",
   "execution_count": 65,
   "metadata": {},
   "outputs": [
    {
     "name": "stdout",
     "output_type": "stream",
     "text": [
      "A형은 3명 이고, B형은 3명 이고, O형은 3명 이며, AB형은 3명 입니다.\n"
     ]
    }
   ],
   "source": [
    "# 정답\n",
    "countA = 0\n",
    "countB = 0\n",
    "countO = 0\n",
    "countAB = 0\n",
    "\n",
    "for i in blood_types:\n",
    "    if i == 'A':\n",
    "        countA += 1 \n",
    "    elif i == 'B':\n",
    "        countB += 1 \n",
    "    elif i == 'O':\n",
    "        countO += 1\n",
    "    elif i == 'AB':\n",
    "        countAB += 1\n",
    "        \n",
    "print(f'A형은 {countA}명 이고, B형은 {countB}명 이고, O형은 {countO}명 이며, AB형은 {countAB}명 입니다.')"
   ]
  }
 ],
 "metadata": {
  "kernelspec": {
   "display_name": "Python 3",
   "language": "python",
   "name": "python3"
  },
  "language_info": {
   "codemirror_mode": {
    "name": "ipython",
    "version": 3
   },
   "file_extension": ".py",
   "mimetype": "text/x-python",
   "name": "python",
   "nbconvert_exporter": "python",
   "pygments_lexer": "ipython3",
   "version": "3.6.7"
  }
 },
 "nbformat": 4,
 "nbformat_minor": 2
}
