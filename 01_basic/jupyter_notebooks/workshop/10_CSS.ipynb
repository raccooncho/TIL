{
 "cells": [
  {
   "cell_type": "markdown",
   "metadata": {},
   "source": [
    "### Selector을 활용한 DOM 탐색 실습.\n",
    "\n",
    "```html\n",
    "<style>\n",
    "    #ssafy > p:nth-child(2) {\n",
    "        color: red;\n",
    "    }\n",
    "</style>\n",
    "<div id=\"ssafy\">\n",
    "    <h2>어떤게 선택될까?</h2>\n",
    "    <p>첫번째 단락</p>\n",
    "    <p>두번째 단락</p>\n",
    "    <p>세번째 단락</p>\n",
    "    <p>네번째 단락</p>\n",
    "</div>\n",
    "```\n",
    "\n",
    "#### `생각하는 대로 선택되지 않을 것이다. 그렇다면 nth-of-type 를 사용해보자`\n",
    "\n",
    "```html\n",
    "<style>\n",
    "    #ssafy > p:nth-of-type(2) {\n",
    "        color: blue;\n",
    "    }\n",
    "</style>\n",
    "<div id=\"ssafy\">\n",
    "    <h2>어떤게 선택될까?</h2>\n",
    "    <p>첫번째 단락</p>\n",
    "    <p>두번째 단락</p>\n",
    "    <p>세번째 단락</p>\n",
    "    <p>네번째 단락</p>\n",
    "</div>\n",
    "```"
   ]
  },
  {
   "cell_type": "markdown",
   "metadata": {},
   "source": [
    "* nth-child(n) : 자식 셀렉터에만 해당하는 개념으로 tag를 가리지 않고 모든 자식 중 n번째 자식에게 해당하는 style을 적용한다.\n",
    "\n",
    "* nth-of-type(n) : 자식 셀렉터 중 원하는 tag에서만 순서를 정하고 그 중 n번째 자식에게 해당하는 style을 적용한다."
   ]
  }
 ],
 "metadata": {
  "kernelspec": {
   "display_name": "Python 3",
   "language": "python",
   "name": "python3"
  },
  "language_info": {
   "codemirror_mode": {
    "name": "ipython",
    "version": 3
   },
   "file_extension": ".py",
   "mimetype": "text/x-python",
   "name": "python",
   "nbconvert_exporter": "python",
   "pygments_lexer": "ipython3",
   "version": "3.6.7"
  }
 },
 "nbformat": 4,
 "nbformat_minor": 2
}
