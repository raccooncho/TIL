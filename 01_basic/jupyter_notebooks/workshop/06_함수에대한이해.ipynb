{
 "cells": [
  {
   "cell_type": "markdown",
   "metadata": {},
   "source": [
    "### 이분법\n",
    "> 양의 정수 x를 입력 받아 제곱근의 근사값의 결과를 반환하는 함수를 작성하세요.\n",
    "\n",
    "> sqrt() 사용 금지"
   ]
  },
  {
   "cell_type": "code",
   "execution_count": 7,
   "metadata": {},
   "outputs": [
    {
     "name": "stdout",
     "output_type": "stream",
     "text": [
      "1.4143\n"
     ]
    }
   ],
   "source": [
    "def root(sample_num, c=6):\n",
    "    count = 0\n",
    "    sample_num = sample_num * 10\n",
    "    down_num = sample_num -1\n",
    "    if count == 1:\n",
    "        while True:\n",
    "            if down_num ** 2 > (10**count) * sample_num:\n",
    "                down_num = down_num -1\n",
    "            elif down_num ** 2 < (10 **count) * sample_num:\n",
    "                down_num = down_num + 1\n",
    "                count += 1\n",
    "                break\n",
    "            else:\n",
    "                sample_num = down_num\n",
    "                count += 1\n",
    "                return sample_num / (10 ** count)        \n",
    "    while count != c:\n",
    "        sample_num = 10 * sample_num\n",
    "        down_num = 10 * down_num -1\n",
    "        while True:\n",
    "            if down_num ** 2 > (10**count) * sample_num:\n",
    "                down_num = down_num -1\n",
    "            elif down_num ** 2 < (10 **count) * sample_num:\n",
    "                down_num = down_num + 1\n",
    "                count += 1\n",
    "                break\n",
    "            else:\n",
    "                sample_num = down_num\n",
    "                count += 1\n",
    "                return sample_num / (10 ** count)\n",
    "    sample_num = down_num\n",
    "    return sample_num / (10 ** count)\n",
    "        \n",
    "print(root(2, 4))"
   ]
  }
 ],
 "metadata": {
  "kernelspec": {
   "display_name": "Python 3",
   "language": "python",
   "name": "python3"
  },
  "language_info": {
   "codemirror_mode": {
    "name": "ipython",
    "version": 3
   },
   "file_extension": ".py",
   "mimetype": "text/x-python",
   "name": "python",
   "nbconvert_exporter": "python",
   "pygments_lexer": "ipython3",
   "version": "3.6.7"
  }
 },
 "nbformat": 4,
 "nbformat_minor": 2
}
