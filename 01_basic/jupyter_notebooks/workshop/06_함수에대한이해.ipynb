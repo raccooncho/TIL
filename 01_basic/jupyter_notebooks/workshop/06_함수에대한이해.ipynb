{
 "cells": [
  {
   "cell_type": "markdown",
   "metadata": {},
   "source": [
    "### 이분법\n",
    "> 양의 정수 x를 입력 받아 제곱근의 근사값의 결과를 반환하는 함수를 작성하세요.\n",
    "\n",
    "> sqrt() 사용 금지"
   ]
  },
  {
   "cell_type": "code",
   "execution_count": 7,
   "metadata": {},
   "outputs": [
    {
     "name": "stdout",
     "output_type": "stream",
     "text": [
      "1.4143\n"
     ]
    }
   ],
   "source": [
    "def root(sample_num, c=6):\n",
    "    count = 0\n",
    "    sample_num = sample_num * 10\n",
    "    down_num = sample_num -1\n",
    "    if count == 1:\n",
    "        while True:\n",
    "            if down_num ** 2 > (10**count) * sample_num:\n",
    "                down_num = down_num -1\n",
    "            elif down_num ** 2 < (10 **count) * sample_num:\n",
    "                down_num = down_num + 1\n",
    "                count += 1\n",
    "                break\n",
    "            else:\n",
    "                sample_num = down_num\n",
    "                count += 1\n",
    "                return sample_num / (10 ** count)        \n",
    "    while count != c:\n",
    "        sample_num = 10 * sample_num\n",
    "        down_num = 10 * down_num -1\n",
    "        while True:\n",
    "            if down_num ** 2 > (10**count) * sample_num:\n",
    "                down_num = down_num -1\n",
    "            elif down_num ** 2 < (10 **count) * sample_num:\n",
    "                down_num = down_num + 1\n",
    "                count += 1\n",
    "                break\n",
    "            else:\n",
    "                sample_num = down_num\n",
    "                count += 1\n",
    "                return sample_num / (10 ** count)\n",
    "    sample_num = down_num\n",
    "    return sample_num / (10 ** count)\n",
    "        \n",
    "print(root(2, 4))"
   ]
  },
  {
   "cell_type": "code",
   "execution_count": 20,
   "metadata": {},
   "outputs": [
    {
     "name": "stdout",
     "output_type": "stream",
     "text": [
      "2.0\n"
     ]
    }
   ],
   "source": [
    "def root(sample_num, c=6):\n",
    "    count = 1\n",
    "    min_n = sample_num - 0.1\n",
    "    while count != (c+1):\n",
    "        if min_n ** 2 > sample_num:\n",
    "            min_n = min_n - 0.1 ** count\n",
    "        elif min_n ** 2 < sample_num:\n",
    "            return round(min_n, c)\n",
    "        else:\n",
    "            min_n = min_n + 0.1 ** count\n",
    "            count += 1\n",
    "    return round(min_n - 0.1 ** c, c)\n",
    "\n",
    "print(root(4, 2))"
   ]
  },
  {
   "cell_type": "code",
   "execution_count": null,
   "metadata": {},
   "outputs": [],
   "source": [
    "n = 2\n",
    "min_n = 1\n",
    "max_n = 2\n",
    "min_n ** 2 < n < max_n ** 2\n",
    "1 < n < 2\n",
    "\n",
    "guess = (min_n + max_n) / 2 # 1.5\n",
    "2 > guess ** 2 2.25\n",
    "2 < guess ** 2\n",
    "\n",
    "max_n = guess # 1.5\n"
   ]
  },
  {
   "cell_type": "code",
   "execution_count": 2,
   "metadata": {},
   "outputs": [
    {
     "name": "stdout",
     "output_type": "stream",
     "text": [
      "10\n",
      "10.0 3.1622\n"
     ]
    }
   ],
   "source": [
    "y = float(input())\n",
    "num = y\n",
    "x = 0\n",
    "ans = 0\n",
    "\n",
    "while abs(ans**2 -abs(num)) > 0.001 and ans <= y:\n",
    "    ans = round((x + y)/2.0, 4)\n",
    "    if ans ** 2 < num:\n",
    "        x = ans\n",
    "    else:\n",
    "        y = ans\n",
    "        \n",
    "print(num, ans)"
   ]
  }
 ],
 "metadata": {
  "kernelspec": {
   "display_name": "Python 3",
   "language": "python",
   "name": "python3"
  },
  "language_info": {
   "codemirror_mode": {
    "name": "ipython",
    "version": 3
   },
   "file_extension": ".py",
   "mimetype": "text/x-python",
   "name": "python",
   "nbconvert_exporter": "python",
   "pygments_lexer": "ipython3",
   "version": "3.6.7"
  }
 },
 "nbformat": 4,
 "nbformat_minor": 2
}
