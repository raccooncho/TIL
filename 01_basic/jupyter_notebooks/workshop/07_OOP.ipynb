{
 "cells": [
  {
   "cell_type": "markdown",
   "metadata": {},
   "source": [
    "## 다음과 같은 클래스 Circle 이 있다.\n",
    "\n",
    "```python\n",
    "    class Circle():\n",
    "    pi = 3.14\n",
    "    x = 0\n",
    "    y = 0\n",
    "    z = 0\n",
    "    \n",
    "    def area(self):\n",
    "        return self.pi * self.r * self.r\n",
    "    def circumference(self):\n",
    "        return 2 * self.pi * self.r\n",
    "    def center(self):\n",
    "        return (self.x, self.y)\n",
    "    def move(self, x, y):\n",
    "        self.x = x\n",
    "        self.y = y\n",
    " ```\n",
    " \n",
    " ### 반지름이 3이고 x, y 좌표가 (2, 3)인 원을 만들어 넓이와 둘레를 출력하세요."
   ]
  },
  {
   "cell_type": "code",
   "execution_count": 1,
   "metadata": {},
   "outputs": [],
   "source": [
    "class Circle():\n",
    "    pi = 3.14\n",
    "    x = 0\n",
    "    y = 0\n",
    "    z = 0\n",
    "    def __init__(self, r):\n",
    "        self.r = r\n",
    "    def area(self):\n",
    "        return self.pi * self.r * self.r\n",
    "    def circumference(self):\n",
    "        return 2 * self.pi * self.r\n",
    "    def center(self):\n",
    "        return (self.x, self.y)\n",
    "    def move(self, x, y):\n",
    "        self.x = x\n",
    "        self.y = y\n",
    " "
   ]
  },
  {
   "cell_type": "code",
   "execution_count": 6,
   "metadata": {},
   "outputs": [
    {
     "name": "stdout",
     "output_type": "stream",
     "text": [
      "원의 넓이는 28.26이고, 원의 둘레는 18.84이며, 원의 중심은 (2, 3)이다.\n"
     ]
    }
   ],
   "source": [
    "my_cir = Circle(3)\n",
    "my_cir.move(2, 3)\n",
    "print(f'원의 넓이는 {round(my_cir.area(), 2)}이고, 원의 둘레는 {my_cir.circumference()}이며, 원의 중심은 {my_cir.center()}이다.')"
   ]
  }
 ],
 "metadata": {
  "kernelspec": {
   "display_name": "Python 3",
   "language": "python",
   "name": "python3"
  },
  "language_info": {
   "codemirror_mode": {
    "name": "ipython",
    "version": 3
   },
   "file_extension": ".py",
   "mimetype": "text/x-python",
   "name": "python",
   "nbconvert_exporter": "python",
   "pygments_lexer": "ipython3",
   "version": "3.6.7"
  }
 },
 "nbformat": 4,
 "nbformat_minor": 2
}
