{
 "cells": [
  {
   "cell_type": "markdown",
   "metadata": {},
   "source": [
    "### 1. HTML은 무엇의 약자인가?\n",
    "\n",
    "(1) Hyperlinks and Text Markup Language\n",
    "\n",
    "(2) HomeTool Markup Language\n",
    "\n",
    "**(3) HyperText Markup Language**\n",
    "\n",
    "(4) HyperTool Markup Language"
   ]
  },
  {
   "cell_type": "markdown",
   "metadata": {},
   "source": [
    "### 2. 다음 중 맞으면 T, 틀리면 F를 기입하시오.\n",
    "* 웹 표준을 만드는 곳은 Mozilla 재단이다. [ F ]\n",
    "* 표(table)을 만들 때에는 반드시 `<th>`태그를 사용해야 한다. [ F ]\n",
    "* 제목(Heading) 태그는 제목 이외에는 사용하지 않는 것이 좋다. [ T ]\n",
    "* 인용문을 가리키는 태그는 `<blockquote>`이다. [ T ]"
   ]
  },
  {
   "cell_type": "markdown",
   "metadata": {},
   "source": [
    "### 3. 보기 중 콘텐츠의 의미를 명확히 하기 위해 HTML5에서 새롭게 추가된 시맨틱(semantic)태그를 모두 선택하시오.\n",
    "[**article**, div, **footer**,**nav**, head, container]"
   ]
  },
  {
   "cell_type": "markdown",
   "metadata": {},
   "source": [
    "### 4. 아래 이미지와 같은 로그인 화면을 생성하는 html코드를 작성하시오\n",
    "ID : user\n",
    "\n",
    "PWD : ****              |로그인|"
   ]
  },
  {
   "cell_type": "markdown",
   "metadata": {},
   "source": [
    "```html\n",
    "<table>\n",
    "    <tr>\n",
    "        <td>\n",
    "            <form>\n",
    "                ID : <input type=\"text\"><br>\n",
    "                PWD : <input type=\"text\">\n",
    "                <button type=\"button\">로그인</button><br>\n",
    "            </form>\n",
    "        </td> \n",
    "    </tr>\n",
    "</table>\n",
    "```"
   ]
  },
  {
   "cell_type": "markdown",
   "metadata": {},
   "source": [
    "```html\n",
    "\n",
    "\n",
    "\n",
    "\n",
    "\n",
    "```"
   ]
  }
 ],
 "metadata": {
  "kernelspec": {
   "display_name": "Python 3",
   "language": "python",
   "name": "python3"
  },
  "language_info": {
   "codemirror_mode": {
    "name": "ipython",
    "version": 3
   },
   "file_extension": ".py",
   "mimetype": "text/x-python",
   "name": "python",
   "nbconvert_exporter": "python",
   "pygments_lexer": "ipython3",
   "version": "3.6.7"
  }
 },
 "nbformat": 4,
 "nbformat_minor": 2
}
