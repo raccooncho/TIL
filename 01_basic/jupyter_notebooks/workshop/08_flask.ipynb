{
 "cells": [
  {
   "cell_type": "markdown",
   "metadata": {},
   "source": [
    "### Flask에서 Dictionary 자료형을 이용하여 다음 조건을 만족하는 ‘나만의 영어 단어장’ 페이지를 만들어보세요.\n",
    "\n",
    "| 주소(route) | /dictionary/<string:word> |\n",
    "|----|----|\n",
    "|페이지에 표시할 내용 | 예) apple은 사과 |\n",
    "\n",
    "> 실행 결과\n",
    ">\n",
    "> 1. 단어가 있는 경우\n",
    ">\n",
    "> localhost:5000/dictionary/apple\n",
    ">\n",
    "> apple은(는) 사과!\n",
    ">\n",
    "> 2. 단어가 없는 경우\n",
    ">\n",
    "> localhost:5000/dictionary/orange\n",
    ">\n",
    "> orange은(는) 나만의 단어장에 없는 단어입니다!"
   ]
  },
  {
   "cell_type": "code",
   "execution_count": null,
   "metadata": {},
   "outputs": [],
   "source": [
    "from flask import Flask\n",
    "\n",
    "app = Flask(__name__)\n",
    "\n",
    "@app.route('/dictionary/<string:word>')\n",
    "def my_dictionary(word):\n",
    "    my_dict = { 'apple': '사과', 'banana': '바나나', 'orange': '오렌지', 'coffe': '커피', 'human': '사람'}\n",
    "    find_word = []\n",
    "    for key, value in my_dict.items():\n",
    "        if word == key:\n",
    "            find_word.append(1)\n",
    "    if 1 in find_word:\n",
    "        return f'{word} is {my_dict[word]}'\n",
    "    else:\n",
    "        return f'{word} is not in my dictionary'\n",
    "\n",
    "if __name__ == '__main__':\n",
    "    app.run(debug=True)"
   ]
  }
 ],
 "metadata": {
  "kernelspec": {
   "display_name": "Python 3",
   "language": "python",
   "name": "python3"
  },
  "language_info": {
   "codemirror_mode": {
    "name": "ipython",
    "version": 3
   },
   "file_extension": ".py",
   "mimetype": "text/x-python",
   "name": "python",
   "nbconvert_exporter": "python",
   "pygments_lexer": "ipython3",
   "version": "3.6.7"
  }
 },
 "nbformat": 4,
 "nbformat_minor": 2
}
