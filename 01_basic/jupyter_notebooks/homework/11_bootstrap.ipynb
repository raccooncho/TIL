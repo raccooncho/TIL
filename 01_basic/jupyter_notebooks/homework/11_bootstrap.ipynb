{
 "cells": [
  {
   "cell_type": "markdown",
   "metadata": {},
   "source": [
    "### 1. 다음은 부트스트랩의 어떤 component이며 아래와 같이 만들려면 어떤 class를 주어야 하는가"
   ]
  },
  {
   "cell_type": "markdown",
   "metadata": {},
   "source": [
    "```html\n",
    "<button class=\"btn btn-danger\">Danger</button>\n",
    "```"
   ]
  },
  {
   "cell_type": "markdown",
   "metadata": {},
   "source": [
    "### 2. 다음은 부트 스트랩의 어떤 component이며 아래와 동일하게 만들어 보시오."
   ]
  },
  {
   "cell_type": "markdown",
   "metadata": {},
   "source": [
    "```html\n",
    "<div class=\"alert alert-info\" role=\"alert\">\n",
    " Hello SSAFY ?!\n",
    "</div>\n",
    "```"
   ]
  },
  {
   "cell_type": "markdown",
   "metadata": {},
   "source": [
    "### 3. 다음 빈칸을 채우시오.\n",
    "    \"부트스트랩 그리드 시스템은 레이아웃을 (12)개의 columne으로, ( ) 개의 반응형 사이즈 조건을 사용하여 구축한다.\""
   ]
  },
  {
   "cell_type": "markdown",
   "metadata": {},
   "source": [
    "### 4. 아래와 같은 분할을 grid system을 활용하여 만들어 보시오."
   ]
  },
  {
   "cell_type": "markdown",
   "metadata": {},
   "source": [
    "```html\n",
    "<!DOCTYPE html>\n",
    "<html lang=\"en\">\n",
    "\n",
    "<head>\n",
    "    <meta charset=\"UTF-8\">\n",
    "    <meta name=\"viewport\" content=\"width=device-width, initial-scale=1.0\">\n",
    "    <link rel=\"stylesheet\" href=\"https://stackpath.bootstrapcdn.com/bootstrap/4.2.1/css/bootstrap.min.css\" integrity=\"sha384-GJzZqFGwb1QTTN6wy59ffF1BuGJpLSa9DkKMp0DgiMDm4iYMj70gZWKYbI706tWS\" crossorigin=\"anonymous\">\n",
    "    <style>\n",
    "        div {\n",
    "            border: 1px solid black;\n",
    "        }\n",
    "\n",
    "        .row {\n",
    "            background-color: moccasin;\n",
    "        }\n",
    "        .col1 {\n",
    "            width: 25%;\n",
    "        }\n",
    "        .col2 {\n",
    "            width: 50%;\n",
    "        }\n",
    "    </style>\n",
    "    <title>Document</title>\n",
    "</head>\n",
    "\n",
    "<body>\n",
    "    <div class=\"container\">\n",
    "        <div class=\"row\">\n",
    "            <div class=\"col\">25%</div>\n",
    "            <div class=\"col-6\">50%</div>\n",
    "            <div class=\"col\">25%</div>\n",
    "        </div>\n",
    "    </div>\n",
    "</body>\n",
    "\n",
    "</html>\n",
    "```"
   ]
  }
 ],
 "metadata": {
  "kernelspec": {
   "display_name": "Python 3",
   "language": "python",
   "name": "python3"
  },
  "language_info": {
   "codemirror_mode": {
    "name": "ipython",
    "version": 3
   },
   "file_extension": ".py",
   "mimetype": "text/x-python",
   "name": "python",
   "nbconvert_exporter": "python",
   "pygments_lexer": "ipython3",
   "version": "3.6.7"
  }
 },
 "nbformat": 4,
 "nbformat_minor": 2
}
