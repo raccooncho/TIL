{
 "cells": [
  {
   "cell_type": "markdown",
   "metadata": {},
   "source": [
    "1) True / False"
   ]
  },
  {
   "cell_type": "markdown",
   "metadata": {},
   "source": [
    "windows 와 unix 계열 운영체제는 CLI(Command Line Interface) 에서 같은 명령어를 사용한다. [F]\n",
    "\n",
    "우리가 사용하는 컴퓨터는 windows 이므로, unix 계열 운영체제 명령어를 학습할 필요가 없다. [F]\n",
    "\n",
    "CLI 는 결국 컴퓨터를 조작하기 위해 사용하는 것이다. [T]\n",
    "\n",
    "CLI 를 통해서 바탕화면에 새로운 파이썬 파일(.py)을 생성할 수 있다.[T]"
   ]
  },
  {
   "cell_type": "markdown",
   "metadata": {},
   "source": [
    "2) 다음 unix 명령어들에 대하여 간략하게 기술하세요"
   ]
  },
  {
   "cell_type": "markdown",
   "metadata": {},
   "source": [
    "ls\n",
    "* 현재 디렉토리에 존재하는 파일 목록을 나열합니다.\n",
    "\n",
    "cd\n",
    "* 뒤에 입력하는 디렉토리로 이동합니다.\n",
    "\n",
    "mkdir\n",
    "* 새로운 디렉토리를 생성합니다.\n",
    "\n",
    "touch\n",
    "* 새로운 파일을 생성합니다."
   ]
  },
  {
   "cell_type": "markdown",
   "metadata": {},
   "source": [
    "3) CLI 와 익숙해지게 되면, Tab키를 매우 빈번하게 사용하게 됩니다. 그 이유는 무엇일까요?\n",
    "\n",
    "(git bash를 켜고 cd Desk까지만 입력 후 탭 키를 눌러 봅시다!)\n"
   ]
  },
  {
   "cell_type": "markdown",
   "metadata": {},
   "source": [
    "\n",
    "원하는 문구를 자동 완성 시켜 줍니다.!"
   ]
  }
 ],
 "metadata": {
  "kernelspec": {
   "display_name": "Python 3",
   "language": "python",
   "name": "python3"
  },
  "language_info": {
   "codemirror_mode": {
    "name": "ipython",
    "version": 3
   },
   "file_extension": ".py",
   "mimetype": "text/x-python",
   "name": "python",
   "nbconvert_exporter": "python",
   "pygments_lexer": "ipython3",
   "version": "3.6.7"
  }
 },
 "nbformat": 4,
 "nbformat_minor": 2
}
