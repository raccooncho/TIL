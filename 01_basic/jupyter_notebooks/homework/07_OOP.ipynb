{
 "cells": [
  {
   "cell_type": "markdown",
   "metadata": {},
   "source": [
    "### 1. 파이썬은 객체지향 프로그래밍 언어입니다.\n",
    "#### 파이썬에서 기본적으로 정의된 클래스 5개만 작성해 보세요."
   ]
  },
  {
   "cell_type": "markdown",
   "metadata": {},
   "source": [
    "> list, str, int, set, dict"
   ]
  },
  {
   "cell_type": "markdown",
   "metadata": {},
   "source": [
    "### 2. 다음 중 틀린 것은?\n",
    "\n",
    "(1) 클래스 내에 정의된 멤버 함수는 ‘메서드(method)’라고 부른다. \n",
    "\n",
    "(2) 클래스는 선언과 동시에 클래스 객체가 생성되며, 인스턴스 객체를 만들면 클래스에서 선언된 메서드를 활용할 수 있다. \n",
    "\n",
    "(3) isinstance(인스턴스 객체, 클래스 객체)를 활용하면 상속 관계까지 확인 가능하다. \n",
    "\n",
    "(4) 생성자는 인스턴트 객체가 생성될 때 자동으로 호출된다. \n",
    "\n",
    "#### **(5) 숫자 5는 그냥 숫자일 뿐 클래스가 없다.**"
   ]
  },
  {
   "cell_type": "markdown",
   "metadata": {},
   "source": [
    "### 3. person 클래스를 정의하고,\n",
    "#### 이름이 '홍길동', 나이가 20인 p1 인스턴스 객체를 만들어 보세요.\n",
    "#### 이름이 '둘리', 나이가 0인 p2 인스턴스 객체를 만들어 보세요.\n",
    "\n",
    "인스턴스 속성 : name, age\n",
    "\n",
    "메서드 : greeting()\n",
    "\n",
    "\n",
    "인스턴스 생성시 이름과 나이를 받으며, 나이가 없는 경우 0으로 설정한다.\n",
    "\n",
    "greeting이 호출되면, 아래와 같이 문자열을 반환한다.\n",
    "```python\n",
    "p1 = Person('홍길동', 20)\n",
    "p1.greeting()\n",
    "# '안녕하세요. 홍길동입니다. 20살입니다.'\n",
    "p2 = Person('둘리')\n",
    "p2.greeting()\n",
    "# '안녕하세요. 둘리입니다. 0살입니다.'\n",
    "```"
   ]
  },
  {
   "cell_type": "code",
   "execution_count": 4,
   "metadata": {},
   "outputs": [
    {
     "name": "stdout",
     "output_type": "stream",
     "text": [
      "안녕하세요. 홍길동입니다. 20살입니다.\n",
      "안녕하세요. 둘리입니다. 0살입니다.\n"
     ]
    }
   ],
   "source": [
    "class Person:\n",
    "    def __init__(self, name, age=0):\n",
    "        self.name = name\n",
    "        self.age = age\n",
    "    def greeting(self):\n",
    "        return f'안녕하세요. {self.name}입니다. {self.age}살입니다.'\n",
    "\n",
    "p1 = Person('홍길동', 20)\n",
    "print(p1.greeting())\n",
    "p2 = Person('둘리')\n",
    "print(p2.greeting())"
   ]
  }
 ],
 "metadata": {
  "kernelspec": {
   "display_name": "Python 3",
   "language": "python",
   "name": "python3"
  },
  "language_info": {
   "codemirror_mode": {
    "name": "ipython",
    "version": 3
   },
   "file_extension": ".py",
   "mimetype": "text/x-python",
   "name": "python",
   "nbconvert_exporter": "python",
   "pygments_lexer": "ipython3",
   "version": "3.6.7"
  }
 },
 "nbformat": 4,
 "nbformat_minor": 2
}
