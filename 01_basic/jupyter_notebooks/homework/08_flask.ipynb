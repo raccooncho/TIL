{
 "cells": [
  {
   "cell_type": "markdown",
   "metadata": {},
   "source": [
    "###  1\n",
    "> Web에서의 커뮤니케이션 방식은 ____(a)____과(와) ____(b)____(으)로 이루어져 있다. \n",
    ">\n",
    "> 브라우저의 주소창에 주 소를 입력하는 것으로 ____(a)____을(를) 보내며, \n",
    ">\n",
    "> 그에 대한 ____(b)____(으)로 HTML, XML, JSON 등의 문서 를 보내준다. \n",
    ">\n",
    "> 각각 (a)와 (b)에 들어갈 말을 작성하시오.\n"
   ]
  },
  {
   "cell_type": "markdown",
   "metadata": {},
   "source": [
    "#### 정답 ) \n",
    "(a) 입력\n",
    "(b) 출력"
   ]
  },
  {
   "cell_type": "markdown",
   "metadata": {},
   "source": [
    "### 2\n",
    ">  Flaks Web Framework는 Python에 내장되어 있는 모듈이 아니므로 별도의 설치가 필요하다. \n",
    ">\n",
    "> Flask를 설치 하기 위하여 bash에서 어떤 명령어를 입력해야 하는지 작성하시오.\n"
   ]
  },
  {
   "cell_type": "markdown",
   "metadata": {},
   "source": [
    "#### 정답)\n",
    ": $ pip install flask"
   ]
  },
  {
   "cell_type": "markdown",
   "metadata": {},
   "source": [
    "### 3\n",
    "> 다음은 가장 기본적인 구조의 Flask 코드이다. \n",
    ">\n",
    "> (a)에 들어갈 코드를 작성하고, 이 코드가 의미하는 것을 설명 하시오.\n",
    "\n",
    "```python\n",
    "[     (a)      ]\n",
    "app = Flask(__name__)\n",
    "\n",
    "@app.route(\"/\")\n",
    "def hello():\n",
    "    return \"Hello World!\"\n",
    "```"
   ]
  },
  {
   "cell_type": "markdown",
   "metadata": {},
   "source": [
    "#### 정답)\n",
    "(a) \n",
    "```python\n",
    "from flask import Flask\n",
    "```\n",
    "flask 로부터 Flask 클래스를 받아온다."
   ]
  },
  {
   "cell_type": "markdown",
   "metadata": {},
   "source": [
    "### 4\n",
    "> 3번 문제에 작성된 Flask 코드가 app.py라는 이름으로 저장되어 있으며\n",
    ">\n",
    "> bash의 현재 위치는 app.py가 있는 곳과 동일하다. \n",
    ">\n",
    "> 이 때, Flask 서버를 실행하기 위하여 어떤 명령어를 입력해야 하는지 작성하시오.\n"
   ]
  },
  {
   "cell_type": "markdown",
   "metadata": {},
   "source": [
    "#### 정답)\n",
    "1. app.py의 맨 아래에 아래와 같은 코드를 입력한다.\n",
    "```python\n",
    "if __name__ == '__main__':\n",
    "    app.run(debug=True)\n",
    "```\n",
    "2. bash에서 `$ python app.py`를 입력한 후 생성된 url을 ctrl + 마우스 왼쪽 클릭을 한다.\n",
    "3. 이 때 개발자 모드가 아니라고 나오는데 이는 bash에서 `$ export FLASK_ENV='development' ; bash ; reset` 을 입력하면 개발자 모드로 변경된다 ."
   ]
  }
 ],
 "metadata": {
  "kernelspec": {
   "display_name": "Python 3",
   "language": "python",
   "name": "python3"
  },
  "language_info": {
   "codemirror_mode": {
    "name": "ipython",
    "version": 3
   },
   "file_extension": ".py",
   "mimetype": "text/x-python",
   "name": "python",
   "nbconvert_exporter": "python",
   "pygments_lexer": "ipython3",
   "version": "3.6.7"
  }
 },
 "nbformat": 4,
 "nbformat_minor": 2
}
