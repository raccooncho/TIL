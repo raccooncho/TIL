{
 "cells": [
  {
   "cell_type": "markdown",
   "metadata": {},
   "source": [
    "Python에서 사용할 수 없는 식별자(예약어)를 찾아 작성하세요"
   ]
  },
  {
   "cell_type": "code",
   "execution_count": 11,
   "metadata": {},
   "outputs": [
    {
     "name": "stdout",
     "output_type": "stream",
     "text": [
      "정답\n"
     ]
    }
   ],
   "source": [
    "# 정답\n",
    "['False', 'None', 'True', 'and', 'as', 'assert',\n",
    " 'break', 'class', 'continue', 'def', 'del', 'elif',\n",
    " 'else', 'except', 'finally', 'for', 'from', 'global',\n",
    " 'if', 'import', 'in', 'is', 'lambda', 'nonlocal', 'not',\n",
    " 'or', 'pass', 'raise', 'return', 'try', 'while', 'with', 'yield']\n",
    "print('정답')"
   ]
  },
  {
   "cell_type": "markdown",
   "metadata": {},
   "source": [
    "파이썬에서는 float는 실수를 표현하는 과정에서 같은 값으로 일치되지 않습니다.\n",
    "(floating point rounding error)\n",
    "따라서, 아래의 값을 비교하기 위해 작성해야 하는 코드를 작성하세요"
   ]
  },
  {
   "cell_type": "code",
   "execution_count": 1,
   "metadata": {},
   "outputs": [],
   "source": [
    "# 문제 \n",
    "a = 0.1 * 3\n",
    "b = 0.3"
   ]
  },
  {
   "cell_type": "code",
   "execution_count": 12,
   "metadata": {},
   "outputs": [
    {
     "data": {
      "text/plain": [
       "True"
      ]
     },
     "execution_count": 12,
     "metadata": {},
     "output_type": "execute_result"
    }
   ],
   "source": [
    "# 정답\n",
    "abs(a - b) <= 1e-10"
   ]
  },
  {
   "cell_type": "markdown",
   "metadata": {},
   "source": [
    "이스케이프 문자열 중 1) 줄바꿈 2) 탭 3) \\을 작성하세요."
   ]
  },
  {
   "cell_type": "code",
   "execution_count": 14,
   "metadata": {},
   "outputs": [
    {
     "name": "stdout",
     "output_type": "stream",
     "text": [
      "줄바꿈은 \n",
      " 탭은 \t 입니다. \\\n"
     ]
    }
   ],
   "source": [
    "# 정답\n",
    "print('줄바꿈은 \\n 탭은 \\t 입니다. \\\\')"
   ]
  },
  {
   "cell_type": "markdown",
   "metadata": {},
   "source": [
    "\"안녕, 철수야\"를 String Interpolation을 사용하여 출력하세요."
   ]
  },
  {
   "cell_type": "code",
   "execution_count": 6,
   "metadata": {},
   "outputs": [],
   "source": [
    "# 문제\n",
    "name = \"철수\""
   ]
  },
  {
   "cell_type": "code",
   "execution_count": 8,
   "metadata": {},
   "outputs": [
    {
     "name": "stdout",
     "output_type": "stream",
     "text": [
      "\"안녕, 철수야\"\n"
     ]
    }
   ],
   "source": [
    "# 정답\n",
    "print(f'\"안녕, {name}야\"')"
   ]
  },
  {
   "cell_type": "markdown",
   "metadata": {},
   "source": [
    "다음 중 형변환 시 오류가 발생하는 것은?"
   ]
  },
  {
   "cell_type": "markdown",
   "metadata": {},
   "source": [
    "# 문제\n",
    "1) str(1) \n",
    "2) int('30')\n",
    "3) int(5)\n",
    "4) bool('50')\n",
    "5) int('3.5')"
   ]
  },
  {
   "cell_type": "code",
   "execution_count": 17,
   "metadata": {},
   "outputs": [
    {
     "ename": "SyntaxError",
     "evalue": "invalid syntax (<ipython-input-17-44d2019c508e>, line 2)",
     "output_type": "error",
     "traceback": [
      "\u001b[1;36m  File \u001b[1;32m\"<ipython-input-17-44d2019c508e>\"\u001b[1;36m, line \u001b[1;32m2\u001b[0m\n\u001b[1;33m    5) int('3.5')\u001b[0m\n\u001b[1;37m     ^\u001b[0m\n\u001b[1;31mSyntaxError\u001b[0m\u001b[1;31m:\u001b[0m invalid syntax\n"
     ]
    }
   ],
   "source": [
    "# 정답 \n",
    "5) int('3.5') # int(3.5)는 되는데 str로 쓰여진 float라서 오류가 난다."
   ]
  }
 ],
 "metadata": {
  "kernelspec": {
   "display_name": "Python 3",
   "language": "python",
   "name": "python3"
  },
  "language_info": {
   "codemirror_mode": {
    "name": "ipython",
    "version": 3
   },
   "file_extension": ".py",
   "mimetype": "text/x-python",
   "name": "python",
   "nbconvert_exporter": "python",
   "pygments_lexer": "ipython3",
   "version": "3.6.7"
  }
 },
 "nbformat": 4,
 "nbformat_minor": 2
}
