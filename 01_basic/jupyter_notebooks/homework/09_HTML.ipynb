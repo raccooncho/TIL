{
 "cells": [
  {
   "cell_type": "markdown",
   "metadata": {},
   "source": [
    "### 클릭하면 https://www.ssafy.com/ 로 이동하는 버튼을 만드시오."
   ]
  },
  {
   "cell_type": "markdown",
   "metadata": {},
   "source": [
    "```html\n",
    "<a href=\"https://www.ssafy.com/\"> button </a> \n",
    "```"
   ]
  },
  {
   "cell_type": "markdown",
   "metadata": {},
   "source": [
    "### 다음 태그에서 잘못된 부분을 찾으시오.\n",
    "\n",
    "```html\n",
    "<img href=\"https://www.google.com/\" alt=\"GOOGLE\">\n",
    "```\n",
    "뒤에 `/`로 끝맺음을 해줘야 함 + href가 아니라 src로 url을 입력해야함"
   ]
  },
  {
   "cell_type": "markdown",
   "metadata": {},
   "source": [
    "### 당신은 현재 Resume.html에서 작업중이다. \"내 사진\"이라는 링크를 누르면 Image폴더 안에 my_photo를 띄워주는 a태그 경로를 넣으시오"
   ]
  },
  {
   "cell_type": "markdown",
   "metadata": {},
   "source": [
    "```html\n",
    "<a href=\"./image/my_photo\" target=\"_blank\">내 사진</a>\n",
    "```"
   ]
  }
 ],
 "metadata": {
  "kernelspec": {
   "display_name": "Python 3",
   "language": "python",
   "name": "python3"
  },
  "language_info": {
   "codemirror_mode": {
    "name": "ipython",
    "version": 3
   },
   "file_extension": ".py",
   "mimetype": "text/x-python",
   "name": "python",
   "nbconvert_exporter": "python",
   "pygments_lexer": "ipython3",
   "version": "3.6.7"
  }
 },
 "nbformat": 4,
 "nbformat_minor": 2
}
