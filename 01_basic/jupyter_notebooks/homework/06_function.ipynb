{
 "cells": [
  {
   "cell_type": "markdown",
   "metadata": {},
   "source": [
    "### 1. 우리가 이제까지 활용했던 print 는 내장합수(built-in function)입니다.\n",
    "> 배웠던 내장 함수 중 5개만 나열해보세요."
   ]
  },
  {
   "cell_type": "code",
   "execution_count": 1,
   "metadata": {},
   "outputs": [
    {
     "ename": "SyntaxError",
     "evalue": "invalid syntax (<ipython-input-1-2098107455f7>, line 1)",
     "output_type": "error",
     "traceback": [
      "\u001b[1;36m  File \u001b[1;32m\"<ipython-input-1-2098107455f7>\"\u001b[1;36m, line \u001b[1;32m1\u001b[0m\n\u001b[1;33m    .up() : str을 모두 대문자로 변경\u001b[0m\n\u001b[1;37m    ^\u001b[0m\n\u001b[1;31mSyntaxError\u001b[0m\u001b[1;31m:\u001b[0m invalid syntax\n"
     ]
    }
   ],
   "source": [
    ".up() : str을 모두 대문자로 변경\n",
    ".lower() : str을 모두 소문자로 변경\n",
    "sum() : 안에 있는 모든 숫자를 합침\n",
    "min() : 가장 작은 수를 출력\n",
    "sorted() : 리스트를 정렬해줌"
   ]
  },
  {
   "cell_type": "markdown",
   "metadata": {},
   "source": [
    "### 2. 다음 중 틀린 것은?"
   ]
  },
  {
   "cell_type": "markdown",
   "metadata": {},
   "source": [
    "**(1) 함수는 오직 하나의 객체만 반환할 수 있어서, return a, b처럼 쓸 수 없다.**\n",
    "(2) 함수에서 return 을 작성하지 않으면 None값을 반환한다.\n",
    "(3) 함수의 인자(parameter)는 함수 선언시 설정한 값이며, 인수(argument)는 함수 호출시 넘겨주는 값이다.\n",
    "(4) 가변인자를 설정할 때는 인자 앞에서 \\(*) 을 붙이고, 이때는 함수 내에서 tuple로 처리된다.\n",
    "(5) 파이썬 활용되는 '스코프(scope)'룰에 따르면 변수에서 값을 Local scope -> Global scope -> Built-in scope순으로 찾는다."
   ]
  },
  {
   "cell_type": "markdown",
   "metadata": {},
   "source": [
    "### 3. 함수의 인자 기본 값을 설정을 활용하여 곱셈의 결과를 반환하는 my_mul을 만들어주세요.\n",
    "\n",
    "예시)  호출 1) my_mul(6)\n",
    "       결과 1) 6\n",
    "       호출 2) my_mul(3, 5)\n",
    "       결과 2) 15"
   ]
  },
  {
   "cell_type": "code",
   "execution_count": 2,
   "metadata": {},
   "outputs": [
    {
     "name": "stdout",
     "output_type": "stream",
     "text": [
      "6\n",
      "15\n"
     ]
    }
   ],
   "source": [
    "def my_mul(num, num2=1):\n",
    "    return num * num2\n",
    "\n",
    "print(my_mul(6))\n",
    "print(my_mul(3, 5))"
   ]
  }
 ],
 "metadata": {
  "kernelspec": {
   "display_name": "Python 3",
   "language": "python",
   "name": "python3"
  },
  "language_info": {
   "codemirror_mode": {
    "name": "ipython",
    "version": 3
   },
   "file_extension": ".py",
   "mimetype": "text/x-python",
   "name": "python",
   "nbconvert_exporter": "python",
   "pygments_lexer": "ipython3",
   "version": "3.6.7"
  }
 },
 "nbformat": 4,
 "nbformat_minor": 2
}
