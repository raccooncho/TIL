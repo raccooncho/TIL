{
 "cells": [
  {
   "cell_type": "code",
   "execution_count": null,
   "metadata": {},
   "outputs": [],
   "source": [
    "last_name = 'Cho '\n",
    "first_name = 'Seong_kyu'"
   ]
  },
  {
   "cell_type": "code",
   "execution_count": null,
   "metadata": {},
   "outputs": [],
   "source": [
    "last_name + first_name"
   ]
  },
  {
   "cell_type": "code",
   "execution_count": null,
   "metadata": {},
   "outputs": [],
   "source": [
    "full_name = last_name + first_name\n",
    "full_name"
   ]
  },
  {
   "cell_type": "code",
   "execution_count": 20,
   "metadata": {},
   "outputs": [
    {
     "name": "stdout",
     "output_type": "stream",
     "text": [
      "최대 공약수는 14\n",
      "최소 공배수는 42\n"
     ]
    }
   ],
   "source": [
    "num1 = 42\n",
    "num2 = 14\n",
    "\n",
    "# 최대 공약수 gcd\n",
    "def gcd(a, b):\n",
    "    if a < b:\n",
    "        (a, b) = (b, a)\n",
    "    while b != 0:\n",
    "        (a, b) = (b, a % b)\n",
    "    return a\n",
    "    \n",
    "# 최소 공배수 lcm\n",
    "def lcm(a, b): \n",
    "    return a * b / gcd(a, b)\n",
    "\n",
    "print(\"최대 공약수는\", gcd(num1, num2))\n",
    "print(\"최소 공배수는\", round(lcm(num1, num2)))"
   ]
  },
  {
   "cell_type": "code",
   "execution_count": 18,
   "metadata": {},
   "outputs": [
    {
     "name": "stdout",
     "output_type": "stream",
     "text": [
      "최대 공약수는 14 입니다.\n",
      "최소 공배수는 42 입니다.\n"
     ]
    }
   ],
   "source": [
    "num1 = 42\n",
    "num2 = 14\n",
    "\n",
    "num_1 = []\n",
    "for i in range(1, num1+1):\n",
    "    if num1 % i == 0:\n",
    "        num_1.append(i)\n",
    "        \n",
    "num_2 = []\n",
    "for i in range(1, num2+1):\n",
    "    if num2 % i == 0:\n",
    "        num_2.append(i)\n",
    "\n",
    "num = set(num_1) & set(num_2)\n",
    "gcd = max(num)\n",
    "print(\"최대 공약수는\", gcd, \"입니다.\")\n",
    "lcm = num1 * num2 / gcd\n",
    "print(\"최소 공배수는\", round(lcm), \"입니다.\")\n",
    "\n",
    "        "
   ]
  }
 ],
 "metadata": {
  "kernelspec": {
   "display_name": "Python 3",
   "language": "python",
   "name": "python3"
  },
  "language_info": {
   "codemirror_mode": {
    "name": "ipython",
    "version": 3
   },
   "file_extension": ".py",
   "mimetype": "text/x-python",
   "name": "python",
   "nbconvert_exporter": "python",
   "pygments_lexer": "ipython3",
   "version": "3.6.7"
  }
 },
 "nbformat": 4,
 "nbformat_minor": 2
}
