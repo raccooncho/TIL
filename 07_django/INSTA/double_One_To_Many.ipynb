{
 "cells": [
  {
   "cell_type": "markdown",
   "metadata": {},
   "source": [
    "# One to Many Model\n",
    "\n",
    "### Writer\n",
    "\n",
    "| id | name |\n",
    "|----|----|\n",
    "| PK, int | Char |\n",
    "\n",
    "### Book\n",
    "\n",
    "| id | author | title | description |\n",
    "| ---- | ---- | ---- | ---- |\n",
    "| PK, int | FK, Writer, int | Char | Text |\n",
    "\n",
    "### Chapter\n",
    "\n",
    "| id | book_id | title | description |\n",
    "| ---- | ---- | ---- | ---- |\n",
    "| PK, int | FK, Book, int | Char | Text |"
   ]
  },
  {
   "cell_type": "code",
   "execution_count": null,
   "metadata": {},
   "outputs": [],
   "source": []
  },
  {
   "cell_type": "code",
   "execution_count": 1,
   "metadata": {},
   "outputs": [
    {
     "data": {
      "text/plain": [
       "<Writer: 2: 이선 브라운>"
      ]
     },
     "execution_count": 1,
     "metadata": {},
     "output_type": "execute_result"
    }
   ],
   "source": [
    "# Writer 객체 생성\n",
    "Writer.objects.create(name='이선 브라운')"
   ]
  },
  {
   "cell_type": "code",
   "execution_count": 2,
   "metadata": {},
   "outputs": [
    {
     "data": {
      "text/plain": [
       "<Book: 3: 러닝 자바스크립트>"
      ]
     },
     "execution_count": 2,
     "metadata": {},
     "output_type": "execute_result"
    }
   ],
   "source": [
    "# Book 객체 생성\n",
    "Book.objects.create(\n",
    "    author=Writer.objects.get(id=2),\n",
    "    title='러닝 자바스크립트',\n",
    "    description='ES6로 제대로 입문하는 모던 자바스크립트 교재'\n",
    ")"
   ]
  },
  {
   "cell_type": "code",
   "execution_count": 3,
   "metadata": {},
   "outputs": [
    {
     "data": {
      "text/plain": [
       "<Book: 4: 러닝 파이썬>"
      ]
     },
     "execution_count": 3,
     "metadata": {},
     "output_type": "execute_result"
    }
   ],
   "source": [
    "Book.objects.create(\n",
    "    author=Writer.objects.get(id=2),\n",
    "    title='러닝 파이썬',\n",
    "    description='python3로 제대로 입문하는 파이썬 개발'\n",
    ")"
   ]
  },
  {
   "cell_type": "code",
   "execution_count": 4,
   "metadata": {},
   "outputs": [
    {
     "data": {
      "text/plain": [
       "<Chapter: 4: 러닝 파이썬 - Python 자료 구조>"
      ]
     },
     "execution_count": 4,
     "metadata": {},
     "output_type": "execute_result"
    }
   ],
   "source": [
    "# Chapter 객체 생성\n",
    "Chapter.objects.create(\n",
    "    book=Book.objects.get(id=3),\n",
    "    title='First App',\n",
    "    description='시작은 브라우저에서',\n",
    ")\n",
    "\n",
    "Chapter.objects.create(\n",
    "    book=Book.objects.get(id=3),\n",
    "    title='tools for development',\n",
    "    description='트랜스컴파일러'\n",
    ")\n",
    "\n",
    "Chapter.objects.create(\n",
    "    book=Book.objects.get(id=4),\n",
    "    title='파이썬 기초문법',\n",
    "    description='변수, 문자열, 숫자, 참/거짓'\n",
    ")\n",
    "\n",
    "Chapter.objects.create(\n",
    "    book=Book.objects.get(id=4),\n",
    "    title='Python 자료 구조',\n",
    "    description='리스트, 딕셔너리, 튜플, 셋'\n",
    ")"
   ]
  },
  {
   "cell_type": "code",
   "execution_count": 5,
   "metadata": {},
   "outputs": [],
   "source": [
    "# 파이썬 배우고 싶다.. 딕셔너리를 찾아볼까?\n",
    "\n",
    "# 딕셔너리라는 챕터 설명이 있는 책의 저자가 쓴 모든 책\n",
    "books = Chapter.objects.filter(description__contains='딕셔너리')[0].book.author.book_set.all()"
   ]
  },
  {
   "cell_type": "code",
   "execution_count": 6,
   "metadata": {},
   "outputs": [
    {
     "data": {
      "text/plain": [
       "<QuerySet [<Book: 3: 러닝 자바스크립트>, <Book: 4: 러닝 파이썬>]>"
      ]
     },
     "execution_count": 6,
     "metadata": {},
     "output_type": "execute_result"
    }
   ],
   "source": [
    "books"
   ]
  },
  {
   "cell_type": "code",
   "execution_count": 9,
   "metadata": {},
   "outputs": [
    {
     "name": "stdout",
     "output_type": "stream",
     "text": [
      "--이선 브라운--\n",
      "러닝 자바스크립트\n",
      "러닝 파이썬\n"
     ]
    }
   ],
   "source": [
    "bookss = Chapter.objects.filter(description__contains='딕셔너리')\n",
    "for i in bookss:\n",
    "    print('--' + i.book.author.name + '--')\n",
    "    a = i.book.author.book_set.all()\n",
    "    for b in a:\n",
    "        print(b.title)"
   ]
  },
  {
   "cell_type": "code",
   "execution_count": 29,
   "metadata": {},
   "outputs": [
    {
     "name": "stdout",
     "output_type": "stream",
     "text": [
      "러닝 자바스크립트\n",
      "러닝 파이썬\n"
     ]
    }
   ],
   "source": [
    "# 책들 중, DB에 있는 2019년에 등록된 모든 책들 중에서 OFFSET 2, LIMIT 3\n",
    "boks = Book.objects.filter(created__year='2019')[2:5] # [OFFSET : OFFSET + LIMIT]\n",
    "for b in boks:\n",
    "    print(b.title)\n"
   ]
  },
  {
   "cell_type": "code",
   "execution_count": 28,
   "metadata": {},
   "outputs": [
    {
     "name": "stdout",
     "output_type": "stream",
     "text": [
      "러닝 자바스크립트\n",
      "러닝 파이썬\n"
     ]
    }
   ],
   "source": [
    "# 책들 중, DB에 있는 2018년에 등록된 모든 책들 중에서 OFFSET 2, LIMIT 3\n",
    "bbooks = Book.objects.filter(created__year__gte='2018')[2:5]\n",
    "for b in bbooks:\n",
    "    print(b.title)"
   ]
  },
  {
   "cell_type": "code",
   "execution_count": 33,
   "metadata": {},
   "outputs": [
    {
     "name": "stdout",
     "output_type": "stream",
     "text": [
      "SELECT \"otom_book\".\"id\", \"otom_book\".\"created\", \"otom_book\".\"modified\", \"otom_book\".\"author_id\", \"otom_book\".\"title\", \"otom_book\".\"description\" FROM \"otom_book\" WHERE \"otom_book\".\"created\" >= 2018-01-01 00:00:00  LIMIT 3 OFFSET 2\n"
     ]
    }
   ],
   "source": [
    "print(bbooks.query)"
   ]
  },
  {
   "cell_type": "code",
   "execution_count": null,
   "metadata": {},
   "outputs": [],
   "source": []
  },
  {
   "cell_type": "code",
   "execution_count": null,
   "metadata": {},
   "outputs": [],
   "source": []
  },
  {
   "cell_type": "code",
   "execution_count": null,
   "metadata": {},
   "outputs": [],
   "source": []
  },
  {
   "cell_type": "code",
   "execution_count": null,
   "metadata": {},
   "outputs": [],
   "source": []
  }
 ],
 "metadata": {
  "kernelspec": {
   "display_name": "Django Shell-Plus",
   "language": "python",
   "name": "django_extensions"
  },
  "language_info": {
   "codemirror_mode": {
    "name": "ipython",
    "version": 3
   },
   "file_extension": ".py",
   "mimetype": "text/x-python",
   "name": "python",
   "nbconvert_exporter": "python",
   "pygments_lexer": "ipython3",
   "version": "3.7.3"
  }
 },
 "nbformat": 4,
 "nbformat_minor": 2
}
